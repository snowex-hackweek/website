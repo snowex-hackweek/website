{
 "cells": [
  {
   "cell_type": "markdown",
   "metadata": {},
   "source": [
    "# Retrieve a Snow Depth Spiral\n",
    "During the SnowEx campaigns a TON of manual snow depths were collected, surveys for hackweek showed an overhelming interest in the manual \n",
    "snow depths dataset. This tutorial shows how easy it is to get at that data in the database\n",
    "\n",
    "\n",
    "**Goal**: Visualize a small subset of snow depths \n",
    "\n",
    "**Approach**: \n",
    "\n",
    "1. Connect to the DB\n",
    "2. Build a query using ORM filtering by dataset and date\n",
    "3. Convert to a GeoDataFrame and plot\n"
   ]
  },
  {
   "cell_type": "markdown",
   "metadata": {},
   "source": [
    "## Process\n",
    "### Step 1: Get connected"
   ]
  },
  {
   "cell_type": "code",
   "execution_count": null,
   "metadata": {},
   "outputs": [],
   "source": [
    "# Import the function to get connect to the db\n",
    "from snowexsql.db import get_db\n",
    "\n",
    "# Import our class for the points table\n",
    "from snowexsql.data import PointData\n",
    "\n",
    "# Import a useful function for plotting and saving queries! See https://snowexsql.readthedocs.io/en/latest/snowexsql.html#module-snowexsql.conversions\n",
    "from snowexsql.conversions import points_to_geopandas\n",
    "\n",
    "# Import some tools to build dates \n",
    "from datetime import date"
   ]
  },
  {
   "cell_type": "code",
   "execution_count": null,
   "metadata": {},
   "outputs": [],
   "source": [
    "# This is what you will use for all of hackweek to access the db\n",
    "db_name = 'snow:hackweek@52.32.183.144/snowex'\n",
    "\n",
    "# Using the function get_db, we receive 2 ways to interact with the database\n",
    "engine, session = get_db(db_name)"
   ]
  },
  {
   "cell_type": "markdown",
   "metadata": {},
   "source": [
    "### Step 2: Build a query using ORM "
   ]
  },
  {
   "cell_type": "code",
   "execution_count": null,
   "metadata": {},
   "outputs": [],
   "source": [
    "# Pick a dataset\n",
    "dataset = 'depth'\n",
    "\n",
    "# Pick a date\n",
    "collection_date = date(2020, 2, 7)\n",
    "\n",
    "# The part inside the query function is what we want back, in this case all columns for the point data\n",
    "q = session.query(PointData)\n",
    "\n",
    "# We then want to filter by the selected the data type depth.\n",
    "q = q.filter(PointData.type == 'depth')\n",
    "\n",
    "# Filter by a date\n",
    "q = q.filter(PointData.date == collection_date)\n",
    "\n",
    "results = q.all()\n",
    "\n",
    "# how many did we retrieve?\n",
    "print(f'{len(results)} records returned!')"
   ]
  },
  {
   "cell_type": "markdown",
   "metadata": {},
   "source": [
    "### Step 3: Convert the data to Geopandas Dataframe and plot it!"
   ]
  },
  {
   "cell_type": "code",
   "execution_count": null,
   "metadata": {
    "tags": [
     "nbsphinx-gallery",
     "nbsphinx-thumbnail"
    ]
   },
   "outputs": [],
   "source": [
    "# Convert the records received to geopandas\n",
    "df = points_to_geopandas(results)\n",
    "\n",
    "# Get the Matplotlib Axes object from the dataframe object, color the points by snow depth value\n",
    "ax = df.plot(column='value', legend=True, cmap='PuBu')\n",
    "\n",
    "# Use non-scientific notation for x and y ticks\n",
    "ax.ticklabel_format(style='plain', useOffset=False)\n",
    "\n",
    "# Set the various plots x/y labels and title.\n",
    "\n",
    "ax.set_title(f'{len(results)} {dataset.title()}s collected on {collection_date.strftime(\"%Y-%m-%d\")}')\n",
    "ax.set_xlabel('Easting [m]')\n",
    "ax.set_ylabel('Northing [m]')\n",
    "\n",
    "# Close the session to avoid hanging transactions\n",
    "session.close()"
   ]
  },
  {
   "cell_type": "markdown",
   "metadata": {
    "tags": [
     "nbsphinx-gallery",
     "nbsphinx-thumbnail"
    ]
   },
   "source": [
    "**Try This**:\n",
    "\n",
    "1. Change the date\n",
    "2. Add a filter to filte by a surveyor\n",
    "    \n",
    "**Hint**: You may need to form two queries just to see what dates and surveyors are in the db"
   ]
  },
  {
   "cell_type": "markdown",
   "metadata": {},
   "source": [
    "## Recap \n",
    "You just explored using ORM and compounding filters results with it\n",
    "\n",
    "**You should know:**\n",
    "* How to build queries using filtering\n",
    "* Where a useful tool like points_to_geopandas lives in the snowexsql library\n",
    "\n",
    "\n",
    "If you don't feel comfortable with these, you are probably not alone, let's discuss it!\n"
   ]
  },
  {
   "cell_type": "code",
   "execution_count": null,
   "metadata": {},
   "outputs": [],
   "source": []
  }
 ],
 "metadata": {
  "kernelspec": {
   "display_name": "Python 3",
   "language": "python",
   "name": "python3"
  },
  "language_info": {
   "codemirror_mode": {
    "name": "ipython",
    "version": 3
   },
   "file_extension": ".py",
   "mimetype": "text/x-python",
   "name": "python",
   "nbconvert_exporter": "python",
   "pygments_lexer": "ipython3",
   "version": "3.8.8"
  }
 },
 "nbformat": 4,
 "nbformat_minor": 4
}

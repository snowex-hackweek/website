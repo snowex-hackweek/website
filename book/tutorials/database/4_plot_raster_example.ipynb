{
 "cells": [
  {
   "cell_type": "markdown",
   "metadata": {},
   "source": [
    "# Find A Raster Tile\n",
    "\n",
    "**Goal**: Find the 3DEP DEM raster tile your pit falls in.\n",
    "\n",
    "**Approach**: \n",
    "1. Grab the pit location from the site data table in the database\n",
    "2. Perform an intersect on all raster tiles with the pit location \n",
    "3. Plot it!\n",
    "\n",
    "## Process"
   ]
  },
  {
   "cell_type": "markdown",
   "metadata": {},
   "source": [
    "### Step 1. Grab the pit location from the Site Data"
   ]
  },
  {
   "cell_type": "code",
   "execution_count": null,
   "metadata": {},
   "outputs": [],
   "source": [
    "#Import our typical DB access function \n",
    "from snowexsql.db import get_db\n",
    "\n",
    "# Import our ORM table classes that were going to use\n",
    "from snowexsql.data import ImageData, SiteData\n",
    "\n",
    "# Rasterio plot function is convenient\n",
    "from rasterio.plot import show\n",
    "import matplotlib.pyplot as plt \n",
    "\n",
    "# To access general SQL functions\n",
    "from sqlalchemy.sql import func\n",
    "\n",
    "# Convert WKB to pyshape\n",
    "from geoalchemy2.shape import to_shape\n",
    "\n",
    "# Builds geodataframes!\n",
    "import geopandas as gpd\n",
    "\n",
    "# Import a useful function from snowexsql to convert incoming data from the db to rasterio dataset objects\n",
    "from snowexsql.conversions import raster_to_rasterio"
   ]
  },
  {
   "cell_type": "code",
   "execution_count": null,
   "metadata": {},
   "outputs": [],
   "source": [
    "# PIT Site Identifier\n",
    "site_id = '5S31'\n",
    "\n",
    "# Connect to the database\n",
    "db_name = 'snow:hackweek@52.32.183.144/snowex'\n",
    "engine, session = get_db(db_name)\n",
    "\n",
    "# Grab our pit location by the site ID\n",
    "q = session.query(SiteData).filter(SiteData.site_id == site_id)\n",
    "sites = q.all()\n",
    "\n",
    "# Grab the pit location from a single layer\n",
    "p = sites[0].geom"
   ]
  },
  {
   "cell_type": "markdown",
   "metadata": {},
   "source": [
    "### Step 2. Perform an intersect on all raster tiles with the pit location "
   ]
  },
  {
   "cell_type": "code",
   "execution_count": null,
   "metadata": {},
   "outputs": [],
   "source": [
    "# Raster Data is stored in Binary. So we use the POSTGIS function to return a a geotiff https://postgis.net/docs/RT_ST_AsTIFF.html\n",
    "q = session.query(func.ST_AsTiff(ImageData.raster))\n",
    "\n",
    "# Filter images that contain the word in 3DEP in their description \n",
    "q = q.filter(ImageData.description.contains('3DEP'))\n",
    "\n",
    "# Filter rasters by where a tile intersects with the pit location using POSTGIS function ST_Intersects https://postgis.net/docs/RT_ST_Intersects.html\n",
    "rasters = q.filter(func.ST_Intersects(ImageData.raster, p)).all()\n",
    "\n",
    "# Convert it to a rasterio dataset for easy plotting\n",
    "dataset = raster_to_rasterio(session, rasters)[0]\n"
   ]
  },
  {
   "cell_type": "markdown",
   "metadata": {},
   "source": [
    "### Step 3. Plot it!"
   ]
  },
  {
   "cell_type": "code",
   "execution_count": null,
   "metadata": {
    "tags": [
     "nbsphinx-thumbnail",
     "nbsphinx-gallery"
    ]
   },
   "outputs": [],
   "source": [
    "fig,ax = plt.subplots()\n",
    "\n",
    "# Plot the rasterio dataset\n",
    "show(dataset.read(1), ax=ax, transform=dataset.transform, cmap='gist_ncar')\n",
    "\n",
    "# Add to our plot the pit location\n",
    "p_shp = to_shape(p)\n",
    "gpd.GeoSeries(p_shp).plot(ax=ax, color='k', marker='^', label=\"Site {}\".format(site_id))\n",
    "\n",
    "# Add some labeling\n",
    "ax.ticklabel_format(style='plain', useOffset=False)\n",
    "ax.set_xlabel('Easting [m]')\n",
    "ax.set_ylabel('Northing [m]')\n",
    "ax.set_title('Pit {} and Corresponding 3DEP DEM Tile'.format(site_id))\n",
    "a = ax.legend()"
   ]
  },
  {
   "cell_type": "code",
   "execution_count": null,
   "metadata": {},
   "outputs": [],
   "source": [
    "# Close all our datasets held in memory\n",
    "dataset.close()\n",
    "\n",
    "# Close the session to avoid hanging transactions\n",
    "session.close()"
   ]
  },
  {
   "cell_type": "code",
   "execution_count": null,
   "metadata": {},
   "outputs": [],
   "source": []
  }
 ],
 "metadata": {
  "kernelspec": {
   "display_name": "Python 3",
   "language": "python",
   "name": "python3"
  },
  "language_info": {
   "codemirror_mode": {
    "name": "ipython",
    "version": 3
   },
   "file_extension": ".py",
   "mimetype": "text/x-python",
   "name": "python",
   "nbconvert_exporter": "python",
   "pygments_lexer": "ipython3",
   "version": "3.8.8"
  }
 },
 "nbformat": 4,
 "nbformat_minor": 4
}

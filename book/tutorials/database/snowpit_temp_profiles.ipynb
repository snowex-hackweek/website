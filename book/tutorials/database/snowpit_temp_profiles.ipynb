{
 "cells": [
  {
   "cell_type": "code",
   "execution_count": null,
   "id": "previous-increase",
   "metadata": {},
   "outputs": [],
   "source": [
    "# Import some tools to build dates \n",
    "from datetime import date\n",
    "\n",
    "import pandas as pd\n",
    "\n",
    "import matplotlib.pyplot as plt\n",
    "\n",
    "# Import the function to get connect to the db\n",
    "from snowexsql.db import get_db\n",
    "\n",
    "from snowexsql.data import LayerData, PointData, ImageData, SiteData\n",
    "\n",
    "# Import the function to investigate a table\n",
    "from snowexsql.db import get_table_attributes\n",
    "# Import a useful function to format that data into a dataframe\n",
    "from snowexsql.conversions import query_to_geopandas"
   ]
  },
  {
   "cell_type": "code",
   "execution_count": null,
   "id": "municipal-rescue",
   "metadata": {},
   "outputs": [],
   "source": [
    "# This is what you will use for all of hackweek to access the db\n",
    "db_name = 'snow:hackweek@52.32.183.144/snowex'\n",
    "\n",
    "# Using the function get_db, we receive 2 ways to interact with the database\n",
    "engine, session = get_db(db_name)"
   ]
  },
  {
   "cell_type": "code",
   "execution_count": null,
   "id": "arabic-intranet",
   "metadata": {},
   "outputs": [],
   "source": [
    "# Use the function to see what columns are available to use. \n",
    "db_columns = get_table_attributes(LayerData)\n",
    "\n",
    "# Print out the results nicely\n",
    "print(\"These are the available columns in the table:\\n \\n* {}\\n\".format('\\n* '.join(db_columns)))"
   ]
  },
  {
   "cell_type": "code",
   "execution_count": null,
   "id": "changing-television",
   "metadata": {},
   "outputs": [],
   "source": [
    "# Pick a dataset\n",
    "dataset = 'temperature'\n",
    "\n",
    "# Pick a date\n",
    "collection_date = date(2020, 2, 8)\n",
    "\n",
    "qry = session.query(LayerData)\n",
    "\n",
    "qry = qry.filter(LayerData.type == 'temperature')\n",
    "\n",
    "# Filter by a date\n",
    "#qry = qry.filter(LayerData.date == collection_date)\n",
    "\n",
    "# Limit it to a couple thousand \n",
    "qry = qry.limit(2000)\n",
    "\n",
    "# Execute the query and convert to geopandas in one handy function\n",
    "df = query_to_geopandas(qry, engine)\n",
    "\n",
    "# how many did we retrieve?\n",
    "print(f'{len(df.index)} records returned!')"
   ]
  },
  {
   "cell_type": "markdown",
   "id": "physical-variation",
   "metadata": {},
   "source": [
    "Plot"
   ]
  },
  {
   "cell_type": "code",
   "execution_count": null,
   "id": "speaking-belgium",
   "metadata": {},
   "outputs": [],
   "source": [
    "## Get the Matplotlib Axes object from the dataframe object, color the points by snow depth value\n",
    "#ax = df.plot(column='value', legend=False, cmap='RdBu')\n",
    "#\n",
    "## Use non-scientific notation for x and y ticks\n",
    "#ax.ticklabel_format(style='plain', useOffset=False)\n",
    "#\n",
    "## Set the various plots x/y labels and title.\n",
    "#ax.set_title(f'{len(df.index)} {dataset.title()}s collected on {collection_date.strftime(\"%Y-%m-%d\")}')\n",
    "#ax.set_xlabel('Easting [m]')\n",
    "#ax.set_ylabel('Northing [m]')\n",
    "#\n",
    "## Close the session to avoid hanging transactions\n",
    "#session.close()"
   ]
  },
  {
   "cell_type": "code",
   "execution_count": null,
   "id": "proprietary-fortune",
   "metadata": {},
   "outputs": [],
   "source": [
    "df_pd = pd.DataFrame(df)"
   ]
  },
  {
   "cell_type": "code",
   "execution_count": null,
   "id": "express-daughter",
   "metadata": {},
   "outputs": [],
   "source": [
    "df_pd.columns"
   ]
  },
  {
   "cell_type": "code",
   "execution_count": null,
   "id": "ignored-warrant",
   "metadata": {},
   "outputs": [],
   "source": [
    "# make sure that our snow temperature values are a number\n",
    "df_pd['value'] = df_pd.value.astype(float)\n",
    "# and that site ids are strings\n",
    "df_pd['site_id'] = df_pd.site_id.astype(str)"
   ]
  },
  {
   "cell_type": "markdown",
   "id": "caring-strategy",
   "metadata": {},
   "source": [
    "Vegetation classes\n",
    "\n",
    "    1-3 = treeless (0% tree cover)\n",
    "\n",
    "    4-6 = sparse (1-30% tree cover)\n",
    "\n",
    "    7-9 = dense (31-100% tree cover)\n",
    "\n",
    "Snow Depth classes\n",
    "\n",
    "    1, 4, 7 = shallow (<90cm)\n",
    "\n",
    "    2, 5, 8 = medium (90-122cm)\n",
    "\n",
    "    3, 6, 9 = deep (>122cm)\n",
    "\n",
    "Flight Lines\n",
    "\n",
    "    ‘C’ = Crossline\n",
    "\n",
    "    ‘N’ = North\n",
    "\n",
    "    ‘S’ = South\n"
   ]
  },
  {
   "cell_type": "code",
   "execution_count": null,
   "id": "compatible-venezuela",
   "metadata": {},
   "outputs": [],
   "source": [
    "vegetation_classes = {'0':'na', 'T':'na', 'G':'na', 'F':'na',\n",
    "                      '1':'treeless', '2':'treeless', '3':'treeless', \n",
    "                      '4':'sparse', '5':'sparse', '6':'sparse', \n",
    "                      '7':'dense', '8':'dense', '9':'dense'}\n",
    "snow_classes = {'0':'na', 'T':'na', 'G':'na', 'F':'na',\n",
    "                '1':'shallow', '2':'medium', '3':'deep', \n",
    "                '4':'shallow', '5':'medium', '6':'deep', \n",
    "                '7':'shallow', '8':'medium', '9':'deep'}\n",
    "id_string_prefix = [id_string[0:2] for id_string in df_pd['site_id']]\n",
    "df_pd['veg_class'] = [ vegetation_classes[id_string[0]] for id_string in df_pd['site_id']]\n",
    "df_pd['snow_class'] = [ snow_classes[id_string[0]] for id_string in df_pd['site_id']]"
   ]
  },
  {
   "cell_type": "code",
   "execution_count": null,
   "id": "split-roman",
   "metadata": {},
   "outputs": [],
   "source": [
    "fig, ax = plt.subplots(figsize=(5,5))\n",
    "\n",
    "df_pd.groupby('snow_class').plot(x='value',y='depth', ax=ax, linestyle='-', marker='o');\n",
    "\n",
    "ax.set_title('Snow Pit Temperature Profiles')\n",
    "ax.set_xlabel('Snow temperature ($\\degree C$)')\n",
    "ax.set_xlim((-30,0))\n",
    "ax.set_ylabel('Snow layer depth (cm)')\n",
    "ax.set_ylim((0,120))"
   ]
  },
  {
   "cell_type": "code",
   "execution_count": null,
   "id": "passing-wagner",
   "metadata": {},
   "outputs": [],
   "source": [
    "for i, this_date in enumerate(df_pd.date.unique()):\n",
    "    \n",
    "    fig, ax = plt.subplots(figsize=(5,5))\n",
    "    \n",
    "    df_pd.where(df.date==this_date).groupby('site_id').plot(x='value',y='depth', ax=ax, linestyle='-', marker='o', label='site_id');\n",
    "    \n",
    "    ax.set_title('Snow Pit Temperature Profiles\\n{}'.format(this_date))\n",
    "    ax.set_xlabel('Snow temperature ($\\degree C$)')\n",
    "    ax.set_xlim((-30,0))\n",
    "    ax.set_ylabel('Snow layer depth (cm)')\n",
    "    ax.set_ylim((0,120))"
   ]
  },
  {
   "cell_type": "code",
   "execution_count": null,
   "id": "saving-demonstration",
   "metadata": {},
   "outputs": [],
   "source": []
  }
 ],
 "metadata": {
  "kernelspec": {
   "display_name": "Python 3",
   "language": "python",
   "name": "python3"
  },
  "language_info": {
   "codemirror_mode": {
    "name": "ipython",
    "version": 3
   },
   "file_extension": ".py",
   "mimetype": "text/x-python",
   "name": "python",
   "nbconvert_exporter": "python",
   "pygments_lexer": "ipython3",
   "version": "3.8.8"
  }
 },
 "nbformat": 4,
 "nbformat_minor": 5
}

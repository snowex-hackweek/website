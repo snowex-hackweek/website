{
 "cells": [
  {
   "cell_type": "markdown",
   "id": "caring-fields",
   "metadata": {},
   "source": [
    "# Thermal IR Tutorial 1: Comparing different raster datasets\n",
    "\n",
    "**At the conclusion of this tutorial, you will be able to:**\n",
    "- Access and visualize airborne and satellite thermal infrared imagery\n",
    "- Scale imagery of different spatial resolutions for comparison\n"
   ]
  },
  {
   "cell_type": "code",
   "execution_count": null,
   "id": "suspended-barrel",
   "metadata": {},
   "outputs": [],
   "source": []
  }
 ],
 "metadata": {
  "kernelspec": {
   "display_name": "Python 3",
   "language": "python",
   "name": "python3"
  },
  "language_info": {
   "codemirror_mode": {
    "name": "ipython",
    "version": 3
   },
   "file_extension": ".py",
   "mimetype": "text/x-python",
   "name": "python",
   "nbconvert_exporter": "python",
   "pygments_lexer": "ipython3",
   "version": "3.8.8"
  }
 },
 "nbformat": 4,
 "nbformat_minor": 5
}

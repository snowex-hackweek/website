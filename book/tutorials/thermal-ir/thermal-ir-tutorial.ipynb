{
 "cells": [
  {
   "cell_type": "markdown",
   "id": "assured-narrative",
   "metadata": {},
   "source": [
    "# Thermal Infrared Remote Sensing of Snow\n",
    "\n",
    ":::{admonition} Learning Objectives\n",
    "\n",
    "**At the conclusion of this tutorial, you will be able to:**\n",
    "- understand the differences between sources of thermal IR observations, the advantages and disadvantages of each, and types of research questions we can address with those observations\n",
    "- visualize point and raster thermal infrared datasets together, then compute error statistics between point and raster datasets\n",
    "- access and visualize airborne and satellite thermal infrared imagery, then scale imagery of different spatial resolutions for comparison\n",
    "\n",
    ":::"
   ]
  },
  {
   "cell_type": "markdown",
   "id": "pressing-civilization",
   "metadata": {},
   "source": [
    "**Download the sample datasets for this tutorial**\n",
    "\n",
    "For ease of access during the hackweek, sample files are available for download for running the command in the cell below. (See the bonus notebook \"[thermal-ir-data-download.ipynb](./thermal-ir-data-download.ipynb)\" for more details about data access methods)"
   ]
  },
  {
   "cell_type": "code",
   "execution_count": null,
   "id": "existing-curve",
   "metadata": {},
   "outputs": [],
   "source": [
    "!aws s3 sync --quiet s3://snowex-data/tutorial-data/thermal-ir/ /tmp/thermal-ir/"
   ]
  },
  {
   "cell_type": "markdown",
   "id": "important-indianapolis",
   "metadata": {},
   "source": [
    "**Import the packages we'll need for this tutorial**"
   ]
  },
  {
   "cell_type": "code",
   "execution_count": null,
   "id": "rotary-condition",
   "metadata": {},
   "outputs": [],
   "source": [
    "# Import some general-purpose packages for handling different data structures\n",
    "import numpy as np # for working with n-D arrays\n",
    "import pandas as pd # for reading our csv data file and working with tabular data\n",
    "\n",
    "# Import matplotlib which we'll use for plotting images and graphs\n",
    "import matplotlib.pyplot as plt\n",
    "\n",
    "# Import these packages for working with raster data\n",
    "import xarray as xr # xarray lets us work with n-D arrays and labeled data, such as NetCDF files\n",
    "import rioxarray # rioxarray provides capabilities of the rasterio package to xarray, letting us easily work with files such as GeoTIFFs\n",
    "\n",
    "# Import some packages for working with the SnowEx SQL database\n",
    "from snowexsql.db import get_db # Import the connection function from the snowexsql library\n",
    "from  snowexsql.data import SiteData # Import the table classes from our data module which is where our ORM classes are defined \n",
    "from datetime import date # Import some tools to build dates \n",
    "from snowexsql.conversions import query_to_geopandas # Import a useful function for plotting and saving queries! See https://snowexsql.readthedocs.io/en/latest/snowexsql.html#module-snowexsql.conversions"
   ]
  },
  {
   "cell_type": "markdown",
   "id": "numerous-negotiation",
   "metadata": {},
   "source": [
    "---\n",
    "\n",
    "# Part 1: Comparing airborne IR imagery with ground-truth observations\n",
    "\n",
    "## Airborne IR imagery\n",
    "\n",
    "\n",
    ":::{figure-md} twinotter1\n",
    "  <img src=\"figures/twinotter1.JPG\" width=\"600\">\n",
    "\n",
    "The Naval Postgraduate School Twin Otter aircraft carried the UW APL thermal infrared imager and SWESARR instrument over Grand Mesa for SnowEx 2020. (Photo by Chris Chickadel)\n",
    ":::"
   ]
  },
  {
   "cell_type": "markdown",
   "id": "minor-consortium",
   "metadata": {},
   "source": [
    "Load IR image mosaic geotiff file"
   ]
  },
  {
   "cell_type": "code",
   "execution_count": null,
   "id": "literary-orleans",
   "metadata": {},
   "outputs": [],
   "source": [
    "airborne_ir = xr.open_rasterio('/tmp/thermal-ir/SNOWEX2020_IR_PLANE_2020Feb08_mosaicked_2020-02-08T181915.tif')"
   ]
  },
  {
   "cell_type": "markdown",
   "id": "strong-assembly",
   "metadata": {},
   "source": [
    "Inspect the contents of the file we just opened"
   ]
  },
  {
   "cell_type": "code",
   "execution_count": null,
   "id": "particular-frank",
   "metadata": {},
   "outputs": [],
   "source": [
    "airborne_ir"
   ]
  },
  {
   "cell_type": "code",
   "execution_count": null,
   "id": "enormous-stocks",
   "metadata": {},
   "outputs": [],
   "source": [
    "airborne_ir.rio.crs # original CRS"
   ]
  },
  {
   "cell_type": "markdown",
   "id": "assisted-outside",
   "metadata": {},
   "source": [
    "Under the dataarray's attributes we can see that we have a coordinate reference system already defined (crs) as [EPSG:32612](https://epsg.io/32612). We can also find this through `da.rio.crs`. \n",
    "\n",
    "However, we would like to reproject this into the common projection used by datasets on the SnowEx SQL database: [EPSG:26912](https://epsg.io/26912). We can do that using rioxarray's [reproject](https://corteva.github.io/rioxarray/stable/rioxarray.html#rioxarray.raster_array.RasterArray.reproject) method (see an example [here](https://corteva.github.io/rioxarray/stable/examples/reproject.html))."
   ]
  },
  {
   "cell_type": "code",
   "execution_count": null,
   "id": "registered-guess",
   "metadata": {},
   "outputs": [],
   "source": [
    "airborne_ir = airborne_ir.rio.reproject('EPSG:26912') # overwrite itself with new reprojected data array"
   ]
  },
  {
   "cell_type": "code",
   "execution_count": null,
   "id": "adaptive-wonder",
   "metadata": {},
   "outputs": [],
   "source": [
    "airborne_ir.rio.crs # new CRS"
   ]
  },
  {
   "cell_type": "markdown",
   "id": "higher-editing",
   "metadata": {},
   "source": [
    "Next, the filename shows us when this imagery was taken in UTC time, \"2020-02-08T181915\"\n",
    "\n",
    "We can create a pandas timestamp variable in local time for comparison with other datasets:"
   ]
  },
  {
   "cell_type": "code",
   "execution_count": null,
   "id": "joint-grave",
   "metadata": {},
   "outputs": [],
   "source": [
    "# Create a pandas timestamp, subtract 7 hours from UTC time to get local time (MST, UTC-7)\n",
    "airborne_ir_timestamp = pd.Timestamp(2020,2,8,18,19,15) - pd.Timedelta(hours=7)"
   ]
  },
  {
   "cell_type": "markdown",
   "id": "frank-phase",
   "metadata": {},
   "source": [
    "::::{admonition} What color scale should we use for temperature?\n",
    ":class: dropdown \n",
    "\n",
    "Common advice you may have heard is to [avoid using rainbow color scales](https://jakevdp.github.io/blog/2014/10/16/how-bad-is-your-colormap/). Luckily [matplotlib gives us lots of options](https://matplotlib.org/stable/tutorials/colors/colormaps.html) to choose from.\n",
    "\n",
    "When representing images of temperature, sometimes we want to pick colors that intuitively suggest temperature, such as the \"magma\" colorbar below. Other times we might be interested in both magnitude and sign, such as temperatures above or below melting point, in which case we could use something like \"RdBu_r\" below. I often pick simple greyscale, though less visually interesting, it is sometimes easier to pick out details in a continuous color scale like they \"Greys\" scale below. **Make sure to include a labeled colorbar so your plot can be correctly interpreted!**\n",
    "\n",
    ":::{figure-md} colorbars\n",
    "<img src=\"figures/colorbars.png\" width=\"300\">\n",
    "\n",
    "Some matplotlib color scale options (top to bottom): \"magma\", \"RdBu_r\", \"Greys\"\n",
    ":::\n",
    "\n",
    "::::"
   ]
  },
  {
   "cell_type": "markdown",
   "id": "designed-wheat",
   "metadata": {},
   "source": [
    "Plot the airborne TIR image. \n",
    "* What does our chosen colorscale tell us about temperatures here?\n",
    "* What can we see? "
   ]
  },
  {
   "cell_type": "code",
   "execution_count": null,
   "id": "vital-nothing",
   "metadata": {},
   "outputs": [],
   "source": [
    "fig, ax = plt.subplots(figsize=(20,10)) # create a new matplotlib figure, set the figure size\n",
    "ax.set_aspect('equal') # set the aspect ratio to \"equal\"\n",
    "\n",
    "# plot the airborne infrared image\n",
    "airborne_ir.plot(cmap='magma', vmin=-10, vmax=10,ax=ax, \n",
    "                 cbar_kwargs={'label': 'Temperature $\\degree C$'})\n",
    "\n",
    "# set axes labels\n",
    "ax.set_xlabel('Eastings UTM 12N (m)')\n",
    "ax.set_ylabel('Northings UTM 12N (m)')\n",
    "\n",
    "ax.set_title('Airborne TIR imagery of Grand Mesa, CO (Feb. 8, 2020)');"
   ]
  },
  {
   "cell_type": "markdown",
   "id": "utility-musician",
   "metadata": {},
   "source": [
    ":::{admonition} Image interpretation\n",
    ":class: hint\n",
    "* What does our chosen colorscale tell us about temperatures here?\n",
    "  * The colorbar on the right shows us that colder temperatures are represented with dark purple to black colors.\n",
    "  * Warmer temperatures are represented with lighter orange/yellow.\n",
    "* What can we see?\n",
    "  * We see a narrow stripe of imagery, this is a mosaic of individual camera images taken from the aircraft along a single flight line over Grand Mesa.\n",
    "  * On the left (west) side of the image we see warmer but varied temperatures (yellow, orange, and purple), then an abrupt transition to uniformly cold temperatures (purple). This is the westernmost edge of the mesa where the snow on top is much colder than the lower elevation slopes of the mountain.\n",
    "  * Continuing to move from left (west) to right (east) we see patches of lighter colors, corresponding with warmer temperatures. These are patches of forest on the central and eastern portions of the mesa.\n",
    "  * Finally near the easternmost side of the image we see a very dark region that means it is much colder than the rest of the scene. What might this cold area or object be?\n",
    ":::"
   ]
  },
  {
   "cell_type": "markdown",
   "id": "charitable-toilet",
   "metadata": {},
   "source": [
    "## Bonus activity:\n",
    "To help with our image interpretation, we can load visible imagery taken concurrently from the UW-APL airborne instrument. (Note: this example image is a single band black and white image, though we also have full RGB images available through NSIDC)"
   ]
  },
  {
   "cell_type": "code",
   "execution_count": null,
   "id": "clean-temperature",
   "metadata": {},
   "outputs": [],
   "source": [
    "airborne_vis = xr.open_rasterio('/tmp/thermal-ir/SNOWEX2020_EO_PLANE_2020Feb08_mosaicked_2020-02-08T181915.tif')\n",
    "\n",
    "# note that the filename is identical with the same timestamp, but is labeled \"EO\" (electro-optical) rather than \"IR\" (infrared)"
   ]
  },
  {
   "cell_type": "code",
   "execution_count": null,
   "id": "english-camel",
   "metadata": {},
   "outputs": [],
   "source": [
    "# Also reproject the airborne visible imagery into EPSG:26912\n",
    "airborne_vis = airborne_vis.rio.reproject('EPSG:26912') # overwrite itself with new reprojected data array"
   ]
  },
  {
   "cell_type": "code",
   "execution_count": null,
   "id": "thermal-drawing",
   "metadata": {},
   "outputs": [],
   "source": [
    "airborne_vis"
   ]
  },
  {
   "cell_type": "markdown",
   "id": "approved-brisbane",
   "metadata": {},
   "source": [
    "Plot the visible and infrared images side by side. This time, we will change the x and y axes limits ([set_xlim](https://matplotlib.org/stable/api/_as_gen/matplotlib.axes.Axes.set_xlim.html), and [set_ylim](https://matplotlib.org/stable/api/_as_gen/matplotlib.axes.Axes.set_ylim.html)) to zoom in closer."
   ]
  },
  {
   "cell_type": "code",
   "execution_count": null,
   "id": "meaningful-patient",
   "metadata": {},
   "outputs": [],
   "source": [
    "fig, axs = plt.subplots(nrows=2, ncols=1, figsize=(20,10), tight_layout=True)\n",
    "\n",
    "# Plot the IR imagery\n",
    "airborne_ir.plot(ax=axs[0], \n",
    "                 cmap='magma', \n",
    "                 vmin=-10, vmax=10, \n",
    "                 cbar_kwargs={'label': 'Temperature $\\degree C$'})\n",
    "axs[0].set_title('Airborne IR')\n",
    "\n",
    "# Plot the visible imagery\n",
    "airborne_vis.plot(ax=axs[1], \n",
    "                  cmap='Greys_r',\n",
    "                  cbar_kwargs={'label': 'DN'})\n",
    "axs[1].set_title('Airborne Vis')\n",
    "\n",
    "# for each subplot, do the following:\n",
    "for ax in axs: \n",
    "    ax.set_aspect('equal') # set the aspect ratio to \"equal\"\n",
    "    \n",
    "    # give each axis a label\n",
    "    ax.set_xlabel('Eastings UTM 12N (m)')\n",
    "    ax.set_ylabel('Northings UTM 12N (m)')\n",
    "    \n",
    "    # set the axes limits, units in meters UTM Zone 12N (I chose these values by just looking at the plot above)\n",
    "    ax.set_xlim((735000, 760000)) # x axis limits\n",
    "    ax.set_ylim((4320000, 4325000)) # y axis limits"
   ]
  },
  {
   "cell_type": "markdown",
   "id": "taken-stick",
   "metadata": {},
   "source": [
    ":::{admonition} Image interpretation\n",
    ":class: hint\n",
    "* The visible imagery camera covers a slightly narrower width along the flight path than the IR cameras.\n",
    "* Now what do you think the cold object on the eastern side of the image is?\n",
    ":::"
   ]
  },
  {
   "cell_type": "markdown",
   "id": "hazardous-crest",
   "metadata": {},
   "source": [
    "---\n",
    "\n",
    "## Ground-based temperature observations\n",
    "\n",
    "To provide a source of \"ground truth\" for the airborne and satellite thermal infrared images during the SnowEx 2020 Grand Mesa campaign, we can use ground-based snow surface temperature measurements. On February 5, 2020, we installed a thermal infrared radiometer pointing at the snow surface at snow pit #2S10 (left), and buried temperature sensors beneath the snow surface (right). These logged observations at 5-minute intervals until we removed the instrumentation a week later on February 12.\n",
    "\n",
    ":::{figure-md} snowpit\n",
    "<img src=\"figures/snowpit_2s10.png\" width=\"600\">\n",
    "\n",
    "Snow temperature sensor setup at snow pit 2S10: (left) tripod-mounted thermal ifrared radiometer to measure snow surface, (right) temperature probes to be buried beneath the snow surface.<br/>(Photos by Steven Pestana)\n",
    ":::\n",
    "\n",
    ":::{admonition} What are some of the differences we might expect to see between the ground-based surface temperature data and the thermal IR images?\n",
    ":class: dropdown\n",
    " - *Emissivity differences?* \n",
    "   - Our ground-based radiometer was looking at 45 deg off nadir, versus nadir ASTER versus variable view angle airborne (snow emissivity changes off-nadir)\n",
    " - *Different TIR bandwidths (broad versus narrow)?* \n",
    "   - Ground-based radiometer: 8-14 μm, Airborne IR cameras: 8-14 μm, ASTER band 14: 10.95-11.65 µm\n",
    " - *Different atmospheric path lengths?* \n",
    "   - From <1 meter, to 1 km, to entire atmospheric column (~100 km)\n",
    " - *\"Point\" versus area, and geolocation accuracy*\n",
    "   - The ground-based radiometer is measuring temperature for a spot (not really a single point) maybe ~1m in diameter. The airborne and ASTER imagers have spatial resolutions of 5m and 90m respectively. How confident are we in the geolocation of individual pixels in the imagery?\n",
    "\n",
    ":::\n",
    "\n",
    "\n"
   ]
  },
  {
   "cell_type": "markdown",
   "id": "juvenile-defendant",
   "metadata": {},
   "source": [
    "**Where is snow pit 2S10?**\n",
    "\n",
    "We can find this information through a query to the SnowEx SQL database. First, set up the connection:"
   ]
  },
  {
   "cell_type": "code",
   "execution_count": null,
   "id": "seasonal-compound",
   "metadata": {},
   "outputs": [],
   "source": [
    "# This is what you will use for all of hackweek to access the db\n",
    "db_name = 'snow:hackweek@52.32.183.144/snowex'\n",
    "# Using the function get_db, we receive 2 ways to interact with the database\n",
    "engine, session = get_db(db_name)"
   ]
  },
  {
   "cell_type": "markdown",
   "id": "presidential-bloom",
   "metadata": {},
   "source": [
    "Then, query [SiteData](https://snowexsql.readthedocs.io/en/latest/database_structure.html#sites-table) using [filter_by](https://docs.sqlalchemy.org/en/14/orm/query.html#sqlalchemy.orm.Query.filter_by) to find the entry with the site ID that we want (2S10). Preview the resulting geodataframe."
   ]
  },
  {
   "cell_type": "code",
   "execution_count": null,
   "id": "liberal-feeding",
   "metadata": {},
   "outputs": [],
   "source": [
    "# Form the query to receive site_id='2S10' from the sites table\n",
    "qry = session.query(SiteData).filter_by(site_id='2S10')\n",
    "\n",
    "# Convert the record received into a geopandas dataframe\n",
    "siteData_df = query_to_geopandas(qry, engine)\n",
    "\n",
    "# Preview the resulting geopandas dataframe\n",
    "siteData_df"
   ]
  },
  {
   "cell_type": "markdown",
   "id": "multiple-warrant",
   "metadata": {},
   "source": [
    "Inspect of the geodatframe's metadata"
   ]
  },
  {
   "cell_type": "code",
   "execution_count": null,
   "id": "satellite-carpet",
   "metadata": {},
   "outputs": [],
   "source": [
    "# What is the coordinate reference system used here?\n",
    "siteData_df.crs"
   ]
  },
  {
   "cell_type": "code",
   "execution_count": null,
   "id": "animal-difficulty",
   "metadata": {},
   "outputs": [],
   "source": [
    "# Preview the geometry of this geodataframe, we should see that it is a POINT\n",
    "siteData_df.geometry"
   ]
  },
  {
   "cell_type": "markdown",
   "id": "offensive-pillow",
   "metadata": {},
   "source": [
    "We can now plot our snow pit site from this [geodataframe](https://geopandas.org/docs/reference/api/geopandas.GeoDataFrame.plot.html) on top of the airborne IR image. (See more tips about plotting geodataframes [here](https://www.earthdatascience.org/courses/scientists-guide-to-plotting-data-in-python/plot-spatial-data/customize-vector-plots/python-change-spatial-extent-of-map-matplotlib-geopandas/))\n",
    "\n"
   ]
  },
  {
   "cell_type": "code",
   "execution_count": null,
   "id": "composed-client",
   "metadata": {},
   "outputs": [],
   "source": [
    "fig, ax = plt.subplots(figsize=(20,5)) # create a new matplotlib figure, set the figure size\n",
    "ax.set_aspect('equal') # set the aspect ratio to \"equal\"\n",
    "\n",
    "# plot the airborne infrared image\n",
    "airborne_ir.plot(cmap='magma', vmin=-10, vmax=10, ax=ax, \n",
    "                 cbar_kwargs={'label': 'Temperature $\\degree C$'})\n",
    "\n",
    "# plot the location of the snow pit of interest\n",
    "siteData_df.plot(ax=ax, color='r', marker='x')\n",
    "\n",
    "# set axes labels\n",
    "ax.set_xlabel('Eastings UTM 12N (m)')\n",
    "ax.set_ylabel('Northings UTM 12N (m)')\n",
    "\n",
    "# set the axes limits, units in meters UTM Zone 12N (I chose these values by just looking at the plot above)\n",
    "ax.set_xlim((735000, 760000)) # x axis limits\n",
    "ax.set_ylim((4320000, 4325000)) # y axis limits\n",
    "\n",
    "# set plot title\n",
    "ax.set_title('Location of Snow Pit 2S10\\nwith Airborne TIR imagery of Grand Mesa, CO (Feb. 8, 2020)');"
   ]
  },
  {
   "cell_type": "markdown",
   "id": "opposite-zambia",
   "metadata": {},
   "source": [
    "Change the x and y axes limits ([set_xlim](https://matplotlib.org/stable/api/_as_gen/matplotlib.axes.Axes.set_xlim.html), and [set_ylim](https://matplotlib.org/stable/api/_as_gen/matplotlib.axes.Axes.set_ylim.html)) to zoom in to our point of interest. In this case we can use [df.geometry.total_bounds](https://geopandas.readthedocs.io/en/latest/docs/reference/api/geopandas.GeoSeries.total_bounds.html) to get the x and y values that define the area our geometry takes up. (In this case we have a point so it will return just the point's location, but this would work if we had a polygon as well)"
   ]
  },
  {
   "cell_type": "code",
   "execution_count": null,
   "id": "descending-worse",
   "metadata": {},
   "outputs": [],
   "source": [
    "fig, ax = plt.subplots(figsize=(10,10)) # create a new matplotlib figure, set the figure size\n",
    "ax.set_aspect('equal') # set the aspect ratio to \"equal\"\n",
    "\n",
    "# plot the airborne infrared image\n",
    "airborne_ir.plot(cmap='magma', vmin=-10, vmax=10, ax=ax, \n",
    "                 cbar_kwargs={'label': 'Temperature $\\degree C$'})\n",
    "\n",
    "# plot the location of the snow pit of interest\n",
    "siteData_df.plot(ax=ax, color='r', marker='x')\n",
    "\n",
    "# set axes limits\n",
    "xmin, ymin, xmax, ymax = siteData_df.geometry.total_bounds # get the \"total bounds\" for our geometry\n",
    "ax.set_xlim((xmin-1000, xmax+1000)) # x axis limits to +/- 1 km from our point's \"total bounds\"\n",
    "ax.set_ylim((ymin-1000, ymax+1000)) # y axis limits to +/- 1 km from our point's \"total bounds\"\n",
    "\n",
    "# set axes labels\n",
    "ax.set_xlabel('Eastings UTM 12N (m)')\n",
    "ax.set_ylabel('Northings UTM 12N (m)')\n",
    "\n",
    "# set plot title\n",
    "ax.set_title('Location of Snow Pit 2S10\\nAirborne TIR imagery of Grand Mesa, CO (Feb. 8, 2020)');"
   ]
  },
  {
   "cell_type": "markdown",
   "id": "warming-compilation",
   "metadata": {},
   "source": [
    "**Import the snow temperature timeseries dataset**\n",
    "\n",
    "This data is [available through NSIDC](https://nsidc.org/data/SNEX20_VPTS_Raw/versions/1), but we have already downloaded a local copy for this tutorial. (See the bonus notebook [thermal-ir-data-download.ipynb](./thermal-ir-data-download.ipynb) for more details about data access methods)\n",
    "\n",
    "The raw data file doesn't include the column names, so we need to set the column headers following the dataset's README file."
   ]
  },
  {
   "cell_type": "code",
   "execution_count": null,
   "id": "unauthorized-headquarters",
   "metadata": {},
   "outputs": [],
   "source": [
    "!cat /tmp/thermal-ir/SNEX20_VPTS_Raw/Level-0/snow-temperature-timeseries/README.txt"
   ]
  },
  {
   "cell_type": "markdown",
   "id": "biological-russian",
   "metadata": {},
   "source": [
    "Create a list of column headers according to the readme above (for \"GM1\" which we can read was the datalogger at snowpit 2S10)"
   ]
  },
  {
   "cell_type": "code",
   "execution_count": null,
   "id": "outstanding-definition",
   "metadata": {},
   "outputs": [],
   "source": [
    "column_headers = ['table', 'year', 'doy', 'time', # year, day of year, time of day (local time, UTC-7)\n",
    "                  'rad_avg', 'rad_max', 'rad_min', 'rad_std', # radiometer surface temperature\n",
    "                  'sb_avg', 'sb_max', 'sb_min', 'sb_std', # radiometer sensor body temperature (for calibration)\n",
    "                  'temp1_avg', 'temp1_max', 'temp1_min', 'temp1_std', # temperature at 5 cm below snow surface\n",
    "                  'temp2_avg', 'temp2_max', 'temp2_min', 'temp2_std', #               10 cm\n",
    "                  'temp3_avg', 'temp3_max', 'temp3_min', 'temp3_std', #               15 cm\n",
    "                  'temp4_avg', 'temp4_max', 'temp4_min', 'temp4_std', #               20 cm\n",
    "                  'temp5_avg', 'temp5_max', 'temp5_min', 'temp5_std', #               30 cm\n",
    "                  'batt_a','batt_b', # battery voltage data\n",
    "                 ]"
   ]
  },
  {
   "cell_type": "markdown",
   "id": "loaded-supply",
   "metadata": {},
   "source": [
    "Open the file as a pandas data frame with [read_csv](https://pandas.pydata.org/pandas-docs/stable/reference/api/pandas.read_csv.html)"
   ]
  },
  {
   "cell_type": "code",
   "execution_count": null,
   "id": "numeric-celebrity",
   "metadata": {},
   "outputs": [],
   "source": [
    "df = pd.read_csv('/tmp/thermal-ir/SNEX20_VPTS_Raw/Level-0/snow-temperature-timeseries/CR10X_GM1_final_storage_1.dat',\n",
    "                 header = None, names = column_headers) \n",
    "\n",
    "# After the filepath we specify header=None because the file doesn't contain column headers, \n",
    "# then we specify names=column_headers to give our own names for each column."
   ]
  },
  {
   "cell_type": "markdown",
   "id": "certified-broadcast",
   "metadata": {},
   "source": [
    "We need to do some formatting of the data fields, but we can preview what we just loaded fist"
   ]
  },
  {
   "cell_type": "code",
   "execution_count": null,
   "id": "eastern-mystery",
   "metadata": {},
   "outputs": [],
   "source": [
    "df.head() # show the first 5 rows of the dataframe"
   ]
  },
  {
   "cell_type": "markdown",
   "id": "rising-microphone",
   "metadata": {},
   "source": [
    "Data cleanup and formatting"
   ]
  },
  {
   "cell_type": "code",
   "execution_count": null,
   "id": "mexican-demonstration",
   "metadata": {},
   "outputs": [],
   "source": [
    "# Create a zero-padded time string (e.g. for 9:30 AM we are changing '930' into '0930')\n",
    "df['time_str'] = [('0' * (4 - len(str(df.time[i])))) + str(df.time[i]) for i in range(df.shape[0])]"
   ]
  },
  {
   "cell_type": "code",
   "execution_count": null,
   "id": "rational-knight",
   "metadata": {},
   "outputs": [],
   "source": [
    "df"
   ]
  },
  {
   "cell_type": "code",
   "execution_count": null,
   "id": "controlling-facing",
   "metadata": {},
   "outputs": [],
   "source": [
    "# locate where rows have time_str == 2400 (midnight), and the whole column 'doy'\n",
    "# where we are at midnight, we need to shift one day forward\n",
    "df.loc[df['time_str'] == '2400','doy'] += 1\n",
    "# and then change midnight from '2400' to '0000'\n",
    "df.time_str.replace('2400', '0000', inplace=True)"
   ]
  },
  {
   "cell_type": "markdown",
   "id": "impaired-skating",
   "metadata": {},
   "source": [
    "This function lets us convert year and day of year (the format that the datalogger uses) to a pandas [datetime index](https://pandas.pydata.org/pandas-docs/stable/reference/api/pandas.DatetimeIndex.html):"
   ]
  },
  {
   "cell_type": "code",
   "execution_count": null,
   "id": "acute-group",
   "metadata": {},
   "outputs": [],
   "source": [
    "def compose_date(years, months=1, days=1, weeks=None, hours=None, minutes=None,\n",
    "                 seconds=None, milliseconds=None, microseconds=None, nanoseconds=None):\n",
    "    '''Compose a datetime object from various datetime components. This clever solution is from:\n",
    "        https://stackoverflow.com/questions/34258892/converting-year-and-day-of-year-into-datetime-index-in-pandas'''\n",
    "    years = np.asarray(years) - 1970\n",
    "    months = np.asarray(months) - 1\n",
    "    days = np.asarray(days) - 1\n",
    "    types = ('<M8[Y]', '<m8[M]', '<m8[D]', '<m8[W]', '<m8[h]',\n",
    "             '<m8[m]', '<m8[s]', '<m8[ms]', '<m8[us]', '<m8[ns]')\n",
    "    vals = (years, months, days, weeks, hours, minutes, seconds,\n",
    "            milliseconds, microseconds, nanoseconds)\n",
    "    return sum(np.asarray(v, dtype=t) for t, v in zip(types, vals)\n",
    "               if v is not None)"
   ]
  },
  {
   "cell_type": "code",
   "execution_count": null,
   "id": "aboriginal-newton",
   "metadata": {},
   "outputs": [],
   "source": [
    "# Create a datetime value from the date field and zero-padded time_str field, set this as our dataframe's index\n",
    "df.index = compose_date(df['year'], \n",
    "                        days=df['doy'], \n",
    "                        hours=df['time_str'].str[:2],\n",
    "                        minutes=df['time_str'].str[2:])\n",
    "\n",
    "# Remove entries that are from table \"102\" (this contains datalogger battery information we're not interested in at the moment)\n",
    "df = df[df.table != 102]\n",
    "\n",
    "# drop the columns we no longer need\n",
    "df.drop(columns=['table','year','doy','time','time_str','batt_a','batt_b'], inplace=True)"
   ]
  },
  {
   "cell_type": "markdown",
   "id": "juvenile-welsh",
   "metadata": {},
   "source": [
    "Inspect the contents"
   ]
  },
  {
   "cell_type": "code",
   "execution_count": null,
   "id": "tough-military",
   "metadata": {},
   "outputs": [],
   "source": [
    "df.head()"
   ]
  },
  {
   "cell_type": "markdown",
   "id": "generous-retro",
   "metadata": {},
   "source": [
    "Make a simple plot of the data. We are interested in the variable `rad_avg` which is the average temperature measured by the radiometer over each 5 minute period."
   ]
  },
  {
   "cell_type": "code",
   "execution_count": null,
   "id": "commercial-opening",
   "metadata": {},
   "outputs": [],
   "source": [
    "plt.figure(figsize=(10,4))\n",
    "\n",
    "# plot radiometer average temperature\n",
    "df.rad_avg.plot(linestyle='-', marker='', markersize=1, c='k', label='Ground-based $T_s$')\n",
    "\n",
    "\n",
    "# set axes limits\n",
    "plt.ylim((-35,5))\n",
    "plt.xlim((pd.Timestamp(2020,2,5,11,0),pd.Timestamp(2020,2,12,16,0)))\n",
    "\n",
    "# add a legend to the plot\n",
    "plt.legend()\n",
    "\n",
    "# set axes labels\n",
    "plt.ylabel('Temperature [$C\\degree$]')\n",
    "plt.xlabel('Time')\n",
    "\n",
    "# add grid lines to the plot\n",
    "plt.grid('on')\n",
    "\n",
    "# set the plot title\n",
    "plt.title('Snow Surface Temperature at Snow Pit 2S10');"
   ]
  },
  {
   "cell_type": "markdown",
   "id": "adapted-yukon",
   "metadata": {},
   "source": [
    ":::{admonition} Bonus plot: look at snow temperatures below the snow surface\n",
    ":class: dropdown \n",
    "\n",
    "Add the following to the above plot to add lines for temperature recorded at each depth interval below the snow surface:\n",
    "\n",
    "```\n",
    "# plot the snow temperature at each depth it was measured\n",
    "df.temp1_avg.plot(linestyle='-', marker='.', markersize=1, c=[0.8,0.8,1], label='Ts @ -5 cm')\n",
    "df.temp2_avg.plot(linestyle='-', marker='.', markersize=1, c=[0.6,0.6,1], label='Ts @ -10 cm')\n",
    "df.temp3_avg.plot(linestyle='-', marker='.', markersize=1, c=[0.4,0.4,1], label='Ts @ -15 cm')\n",
    "df.temp4_avg.plot(linestyle='-', marker='.', markersize=1, c=[0.2,0.2,1], label='Ts @ -20 cm')\n",
    "df.temp5_avg.plot(linestyle='-', marker='.', markersize=1, c=[0,0,1], label='Ts @ -30 cm')\n",
    "```\n",
    "\n",
    ":::"
   ]
  },
  {
   "cell_type": "markdown",
   "id": "least-alexandria",
   "metadata": {},
   "source": [
    "But then we want to focus on the date/time when our IR image was from, so zoom in on Feb 8th by changing our plot's [xlim](https://matplotlib.org/stable/api/_as_gen/matplotlib.axes.Axes.set_xlim.html) (using pandas [Timestamps](https://pandas.pydata.org/pandas-docs/stable/reference/api/pandas.Timestamp.html) for the x axis values).\n"
   ]
  },
  {
   "cell_type": "code",
   "execution_count": null,
   "id": "enabling-jordan",
   "metadata": {},
   "outputs": [],
   "source": [
    "plt.figure(figsize=(10,4))\n",
    "\n",
    "# plot radiometer average temperature\n",
    "df.rad_avg.plot(linestyle='-', marker='', markersize=1, c='k', label='Ground-based $T_s$')\n",
    "\n",
    "# set axes limits\n",
    "plt.ylim((-15,0)) # set some temperature y-axis limits for our plot\n",
    "plt.xlim((pd.Timestamp(2020,2,8,6,0),pd.Timestamp(2020,2,8,20,0))) # zoom in to daytime hours on Feb. 8, 2020\n",
    "\n",
    "# add a legend to the plot\n",
    "plt.legend()\n",
    "\n",
    "# set axes labels\n",
    "plt.ylabel('Temperature [$C\\degree$]')\n",
    "plt.xlabel('Time')\n",
    "\n",
    "# add grid lines to the plot\n",
    "plt.grid('on')\n",
    "\n",
    "# set the plot title\n",
    "plt.title('Snow Surface Temperature at Snow Pit 2S10');"
   ]
  },
  {
   "cell_type": "markdown",
   "id": "surgical-cincinnati",
   "metadata": {},
   "source": [
    "---\n",
    "\n",
    "## Compare Airborne IR against the \"ground truth\" snow surface temperature\n",
    "\n",
    "**What is the temperature at this point in the airborne IR image?**\n",
    "\n",
    "Use rioxarray's [clip](https://corteva.github.io/rioxarray/stable/examples/clip_geom.html) function to extract the raster values that intersect with the point's geometry. Because we have a point, this will return a single value for the pixel that overlaps this point."
   ]
  },
  {
   "cell_type": "code",
   "execution_count": null,
   "id": "dependent-sheffield",
   "metadata": {},
   "outputs": [],
   "source": [
    "# clip using our point's geometry\n",
    "airborne_ir_point_temperature = airborne_ir.rio.clip(siteData_df.geometry)\n",
    "\n",
    "# preview the result\n",
    "airborne_ir_point_temperature"
   ]
  },
  {
   "cell_type": "markdown",
   "id": "electoral-electricity",
   "metadata": {},
   "source": [
    "Our result is a DataArray with a single data value at one set of x and y coordinates.\n",
    "\n",
    "\n",
    ":::{admonition} Pixel = Point ?\n",
    "\n",
    "Should we expect that the temperature measured for an image pixel would be the same for an individual point on the ground? The airborne imagery is at 5 meter spatial resolution, whereas our ground-based radiometer measured a spot maybe only ~1 m in diameter. Additionally, the geolocation of the airborne imagery is less accurate than 5 meters (closer to 10-15 meters) meaning that if we picked a single pixel to overlap our ground point, it may be the wrong pixel. Let's instead look at the average and distribution of temperatures from the airborne imagery in an area around this point.\n",
    "\n",
    ":::\n",
    "\n",
    "Add a 100 m radius [buffer](https://geopandas.org/docs/reference/api/geopandas.GeoSeries.buffer.html) around this point and get the temperature from the airborne imagery for a larger area around the snow pit."
   ]
  },
  {
   "cell_type": "code",
   "execution_count": null,
   "id": "educated-undergraduate",
   "metadata": {},
   "outputs": [],
   "source": [
    "r = 100 # radius of the buffer in meters (this is in meters because we are working in a UTM coordinate reference system)\n",
    "\n",
    "# create the buffered geometry\n",
    "siteData_df_buffer = siteData_df.buffer(r)\n",
    "\n",
    "# preview the resulting geometry, we should see this is a POLYGON now\n",
    "siteData_df_buffer"
   ]
  },
  {
   "cell_type": "markdown",
   "id": "toxic-surge",
   "metadata": {},
   "source": [
    "What does this polygon look like when we plot it on top of the airborne IR image now?"
   ]
  },
  {
   "cell_type": "code",
   "execution_count": null,
   "id": "printable-reproduction",
   "metadata": {},
   "outputs": [],
   "source": [
    "fig, ax = plt.subplots(figsize=(10,10)) # create a new matplotlib figure, set the figure size\n",
    "ax.set_aspect('equal') # set the aspect ratio to \"equal\"\n",
    "\n",
    "# plot the airborne infrared image\n",
    "airborne_ir.plot(cmap='magma', vmin=-10, vmax=10, ax=ax, \n",
    "                 cbar_kwargs={'label': 'Temperature $\\degree C$'})\n",
    "\n",
    "# plot the location of the snow pit of interest\n",
    "siteData_df.plot(ax=ax, color='r', marker='x')\n",
    "\n",
    "# plot the area of the buffer we made around the snow pit\n",
    "siteData_df_buffer.plot(ax=ax, edgecolor='r', facecolor='none')\n",
    "\n",
    "# set the same axes limits as above\n",
    "ax.set_xlim((xmin-1000, xmax+1000)) # x axis limits to +/- 1 km from our point's \"total bounds\"\n",
    "ax.set_ylim((ymin-1000, ymax+1000)) # y axis limits to +/- 1 km from our point's \"total bounds\"\n",
    "\n",
    "# set axes labels\n",
    "ax.set_xlabel('Eastings UTM 12N (m)')\n",
    "ax.set_ylabel('Northings UTM 12N (m)')\n",
    "\n",
    "# set plot title\n",
    "ax.set_title('Location of Snow Pit 2S10, and 100 m radius buffer\\nwith ASTER Band 14 TIR imagery');"
   ]
  },
  {
   "cell_type": "markdown",
   "id": "hourly-bandwidth",
   "metadata": {},
   "source": [
    "Clip the airborne IR raster again, now with our 200 m diameter polygon around the snow pit site."
   ]
  },
  {
   "cell_type": "code",
   "execution_count": null,
   "id": "young-registration",
   "metadata": {},
   "outputs": [],
   "source": [
    "# clip using our new geometry\n",
    "airborne_ir_area_temperature = airborne_ir.rio.clip(siteData_df_buffer.geometry)\n",
    "\n",
    "# preview the result\n",
    "airborne_ir_area_temperature"
   ]
  },
  {
   "cell_type": "markdown",
   "id": "indian-sessions",
   "metadata": {},
   "source": [
    "The result of clipping is again a DataArray, this time though it is 40x40. We can plot this to see what it looks like, and to see the distribution of temperatures in the area."
   ]
  },
  {
   "cell_type": "code",
   "execution_count": null,
   "id": "going-answer",
   "metadata": {},
   "outputs": [],
   "source": [
    "fig, ax = plt.subplots(nrows=1, ncols=2, figsize=(10,5), tight_layout=True)\n",
    "\n",
    "# plot the portion of the airborne TIR image we selected within the buffer area geometry\n",
    "airborne_ir_area_temperature.plot(cmap='magma', vmin=-7, vmax=-4, ax=ax[0], \n",
    "                 cbar_kwargs={'label': 'Temperature $\\degree C$'})\n",
    "ax[0].set_title('Airborne TIR image within\\n100 m radius buffer (2S10)\\n')\n",
    "ax[0].set_aspect('equal')\n",
    "ax[0].set_xlabel('Eastings UTM 12N (m)')\n",
    "ax[0].set_ylabel('Northings UTM 12N (m)')\n",
    "ax[0].set_xlim((xmin-150, xmax+150)) # x axis limits to +/- 150 m from our point's \"total bounds\"\n",
    "ax[0].set_ylim((ymin-150, ymax+150)) # y axis limits to +/- 150 m from our point's \"total bounds\"\n",
    "\n",
    "# plot the location of the snow pit of interest to the plot\n",
    "siteData_df.plot(ax=ax[0], color='c', marker='x')\n",
    "\n",
    "# plot the area of the buffer we made around the snow pit\n",
    "siteData_df_buffer.plot(ax=ax[0], edgecolor='c', facecolor='none')\n",
    "\n",
    "# plot a histogram of image temperature data within the buffer area geometry\n",
    "airborne_ir_area_temperature.plot.hist(ax=ax[1],\n",
    "                                       color='k', \n",
    "                                       zorder=1, # use zorder to make sure this plots below the point\n",
    "                                       label='zonal $T_S$ histogram') \n",
    "\n",
    "# plot a vertical line for the single-pixel temperature we think is right at the snow pit\n",
    "ax[1].axvline(airborne_ir_point_temperature, \n",
    "              color='c',linestyle='--',  # set color and style\n",
    "              zorder=2, # use zorder to make sure this plots on top of the histogram\n",
    "              label='$T_S$ single pixel') \n",
    "\n",
    "# plot a vertical line for the mean temperature within the buffer area geometry\n",
    "ax[1].axvline(airborne_ir_area_temperature.mean(), \n",
    "              color='m',linestyle='--',  # set color and style\n",
    "              zorder=2, # use zorder to make sure this plots on top of the histogram\n",
    "              label='zonal mean $T_S$') \n",
    "\n",
    "ax[1].legend(loc='upper left') # add a legend\n",
    "ax[1].set_xlim((-7,-4)) # set xlim to same values as colorbar in image plot\n",
    "ax[1].set_ylim((0,400)) # set ylim\n",
    "ax[1].set_title('Snow surface temperatures\\nfrom Airborne TIR image (snow pit 2S10)')\n",
    "ax[1].set_ylabel('Number of pixels');"
   ]
  },
  {
   "cell_type": "markdown",
   "id": "meaning-checkout",
   "metadata": {},
   "source": [
    ":::{admonition} What do these plots tell us about the surface temperature around the snow pit as measured by the airborne IR cameras?\n",
    ":class: dropdown\n",
    "* Is the snow surface temperature more variable or uniform in this area?\n",
    "  * Note that we changed the minimum and maximum values of our colorbar!\n",
    "  * Try computing the standard deviation of temperatures in this area\n",
    "* How does our single pixel at the center compare with the rest of this area?\n",
    "  * Try taking the mean or median of all temperatures in the area and compare against the single point. What is the difference?\n",
    "* See [Lundquist et al., 2018](https://doi.org/10.1016/j.rse.2018.03.001) for an application of these methods with airborne and MODIS thermal infrared imagery\n",
    ":::"
   ]
  },
  {
   "cell_type": "markdown",
   "id": "explicit-florida",
   "metadata": {},
   "source": [
    "**Plot the airborne IR temperature data on top of the ground-based timeseries**"
   ]
  },
  {
   "cell_type": "code",
   "execution_count": null,
   "id": "caring-design",
   "metadata": {},
   "outputs": [],
   "source": [
    "plt.figure(figsize=(10,4))\n",
    "\n",
    "# plot radiometer average temperature\n",
    "df.rad_avg.plot(linestyle='-', marker='', markersize=1, c='k', label='Ground-based $T_s$')\n",
    "\n",
    "# plot the mean airborne IR temperature from the area around the snow pit:\n",
    "plt.plot(airborne_ir_timestamp, airborne_ir_area_temperature.mean(),\n",
    "         marker='o', c='r', linestyle='none',\n",
    "         label='Airborne IR mean $T_s$ for 100 m radius area')\n",
    "\n",
    "# plot an error bar showing the maximum and minimum airborne IR temperature around the snow pit\n",
    "plt.errorbar(airborne_ir_timestamp, airborne_ir_area_temperature.mean(),\n",
    "             yerr=[[airborne_ir_area_temperature.mean()-airborne_ir_area_temperature.min()], \n",
    "                   [airborne_ir_area_temperature.max()-airborne_ir_area_temperature.mean()]],\n",
    "            capsize=3, fmt='none', ecolor='r',\n",
    "            label='Airborne IR $T_s$ range for 100 m radius area')\n",
    "\n",
    "\n",
    "# set axes limits\n",
    "plt.ylim((-15,0))\n",
    "plt.xlim((pd.Timestamp(2020,2,8,6,0),pd.Timestamp(2020,2,8,20,0))) # zoom in to daytime hours on Feb. 8, 2020\n",
    "\n",
    "# add a legend to the plot\n",
    "plt.legend()\n",
    "\n",
    "# set axes labels\n",
    "plt.ylabel('Temperature [$C\\degree$]')\n",
    "plt.xlabel('Time')\n",
    "\n",
    "# add grid lines to the plot\n",
    "plt.grid('on')\n",
    "\n",
    "# set the plot title\n",
    "plt.title('Snow Surface Temperature at Snow Pit 2S10');"
   ]
  },
  {
   "cell_type": "markdown",
   "id": "liable-cancer",
   "metadata": {},
   "source": [
    ":::{admonition} Continuing with this analysis:\n",
    ":class: dropdown\n",
    "In the above plot we've added \"error bars\" to represent the full range of temperatures within the 100 m radius area around the snow pit. \n",
    "* Is this a fair comparison? \n",
    "* Should we make the area smaller based on our confidence in the image's geolocation accuracy (10-15 m)?\n",
    "* What is the difference between the \"ground truth\" data and the airborne IR data at this point in time?\n",
    ":::"
   ]
  },
  {
   "cell_type": "markdown",
   "id": "detected-connecticut",
   "metadata": {},
   "source": [
    "---\n",
    "\n",
    "# Part 2: Satellite IR remote sensing obsevations\n",
    "\n",
    "## Satellite IR imagery with ASTER\n",
    "\n",
    "**Advantages of satellite IR images:** We don't always have airplanes with IR cameras flying around. Satellites can provide images at more regular intervals for long-term studies, and can see areas that are difficult to access on the ground or by air.\n",
    "\n",
    ":::{admonition} What might be some diadvantages of satellite IR imagery compared to airborne IR imagery?\n",
    ":class: dropdown\n",
    "- Lower spatial resolution because they're further away from the Earth's surface\n",
    "- Mixed pixel problem: with lower image resolutions, each pixel contains a more heterogeneous mixtures of surfaces and temperatures, meaning that temperature information is more blurred together\n",
    "- What other disadvantages can you think of? \n",
    "- How might these differences (advantages or disadvantages) change the type of research questions you can investigate?\n",
    ":::\n",
    "\n",
    "For this tutorial, we will look at an image from NASA's [Advanced Spaceborne Thermal Emission and Reflection Radiometer](https://asterweb.jpl.nasa.gov/) (ASTER) imager, which is onboard the Terra satellite along with a MODIS imager. We can compare an ASTER IR image of Grand Mesa that was taken at roughly the same time as the airborne IR image. The ASTER image we will be working with is from ASTER's [band 14](https://asterweb.jpl.nasa.gov/characteristics.asp) which is sensitive to radiance in the 10.95-11.65 µm wavelength range."
   ]
  },
  {
   "cell_type": "markdown",
   "id": "cubic-greek",
   "metadata": {},
   "source": [
    "Load an ASTER geotiff that we've downloaded for this tutorial, and inspect its contents."
   ]
  },
  {
   "cell_type": "code",
   "execution_count": null,
   "id": "japanese-pastor",
   "metadata": {},
   "outputs": [],
   "source": [
    "aster_ir = xr.open_rasterio('/tmp/thermal-ir/AST_L1T_00302082020180748_20200209065849_17218_ImageData14.tif')"
   ]
  },
  {
   "cell_type": "markdown",
   "id": "happy-backing",
   "metadata": {},
   "source": [
    "Inspect the ASTER file we just opened"
   ]
  },
  {
   "cell_type": "code",
   "execution_count": null,
   "id": "civic-booth",
   "metadata": {},
   "outputs": [],
   "source": [
    "aster_ir"
   ]
  },
  {
   "cell_type": "markdown",
   "id": "competitive-richardson",
   "metadata": {},
   "source": [
    "What is its CRS?"
   ]
  },
  {
   "cell_type": "code",
   "execution_count": null,
   "id": "removable-addiction",
   "metadata": {},
   "outputs": [],
   "source": [
    "aster_ir.rio.crs"
   ]
  },
  {
   "cell_type": "code",
   "execution_count": null,
   "id": "demonstrated-practitioner",
   "metadata": {},
   "outputs": [],
   "source": [
    "# Reproject this ASTER image into our common coordinate system\n",
    "aster_ir = aster_ir.rio.reproject('EPSG:26912') # overwrite itself with new reprojected data array"
   ]
  },
  {
   "cell_type": "markdown",
   "id": "guilty-driver",
   "metadata": {},
   "source": [
    "When was this image taken?"
   ]
  },
  {
   "cell_type": "code",
   "execution_count": null,
   "id": "innovative-litigation",
   "metadata": {},
   "outputs": [],
   "source": [
    "aster_ir_timestamp = pd.Timestamp(2020,2,8,18,7,48) - pd.Timedelta(hours=7)"
   ]
  },
  {
   "cell_type": "markdown",
   "id": "acceptable-adelaide",
   "metadata": {},
   "source": [
    "Plot the image. What are the units of the values on the colorbar?"
   ]
  },
  {
   "cell_type": "code",
   "execution_count": null,
   "id": "pacific-motel",
   "metadata": {},
   "outputs": [],
   "source": [
    "aster_ir.plot()"
   ]
  },
  {
   "cell_type": "markdown",
   "id": "unlikely-preference",
   "metadata": {},
   "source": [
    "It's necessary to read the product documentation to understand what we are looking at here. \n",
    "\n",
    "We are using the *ASTER Level 1 Precision Terrain Corrected Registered At-Sensor Radiance* (AST_L1T) product. [Product documentation is available here](https://lpdaac.usgs.gov/products/ast_l1tv003/). Also helpful is the ** (AST_L1B) [product documentation here](https://lpdaac.usgs.gov/products/ast_l1bv003/) from which AST_L1T is derived.\n",
    "\n",
    "The values here are stored as scaled \"digital number\" (DN) values rather than the actual radiance values. The product documentation also provides information about how to unscale these values back into radiance units, and from radiance to brightness temperature, using laboratory calibrated constants.\n",
    "\n",
    "I've written two functions here to do this unit conversion for the five ASTER TIR bands in two steps (DN to radiance, radiance to brightness temperature). The function takes as its arguments the DN or radiance values respectively, and the band number (in our case band number `14`, *not the band wavelengths*)."
   ]
  },
  {
   "cell_type": "code",
   "execution_count": null,
   "id": "alternative-waters",
   "metadata": {},
   "outputs": [],
   "source": [
    "def tir_dn2rad(DN, band):\n",
    "    '''Convert AST_L1T Digital Number values to At-Sensor Radiance for the TIR bands (bands 10-14).'''\n",
    "    ucc = [6.822e-3, 6.780e-3, 6.590e-3, 5.693e-3, 5.225e-3]\n",
    "    rad = (DN-1.) * ucc[band-10]\n",
    "    return rad\n",
    "\n",
    "def tir_rad2tb(rad, band):\n",
    "    '''Convert AST_L1T At-Sensor Radiance to Brightness Temperature [K] for the TIR bands (bands 10-14).'''\n",
    "    k1 = [3047.47, 2480.93, 1930.80, 865.65, 649.60]\n",
    "    k2 = [1736.18, 1666.21, 1584.72,1349.82, 1274.49]\n",
    "    tb = k2[band-10] /  np.log((k1[band-10]/rad) + 1)\n",
    "    return tb"
   ]
  },
  {
   "cell_type": "markdown",
   "id": "affected-utility",
   "metadata": {},
   "source": [
    "Use the above functions to convert from DN to radiance, radiance to brightness temperature (assume and emissivity of 1 for all surfaces, note that the airborne imagery also assumed emissivity of 1).\n",
    "\n",
    "Then convert from degeees K to degrees C by subtracting 273.15."
   ]
  },
  {
   "cell_type": "code",
   "execution_count": null,
   "id": "monthly-silly",
   "metadata": {},
   "outputs": [],
   "source": [
    "aster_band14_rad = tir_dn2rad( aster_ir, band=14 ) # convert from DN to radiance\n",
    "aster_band14_tb_k = tir_rad2tb( aster_band14_rad, band=14 ) # convert from radiance to brightness temperature (K)\n",
    "aster_band14_tb_c = aster_band14_tb_k - 273.15 # convert from K to C\n",
    "\n",
    "# Note that an \"invalid value encountered...\" warning may pop up here. This is because the above function tries to take the log of \"nan\" values that are outside the imaged area\n",
    "# we can ignore this warning and proceed"
   ]
  },
  {
   "cell_type": "markdown",
   "id": "electric-november",
   "metadata": {},
   "source": [
    "During this unit conversion, xarray dropped the coordinate reference system attributes, so here we add the original crs to the new ASTER degrees celsius dataarray."
   ]
  },
  {
   "cell_type": "code",
   "execution_count": null,
   "id": "sunset-presence",
   "metadata": {},
   "outputs": [],
   "source": [
    "aster_band14_tb_c.rio.set_crs(aster_ir.rio.crs, inplace=True);"
   ]
  },
  {
   "cell_type": "markdown",
   "id": "ranging-dating",
   "metadata": {},
   "source": [
    "Plot our image again, this time setting our colorscale and colorbar values. We should see \"realistic\" surface temperature values in degrees C now."
   ]
  },
  {
   "cell_type": "code",
   "execution_count": null,
   "id": "imported-nirvana",
   "metadata": {},
   "outputs": [],
   "source": [
    "fig, ax = plt.subplots(figsize=(15,10))\n",
    "ax.set_aspect('equal')\n",
    "aster_band14_tb_c.plot(ax=ax,\n",
    "                       cmap='magma', \n",
    "                       vmin=-20, vmax=20, # note that we have a wider temperature range on our colorbar for this image, -20 to +20 C instead of -10 to +10 C\n",
    "                       cbar_kwargs={'label': 'Temperature $\\degree C$'})"
   ]
  },
  {
   "cell_type": "markdown",
   "id": "neutral-atlantic",
   "metadata": {},
   "source": [
    ":::{admonition} Image interpretation\n",
    ":class: hint\n",
    "* What does our chosen colorscale tell us about temperatures here?\n",
    "* What can we see?\n",
    "  * What do you think that cold linear feature across the image is? (Hint: think about the cold object we saw in the airborne IR image)\n",
    ":::"
   ]
  },
  {
   "cell_type": "markdown",
   "id": "discrete-richards",
   "metadata": {},
   "source": [
    "-\n",
    "\n",
    "**Plot ASTER next to Airborne IR to see spatial resolution differences**\n",
    "\n"
   ]
  },
  {
   "cell_type": "code",
   "execution_count": null,
   "id": "democratic-paragraph",
   "metadata": {},
   "outputs": [],
   "source": [
    "fig, axs = plt.subplots(nrows=2, ncols=1, figsize=(12,6), tight_layout=True)\n",
    "\n",
    "aster_band14_tb_c.plot(ax=axs[0], \n",
    "                       cmap='magma', \n",
    "                       vmin=-10, vmax=10, \n",
    "                       cbar_kwargs={'label': 'Temperature $\\degree C$'})\n",
    "axs[0].set_title('ASTER IR')\n",
    "axs[0].set_aspect('equal')\n",
    "\n",
    "\n",
    "airborne_ir.plot(ax=axs[1], \n",
    "                 cmap='magma', \n",
    "                 vmin=-10, vmax=10, \n",
    "                 cbar_kwargs={'label': 'Temperature $\\degree C$'})\n",
    "axs[1].set_title('Airborne IR')\n",
    "axs[1].set_aspect('equal')\n",
    "\n",
    "# for each subplot, do the following:\n",
    "for ax in axs: \n",
    "    ax.set_aspect('equal') # set the aspect ratio to \"equal\"\n",
    "    \n",
    "    # plot the location of the snow pit of interest\n",
    "    siteData_df.plot(ax=ax, color='r', marker='x')\n",
    "    # plot the area of the buffer we made around the snow pit\n",
    "    siteData_df_buffer.plot(ax=ax, edgecolor='r', facecolor='none')\n",
    "    \n",
    "    # set axes labels and limits\n",
    "    ax.set_xlabel('Eastings UTM 12N (m)')\n",
    "    ax.set_xlim((735000, 760000))\n",
    "    ax.set_ylabel('Northings UTM 12N (m)')\n",
    "    ax.set_ylim((4320000, 4325000))"
   ]
  },
  {
   "cell_type": "markdown",
   "id": "grand-coordination",
   "metadata": {},
   "source": [
    "Make another plot to zoom in on snow pit 2S10:"
   ]
  },
  {
   "cell_type": "code",
   "execution_count": 49,
   "id": "greatest-criticism",
   "metadata": {},
   "outputs": [
    {
     "data": {
      "image/png": "[encoded data removed]",
      "text/plain": [
       "<Figure size 864x288 with 4 Axes>"
      ]
     },
     "metadata": {
      "needs_background": "light"
     },
     "output_type": "display_data"
    }
   ],
   "source": [
    "fig, axs = plt.subplots(nrows=1, ncols=2, figsize=(12,4), tight_layout=True)\n",
    "\n",
    "aster_band14_tb_c.plot(ax=axs[0], \n",
    "                       cmap='magma', \n",
    "                       vmin=-10, vmax=10, \n",
    "                       cbar_kwargs={'label': 'Temperature $\\degree C$'})\n",
    "axs[0].set_title('ASTER IR')\n",
    "axs[0].set_aspect('equal')\n",
    "\n",
    "\n",
    "airborne_ir.plot(ax=axs[1], \n",
    "                 cmap='magma', \n",
    "                 vmin=-10, vmax=10, \n",
    "                 cbar_kwargs={'label': 'Temperature $\\degree C$'})\n",
    "axs[1].set_title('Airborne IR')\n",
    "axs[1].set_aspect('equal')\n",
    "\n",
    "# for each subplot, do the following:\n",
    "for ax in axs: \n",
    "    ax.set_aspect('equal') # set the aspect ratio to \"equal\"\n",
    "    \n",
    "    # plot the location of the snow pit of interest\n",
    "    siteData_df.plot(ax=ax, color='r', marker='x')\n",
    "    # plot the area of the buffer we made around the snow pit\n",
    "    siteData_df_buffer.plot(ax=ax, edgecolor='r', facecolor='none')\n",
    "    \n",
    "    # set axes labels\n",
    "    ax.set_xlabel('Eastings UTM 12N (m)')\n",
    "    ax.set_ylabel('Northings UTM 12N (m)')\n",
    "    # set the same axes limits as above\n",
    "    ax.set_xlim((xmin-1000, xmax+1000)) # x axis limits to +/- 1 km from our point's \"total bounds\"\n",
    "    ax.set_ylim((ymin-1000, ymax+1000)) # y axis limits to +/- 1 km from our point's \"total bounds\""
   ]
  },
  {
   "cell_type": "markdown",
   "id": "overhead-socket",
   "metadata": {},
   "source": [
    "Get the temperature of the ASTER pixel at the snow pit point using rioxarray [clip](https://corteva.github.io/rioxarray/stable/examples/clip_geom.html)."
   ]
  },
  {
   "cell_type": "code",
   "execution_count": 50,
   "id": "pressed-henry",
   "metadata": {},
   "outputs": [
    {
     "data": {
      "text/html": [
       "<div><svg style=\"position: absolute; width: 0; height: 0; overflow: hidden\">\n",
       "<defs>\n",
       "<symbol id=\"icon-database\" viewBox=\"0 0 32 32\">\n",
       "<path d=\"M16 0c-8.837 0-16 2.239-16 5v4c0 2.761 7.163 5 16 5s16-2.239 16-5v-4c0-2.761-7.163-5-16-5z\"></path>\n",
       "<path d=\"M16 17c-8.837 0-16-2.239-16-5v6c0 2.761 7.163 5 16 5s16-2.239 16-5v-6c0 2.761-7.163 5-16 5z\"></path>\n",
       "<path d=\"M16 26c-8.837 0-16-2.239-16-5v6c0 2.761 7.163 5 16 5s16-2.239 16-5v-6c0 2.761-7.163 5-16 5z\"></path>\n",
       "</symbol>\n",
       "<symbol id=\"icon-file-text2\" viewBox=\"0 0 32 32\">\n",
       "<path d=\"M28.681 7.159c-0.694-0.947-1.662-2.053-2.724-3.116s-2.169-2.030-3.116-2.724c-1.612-1.182-2.393-1.319-2.841-1.319h-15.5c-1.378 0-2.5 1.121-2.5 2.5v27c0 1.378 1.122 2.5 2.5 2.5h23c1.378 0 2.5-1.122 2.5-2.5v-19.5c0-0.448-0.137-1.23-1.319-2.841zM24.543 5.457c0.959 0.959 1.712 1.825 2.268 2.543h-4.811v-4.811c0.718 0.556 1.584 1.309 2.543 2.268zM28 29.5c0 0.271-0.229 0.5-0.5 0.5h-23c-0.271 0-0.5-0.229-0.5-0.5v-27c0-0.271 0.229-0.5 0.5-0.5 0 0 15.499-0 15.5 0v7c0 0.552 0.448 1 1 1h7v19.5z\"></path>\n",
       "<path d=\"M23 26h-14c-0.552 0-1-0.448-1-1s0.448-1 1-1h14c0.552 0 1 0.448 1 1s-0.448 1-1 1z\"></path>\n",
       "<path d=\"M23 22h-14c-0.552 0-1-0.448-1-1s0.448-1 1-1h14c0.552 0 1 0.448 1 1s-0.448 1-1 1z\"></path>\n",
       "<path d=\"M23 18h-14c-0.552 0-1-0.448-1-1s0.448-1 1-1h14c0.552 0 1 0.448 1 1s-0.448 1-1 1z\"></path>\n",
       "</symbol>\n",
       "</defs>\n",
       "</svg>\n",
       "<style>/* CSS stylesheet for displaying xarray objects in jupyterlab.\n",
       " *\n",
       " */\n",
       "\n",
       ":root {\n",
       "  --xr-font-color0: var(--jp-content-font-color0, rgba(0, 0, 0, 1));\n",
       "  --xr-font-color2: var(--jp-content-font-color2, rgba(0, 0, 0, 0.54));\n",
       "  --xr-font-color3: var(--jp-content-font-color3, rgba(0, 0, 0, 0.38));\n",
       "  --xr-border-color: var(--jp-border-color2, #e0e0e0);\n",
       "  --xr-disabled-color: var(--jp-layout-color3, #bdbdbd);\n",
       "  --xr-background-color: var(--jp-layout-color0, white);\n",
       "  --xr-background-color-row-even: var(--jp-layout-color1, white);\n",
       "  --xr-background-color-row-odd: var(--jp-layout-color2, #eeeeee);\n",
       "}\n",
       "\n",
       "html[theme=dark],\n",
       "body.vscode-dark {\n",
       "  --xr-font-color0: rgba(255, 255, 255, 1);\n",
       "  --xr-font-color2: rgba(255, 255, 255, 0.54);\n",
       "  --xr-font-color3: rgba(255, 255, 255, 0.38);\n",
       "  --xr-border-color: #1F1F1F;\n",
       "  --xr-disabled-color: #515151;\n",
       "  --xr-background-color: #111111;\n",
       "  --xr-background-color-row-even: #111111;\n",
       "  --xr-background-color-row-odd: #313131;\n",
       "}\n",
       "\n",
       ".xr-wrap {\n",
       "  display: block;\n",
       "  min-width: 300px;\n",
       "  max-width: 700px;\n",
       "}\n",
       "\n",
       ".xr-text-repr-fallback {\n",
       "  /* fallback to plain text repr when CSS is not injected (untrusted notebook) */\n",
       "  display: none;\n",
       "}\n",
       "\n",
       ".xr-header {\n",
       "  padding-top: 6px;\n",
       "  padding-bottom: 6px;\n",
       "  margin-bottom: 4px;\n",
       "  border-bottom: solid 1px var(--xr-border-color);\n",
       "}\n",
       "\n",
       ".xr-header > div,\n",
       ".xr-header > ul {\n",
       "  display: inline;\n",
       "  margin-top: 0;\n",
       "  margin-bottom: 0;\n",
       "}\n",
       "\n",
       ".xr-obj-type,\n",
       ".xr-array-name {\n",
       "  margin-left: 2px;\n",
       "  margin-right: 10px;\n",
       "}\n",
       "\n",
       ".xr-obj-type {\n",
       "  color: var(--xr-font-color2);\n",
       "}\n",
       "\n",
       ".xr-sections {\n",
       "  padding-left: 0 !important;\n",
       "  display: grid;\n",
       "  grid-template-columns: 150px auto auto 1fr 20px 20px;\n",
       "}\n",
       "\n",
       ".xr-section-item {\n",
       "  display: contents;\n",
       "}\n",
       "\n",
       ".xr-section-item input {\n",
       "  display: none;\n",
       "}\n",
       "\n",
       ".xr-section-item input + label {\n",
       "  color: var(--xr-disabled-color);\n",
       "}\n",
       "\n",
       ".xr-section-item input:enabled + label {\n",
       "  cursor: pointer;\n",
       "  color: var(--xr-font-color2);\n",
       "}\n",
       "\n",
       ".xr-section-item input:enabled + label:hover {\n",
       "  color: var(--xr-font-color0);\n",
       "}\n",
       "\n",
       ".xr-section-summary {\n",
       "  grid-column: 1;\n",
       "  color: var(--xr-font-color2);\n",
       "  font-weight: 500;\n",
       "}\n",
       "\n",
       ".xr-section-summary > span {\n",
       "  display: inline-block;\n",
       "  padding-left: 0.5em;\n",
       "}\n",
       "\n",
       ".xr-section-summary-in:disabled + label {\n",
       "  color: var(--xr-font-color2);\n",
       "}\n",
       "\n",
       ".xr-section-summary-in + label:before {\n",
       "  display: inline-block;\n",
       "  content: '►';\n",
       "  font-size: 11px;\n",
       "  width: 15px;\n",
       "  text-align: center;\n",
       "}\n",
       "\n",
       ".xr-section-summary-in:disabled + label:before {\n",
       "  color: var(--xr-disabled-color);\n",
       "}\n",
       "\n",
       ".xr-section-summary-in:checked + label:before {\n",
       "  content: '▼';\n",
       "}\n",
       "\n",
       ".xr-section-summary-in:checked + label > span {\n",
       "  display: none;\n",
       "}\n",
       "\n",
       ".xr-section-summary,\n",
       ".xr-section-inline-details {\n",
       "  padding-top: 4px;\n",
       "  padding-bottom: 4px;\n",
       "}\n",
       "\n",
       ".xr-section-inline-details {\n",
       "  grid-column: 2 / -1;\n",
       "}\n",
       "\n",
       ".xr-section-details {\n",
       "  display: none;\n",
       "  grid-column: 1 / -1;\n",
       "  margin-bottom: 5px;\n",
       "}\n",
       "\n",
       ".xr-section-summary-in:checked ~ .xr-section-details {\n",
       "  display: contents;\n",
       "}\n",
       "\n",
       ".xr-array-wrap {\n",
       "  grid-column: 1 / -1;\n",
       "  display: grid;\n",
       "  grid-template-columns: 20px auto;\n",
       "}\n",
       "\n",
       ".xr-array-wrap > label {\n",
       "  grid-column: 1;\n",
       "  vertical-align: top;\n",
       "}\n",
       "\n",
       ".xr-preview {\n",
       "  color: var(--xr-font-color3);\n",
       "}\n",
       "\n",
       ".xr-array-preview,\n",
       ".xr-array-data {\n",
       "  padding: 0 5px !important;\n",
       "  grid-column: 2;\n",
       "}\n",
       "\n",
       ".xr-array-data,\n",
       ".xr-array-in:checked ~ .xr-array-preview {\n",
       "  display: none;\n",
       "}\n",
       "\n",
       ".xr-array-in:checked ~ .xr-array-data,\n",
       ".xr-array-preview {\n",
       "  display: inline-block;\n",
       "}\n",
       "\n",
       ".xr-dim-list {\n",
       "  display: inline-block !important;\n",
       "  list-style: none;\n",
       "  padding: 0 !important;\n",
       "  margin: 0;\n",
       "}\n",
       "\n",
       ".xr-dim-list li {\n",
       "  display: inline-block;\n",
       "  padding: 0;\n",
       "  margin: 0;\n",
       "}\n",
       "\n",
       ".xr-dim-list:before {\n",
       "  content: '(';\n",
       "}\n",
       "\n",
       ".xr-dim-list:after {\n",
       "  content: ')';\n",
       "}\n",
       "\n",
       ".xr-dim-list li:not(:last-child):after {\n",
       "  content: ',';\n",
       "  padding-right: 5px;\n",
       "}\n",
       "\n",
       ".xr-has-index {\n",
       "  font-weight: bold;\n",
       "}\n",
       "\n",
       ".xr-var-list,\n",
       ".xr-var-item {\n",
       "  display: contents;\n",
       "}\n",
       "\n",
       ".xr-var-item > div,\n",
       ".xr-var-item label,\n",
       ".xr-var-item > .xr-var-name span {\n",
       "  background-color: var(--xr-background-color-row-even);\n",
       "  margin-bottom: 0;\n",
       "}\n",
       "\n",
       ".xr-var-item > .xr-var-name:hover span {\n",
       "  padding-right: 5px;\n",
       "}\n",
       "\n",
       ".xr-var-list > li:nth-child(odd) > div,\n",
       ".xr-var-list > li:nth-child(odd) > label,\n",
       ".xr-var-list > li:nth-child(odd) > .xr-var-name span {\n",
       "  background-color: var(--xr-background-color-row-odd);\n",
       "}\n",
       "\n",
       ".xr-var-name {\n",
       "  grid-column: 1;\n",
       "}\n",
       "\n",
       ".xr-var-dims {\n",
       "  grid-column: 2;\n",
       "}\n",
       "\n",
       ".xr-var-dtype {\n",
       "  grid-column: 3;\n",
       "  text-align: right;\n",
       "  color: var(--xr-font-color2);\n",
       "}\n",
       "\n",
       ".xr-var-preview {\n",
       "  grid-column: 4;\n",
       "}\n",
       "\n",
       ".xr-var-name,\n",
       ".xr-var-dims,\n",
       ".xr-var-dtype,\n",
       ".xr-preview,\n",
       ".xr-attrs dt {\n",
       "  white-space: nowrap;\n",
       "  overflow: hidden;\n",
       "  text-overflow: ellipsis;\n",
       "  padding-right: 10px;\n",
       "}\n",
       "\n",
       ".xr-var-name:hover,\n",
       ".xr-var-dims:hover,\n",
       ".xr-var-dtype:hover,\n",
       ".xr-attrs dt:hover {\n",
       "  overflow: visible;\n",
       "  width: auto;\n",
       "  z-index: 1;\n",
       "}\n",
       "\n",
       ".xr-var-attrs,\n",
       ".xr-var-data {\n",
       "  display: none;\n",
       "  background-color: var(--xr-background-color) !important;\n",
       "  padding-bottom: 5px !important;\n",
       "}\n",
       "\n",
       ".xr-var-attrs-in:checked ~ .xr-var-attrs,\n",
       ".xr-var-data-in:checked ~ .xr-var-data {\n",
       "  display: block;\n",
       "}\n",
       "\n",
       ".xr-var-data > table {\n",
       "  float: right;\n",
       "}\n",
       "\n",
       ".xr-var-name span,\n",
       ".xr-var-data,\n",
       ".xr-attrs {\n",
       "  padding-left: 25px !important;\n",
       "}\n",
       "\n",
       ".xr-attrs,\n",
       ".xr-var-attrs,\n",
       ".xr-var-data {\n",
       "  grid-column: 1 / -1;\n",
       "}\n",
       "\n",
       "dl.xr-attrs {\n",
       "  padding: 0;\n",
       "  margin: 0;\n",
       "  display: grid;\n",
       "  grid-template-columns: 125px auto;\n",
       "}\n",
       "\n",
       ".xr-attrs dt,\n",
       ".xr-attrs dd {\n",
       "  padding: 0;\n",
       "  margin: 0;\n",
       "  float: left;\n",
       "  padding-right: 10px;\n",
       "  width: auto;\n",
       "}\n",
       "\n",
       ".xr-attrs dt {\n",
       "  font-weight: normal;\n",
       "  grid-column: 1;\n",
       "}\n",
       "\n",
       ".xr-attrs dt:hover span {\n",
       "  display: inline-block;\n",
       "  background: var(--xr-background-color);\n",
       "  padding-right: 10px;\n",
       "}\n",
       "\n",
       ".xr-attrs dd {\n",
       "  grid-column: 2;\n",
       "  white-space: pre-wrap;\n",
       "  word-break: break-all;\n",
       "}\n",
       "\n",
       ".xr-icon-database,\n",
       ".xr-icon-file-text2 {\n",
       "  display: inline-block;\n",
       "  vertical-align: middle;\n",
       "  width: 1em;\n",
       "  height: 1.5em !important;\n",
       "  stroke-width: 0;\n",
       "  stroke: currentColor;\n",
       "  fill: currentColor;\n",
       "}\n",
       "</style><pre class='xr-text-repr-fallback'>&lt;xarray.DataArray (band: 1, y: 2, x: 2)&gt;\n",
       "array([[[-6.08382303, -6.1361369 ],\n",
       "        [-6.0315384 , -6.24085249]]])\n",
       "Coordinates:\n",
       "  * y            (y) float64 4.323e+06 4.323e+06\n",
       "  * x            (x) float64 7.43e+05 7.431e+05\n",
       "  * band         (band) int64 1\n",
       "    spatial_ref  int64 0</pre><div class='xr-wrap' hidden><div class='xr-header'><div class='xr-obj-type'>xarray.DataArray</div><div class='xr-array-name'></div><ul class='xr-dim-list'><li><span class='xr-has-index'>band</span>: 1</li><li><span class='xr-has-index'>y</span>: 2</li><li><span class='xr-has-index'>x</span>: 2</li></ul></div><ul class='xr-sections'><li class='xr-section-item'><div class='xr-array-wrap'><input id='section-6f1b0dcc-03e4-406d-9f54-6acfcafa9ce4' class='xr-array-in' type='checkbox' checked><label for='section-6f1b0dcc-03e4-406d-9f54-6acfcafa9ce4' title='Show/hide data repr'><svg class='icon xr-icon-database'><use xlink:href='#icon-database'></use></svg></label><div class='xr-array-preview xr-preview'><span>-6.084 -6.136 -6.032 -6.241</span></div><div class='xr-array-data'><pre>array([[[-6.08382303, -6.1361369 ],\n",
       "        [-6.0315384 , -6.24085249]]])</pre></div></div></li><li class='xr-section-item'><input id='section-111dc904-7a74-41d1-83fc-b789f33f6c8f' class='xr-section-summary-in' type='checkbox'  checked><label for='section-111dc904-7a74-41d1-83fc-b789f33f6c8f' class='xr-section-summary' >Coordinates: <span>(4)</span></label><div class='xr-section-inline-details'></div><div class='xr-section-details'><ul class='xr-var-list'><li class='xr-var-item'><div class='xr-var-name'><span class='xr-has-index'>y</span></div><div class='xr-var-dims'>(y)</div><div class='xr-var-dtype'>float64</div><div class='xr-var-preview xr-preview'>4.323e+06 4.323e+06</div><input id='attrs-9eab52e1-b804-4d8d-bbec-274acf089c90' class='xr-var-attrs-in' type='checkbox' ><label for='attrs-9eab52e1-b804-4d8d-bbec-274acf089c90' title='Show/Hide attributes'><svg class='icon xr-icon-file-text2'><use xlink:href='#icon-file-text2'></use></svg></label><input id='data-9d36a128-e1fc-477b-a91d-b11f67bead14' class='xr-var-data-in' type='checkbox'><label for='data-9d36a128-e1fc-477b-a91d-b11f67bead14' title='Show/Hide data repr'><svg class='icon xr-icon-database'><use xlink:href='#icon-database'></use></svg></label><div class='xr-var-attrs'><dl class='xr-attrs'><dt><span>axis :</span></dt><dd>Y</dd><dt><span>long_name :</span></dt><dd>y coordinate of projection</dd><dt><span>standard_name :</span></dt><dd>projection_y_coordinate</dd><dt><span>units :</span></dt><dd>metre</dd></dl></div><div class='xr-var-data'><pre>array([4322699.894656, 4322609.894627])</pre></div></li><li class='xr-var-item'><div class='xr-var-name'><span class='xr-has-index'>x</span></div><div class='xr-var-dims'>(x)</div><div class='xr-var-dtype'>float64</div><div class='xr-var-preview xr-preview'>7.43e+05 7.431e+05</div><input id='attrs-e60fe490-44aa-4089-be9c-1e4186516505' class='xr-var-attrs-in' type='checkbox' ><label for='attrs-e60fe490-44aa-4089-be9c-1e4186516505' title='Show/Hide attributes'><svg class='icon xr-icon-file-text2'><use xlink:href='#icon-file-text2'></use></svg></label><input id='data-e629687d-606e-42dc-83f1-69aa6fdf4ba4' class='xr-var-data-in' type='checkbox'><label for='data-e629687d-606e-42dc-83f1-69aa6fdf4ba4' title='Show/Hide data repr'><svg class='icon xr-icon-database'><use xlink:href='#icon-database'></use></svg></label><div class='xr-var-attrs'><dl class='xr-attrs'><dt><span>axis :</span></dt><dd>X</dd><dt><span>long_name :</span></dt><dd>x coordinate of projection</dd><dt><span>standard_name :</span></dt><dd>projection_x_coordinate</dd><dt><span>units :</span></dt><dd>metre</dd></dl></div><div class='xr-var-data'><pre>array([743040.138147, 743130.138176])</pre></div></li><li class='xr-var-item'><div class='xr-var-name'><span class='xr-has-index'>band</span></div><div class='xr-var-dims'>(band)</div><div class='xr-var-dtype'>int64</div><div class='xr-var-preview xr-preview'>1</div><input id='attrs-8caf079c-1673-422e-80b5-7aa376c23ddd' class='xr-var-attrs-in' type='checkbox' disabled><label for='attrs-8caf079c-1673-422e-80b5-7aa376c23ddd' title='Show/Hide attributes'><svg class='icon xr-icon-file-text2'><use xlink:href='#icon-file-text2'></use></svg></label><input id='data-26a4f54a-eaac-49a2-988a-87da59e61f9c' class='xr-var-data-in' type='checkbox'><label for='data-26a4f54a-eaac-49a2-988a-87da59e61f9c' title='Show/Hide data repr'><svg class='icon xr-icon-database'><use xlink:href='#icon-database'></use></svg></label><div class='xr-var-attrs'><dl class='xr-attrs'></dl></div><div class='xr-var-data'><pre>array([1])</pre></div></li><li class='xr-var-item'><div class='xr-var-name'><span>spatial_ref</span></div><div class='xr-var-dims'>()</div><div class='xr-var-dtype'>int64</div><div class='xr-var-preview xr-preview'>0</div><input id='attrs-6da3fbea-d0c5-43ef-8f21-9267e00e2400' class='xr-var-attrs-in' type='checkbox' ><label for='attrs-6da3fbea-d0c5-43ef-8f21-9267e00e2400' title='Show/Hide attributes'><svg class='icon xr-icon-file-text2'><use xlink:href='#icon-file-text2'></use></svg></label><input id='data-af0daf39-566f-43c4-b0ab-3876b8075455' class='xr-var-data-in' type='checkbox'><label for='data-af0daf39-566f-43c4-b0ab-3876b8075455' title='Show/Hide data repr'><svg class='icon xr-icon-database'><use xlink:href='#icon-database'></use></svg></label><div class='xr-var-attrs'><dl class='xr-attrs'><dt><span>crs_wkt :</span></dt><dd>PROJCS[&quot;NAD83 / UTM zone 12N&quot;,GEOGCS[&quot;NAD83&quot;,DATUM[&quot;North_American_Datum_1983&quot;,SPHEROID[&quot;GRS 1980&quot;,6378137,298.257222101,AUTHORITY[&quot;EPSG&quot;,&quot;7019&quot;]],AUTHORITY[&quot;EPSG&quot;,&quot;6269&quot;]],PRIMEM[&quot;Greenwich&quot;,0,AUTHORITY[&quot;EPSG&quot;,&quot;8901&quot;]],UNIT[&quot;degree&quot;,0.0174532925199433,AUTHORITY[&quot;EPSG&quot;,&quot;9122&quot;]],AUTHORITY[&quot;EPSG&quot;,&quot;4269&quot;]],PROJECTION[&quot;Transverse_Mercator&quot;],PARAMETER[&quot;latitude_of_origin&quot;,0],PARAMETER[&quot;central_meridian&quot;,-111],PARAMETER[&quot;scale_factor&quot;,0.9996],PARAMETER[&quot;false_easting&quot;,500000],PARAMETER[&quot;false_northing&quot;,0],UNIT[&quot;metre&quot;,1,AUTHORITY[&quot;EPSG&quot;,&quot;9001&quot;]],AXIS[&quot;Easting&quot;,EAST],AXIS[&quot;Northing&quot;,NORTH],AUTHORITY[&quot;EPSG&quot;,&quot;26912&quot;]]</dd><dt><span>semi_major_axis :</span></dt><dd>6378137.0</dd><dt><span>semi_minor_axis :</span></dt><dd>6356752.314140356</dd><dt><span>inverse_flattening :</span></dt><dd>298.257222101</dd><dt><span>reference_ellipsoid_name :</span></dt><dd>GRS 1980</dd><dt><span>longitude_of_prime_meridian :</span></dt><dd>0.0</dd><dt><span>prime_meridian_name :</span></dt><dd>Greenwich</dd><dt><span>geographic_crs_name :</span></dt><dd>NAD83</dd><dt><span>horizontal_datum_name :</span></dt><dd>North American Datum 1983</dd><dt><span>projected_crs_name :</span></dt><dd>NAD83 / UTM zone 12N</dd><dt><span>grid_mapping_name :</span></dt><dd>transverse_mercator</dd><dt><span>latitude_of_projection_origin :</span></dt><dd>0.0</dd><dt><span>longitude_of_central_meridian :</span></dt><dd>-111.0</dd><dt><span>false_easting :</span></dt><dd>500000.0</dd><dt><span>false_northing :</span></dt><dd>0.0</dd><dt><span>scale_factor_at_central_meridian :</span></dt><dd>0.9996</dd><dt><span>spatial_ref :</span></dt><dd>PROJCS[&quot;NAD83 / UTM zone 12N&quot;,GEOGCS[&quot;NAD83&quot;,DATUM[&quot;North_American_Datum_1983&quot;,SPHEROID[&quot;GRS 1980&quot;,6378137,298.257222101,AUTHORITY[&quot;EPSG&quot;,&quot;7019&quot;]],AUTHORITY[&quot;EPSG&quot;,&quot;6269&quot;]],PRIMEM[&quot;Greenwich&quot;,0,AUTHORITY[&quot;EPSG&quot;,&quot;8901&quot;]],UNIT[&quot;degree&quot;,0.0174532925199433,AUTHORITY[&quot;EPSG&quot;,&quot;9122&quot;]],AUTHORITY[&quot;EPSG&quot;,&quot;4269&quot;]],PROJECTION[&quot;Transverse_Mercator&quot;],PARAMETER[&quot;latitude_of_origin&quot;,0],PARAMETER[&quot;central_meridian&quot;,-111],PARAMETER[&quot;scale_factor&quot;,0.9996],PARAMETER[&quot;false_easting&quot;,500000],PARAMETER[&quot;false_northing&quot;,0],UNIT[&quot;metre&quot;,1,AUTHORITY[&quot;EPSG&quot;,&quot;9001&quot;]],AXIS[&quot;Easting&quot;,EAST],AXIS[&quot;Northing&quot;,NORTH],AUTHORITY[&quot;EPSG&quot;,&quot;26912&quot;]]</dd><dt><span>GeoTransform :</span></dt><dd>742995.1381323175 90.0000292265322 0.0 4322744.894670641 0.0 -90.00002922676504</dd></dl></div><div class='xr-var-data'><pre>array(0)</pre></div></li></ul></div></li><li class='xr-section-item'><input id='section-ef3157e5-f632-4e46-8066-ff5420b0169d' class='xr-section-summary-in' type='checkbox' disabled ><label for='section-ef3157e5-f632-4e46-8066-ff5420b0169d' class='xr-section-summary'  title='Expand/collapse section'>Attributes: <span>(0)</span></label><div class='xr-section-inline-details'></div><div class='xr-section-details'><dl class='xr-attrs'></dl></div></li></ul></div></div>"
      ],
      "text/plain": [
       "<xarray.DataArray (band: 1, y: 2, x: 2)>\n",
       "array([[[-6.08382303, -6.1361369 ],\n",
       "        [-6.0315384 , -6.24085249]]])\n",
       "Coordinates:\n",
       "  * y            (y) float64 4.323e+06 4.323e+06\n",
       "  * x            (x) float64 7.43e+05 7.431e+05\n",
       "  * band         (band) int64 1\n",
       "    spatial_ref  int64 0"
      ]
     },
     "execution_count": 50,
     "metadata": {},
     "output_type": "execute_result"
    }
   ],
   "source": [
    "# First clip to the single point\n",
    "aster_band14_tb_c_point_temperature = aster_band14_tb_c.rio.clip(siteData_df.geometry)\n",
    "\n",
    "# Second clip to the 100 m radius buffered area\n",
    "aster_band14_tb_c_area_temperature = aster_band14_tb_c.rio.clip(siteData_df_buffer.geometry)\n",
    "\n",
    "# preview the result\n",
    "aster_band14_tb_c_area_temperature"
   ]
  },
  {
   "cell_type": "markdown",
   "id": "herbal-temple",
   "metadata": {},
   "source": [
    "How many ASTER pixels in the area did we select?\n",
    "\n",
    "Plot the clipped area:"
   ]
  },
  {
   "cell_type": "code",
   "execution_count": 51,
   "id": "ancient-drilling",
   "metadata": {},
   "outputs": [
    {
     "data": {
      "image/png": "[encoded data removed]",
      "text/plain": [
       "<Figure size 720x360 with 3 Axes>"
      ]
     },
     "metadata": {
      "needs_background": "light"
     },
     "output_type": "display_data"
    }
   ],
   "source": [
    "fig, ax = plt.subplots(nrows=1, ncols=2, figsize=(10,5), tight_layout=True)\n",
    "\n",
    "# plot the portion of the airborne TIR image we selected within the buffer area geometry\n",
    "aster_band14_tb_c_area_temperature.plot(cmap='magma', vmin=-7, vmax=-4, ax=ax[0], \n",
    "                 cbar_kwargs={'label': 'Temperature $\\degree C$'})\n",
    "ax[0].set_title('ASTER TIR image within\\n100 m radius buffer (2S10)\\n')\n",
    "ax[0].set_aspect('equal')\n",
    "ax[0].set_xlabel('Eastings UTM 12N (m)')\n",
    "ax[0].set_ylabel('Northings UTM 12N (m)')\n",
    "ax[0].set_xlim((xmin-150, xmax+150)) # x axis limits to +/- 150 m from our point's \"total bounds\"\n",
    "ax[0].set_ylim((ymin-150, ymax+150)) # y axis limits to +/- 150 m from our point's \"total bounds\"\n",
    "\n",
    "# plot the location of the snow pit of interest to the plot\n",
    "siteData_df.plot(ax=ax[0], color='r', marker='x')\n",
    "\n",
    "# plot the area of the buffer we made around the snow pit\n",
    "siteData_df_buffer.plot(ax=ax[0], edgecolor='r', facecolor='none')\n",
    "\n",
    "# plot a histogram of image temperature data within the buffer area geometry\n",
    "aster_band14_tb_c_area_temperature.plot.hist(ax=ax[1], color='k');\n",
    "ax[1].set_xlim((-7,-4)) # set xlim to same values as colorbar in image plot\n",
    "ax[1].set_title('Histogram of temperatures from ASTER TIR image\\n100 m radius buffer (2S10)')\n",
    "ax[1].set_ylabel('Number of pixels');"
   ]
  },
  {
   "cell_type": "markdown",
   "id": "geological-amount",
   "metadata": {},
   "source": [
    "**Plot the ASTER IR temperature data on top of the ground-based timeseries and airborne IR temperature**"
   ]
  },
  {
   "cell_type": "code",
   "execution_count": 52,
   "id": "located-prince",
   "metadata": {},
   "outputs": [
    {
     "data": {
      "image/png": "[encoded data removed]",
      "text/plain": [
       "<Figure size 720x288 with 1 Axes>"
      ]
     },
     "metadata": {
      "needs_background": "light"
     },
     "output_type": "display_data"
    }
   ],
   "source": [
    "plt.figure(figsize=(10,4))\n",
    "\n",
    "# plot radiometer average temperature\n",
    "df.rad_avg.plot(linestyle='-', marker='', markersize=1, c='k', label='Ground-based $T_s$')\n",
    "\n",
    "# plot the mean airborne IR temperature from the area around the snow pit:\n",
    "plt.plot(airborne_ir_timestamp, airborne_ir_area_temperature.mean(),\n",
    "         marker='o', c='r', linestyle='none',\n",
    "         label='Airborne IR mean $T_s$ for 100 m radius area')\n",
    "# plot an error bar showing the maximum and minimum airborne IR temperature around the snow pit\n",
    "plt.errorbar(airborne_ir_timestamp, airborne_ir_area_temperature.mean(),\n",
    "             yerr=[[airborne_ir_area_temperature.mean()-airborne_ir_area_temperature.min()], \n",
    "                   [airborne_ir_area_temperature.max()-airborne_ir_area_temperature.mean()]],\n",
    "            capsize=3, fmt='none', ecolor='r',\n",
    "            )#label='Airborne IR $T_s$ range for 100 m radius area')\n",
    "\n",
    "# plot the mean ASTER IR temperature from the area around the snow pit:\n",
    "plt.plot(aster_ir_timestamp, aster_band14_tb_c_area_temperature.mean(),\n",
    "         marker='o', c='b', linestyle='none',\n",
    "        label='ASTER IR mean $T_s$ for 100 m radius area')\n",
    "# plot an error bar showing the maximum and minimum ASTER IR temperature around the snow pit\n",
    "plt.errorbar(aster_ir_timestamp, aster_band14_tb_c_area_temperature.mean(),\n",
    "             yerr=[[aster_band14_tb_c_area_temperature.mean()-aster_band14_tb_c_area_temperature.min()], \n",
    "                   [aster_band14_tb_c_area_temperature.max()-aster_band14_tb_c_area_temperature.mean()]],\n",
    "            capsize=3, fmt='none', ecolor='b',\n",
    "            )#label='ASTER IR $T_s$ range for 100 m radius area')\n",
    "\n",
    "\n",
    "# set axes limits\n",
    "plt.ylim((-15,0))\n",
    "plt.xlim((pd.Timestamp(2020,2,8,6,0),pd.Timestamp(2020,2,8,20,0))) # zoom in to daytime hours on Feb. 8, 2020\n",
    "\n",
    "# add a legend to the plot\n",
    "plt.legend()\n",
    "\n",
    "# set axes labels\n",
    "plt.ylabel('Temperature [$C\\degree$]')\n",
    "plt.xlabel('Time')\n",
    "\n",
    "# add grid lines to the plot\n",
    "plt.grid('on')\n",
    "\n",
    "# set the plot title\n",
    "plt.title('Snow Surface Temperature at Snow Pit 2S10');"
   ]
  },
  {
   "cell_type": "markdown",
   "id": "burning-conviction",
   "metadata": {},
   "source": [
    "---\n",
    "### Bonus activity: comparing two thermal IR rasters\n",
    "\n",
    "How does the finer spatial resolution airborne IR image compare with the coarser resolution ASTER IR image?\n",
    "\n",
    "One way to compare these two images is to \"upscale\" the finer resolution airborne IR image to the same spatial resolution as ASTER.\n",
    "\n",
    "We can use the rioxarray [reproject_match](https://corteva.github.io/rioxarray/stable/rioxarray.html#rioxarray.raster_array.RasterArray.reproject_match) function to do this. ([also see this example](https://corteva.github.io/rioxarray/stable/examples/reproject_match.html))\n",
    "\n",
    "Note that this function has [multiple options](https://rasterio.readthedocs.io/en/stable/api/rasterio.enums.html#rasterio.enums.Resampling) for how we want to resample the image data to the new spatial resolution. We will use `resampling=5` which corresponds to taking the mean value."
   ]
  },
  {
   "cell_type": "code",
   "execution_count": 53,
   "id": "dramatic-dialogue",
   "metadata": {},
   "outputs": [],
   "source": [
    "airborne_ir_repr = airborne_ir.rio.reproject_match(aster_ir, resampling=5)"
   ]
  },
  {
   "cell_type": "markdown",
   "id": "median-burton",
   "metadata": {},
   "source": [
    "Preview the result. \n",
    "* What are the image dimensions of the reprojected airborne IR image compared with the original?"
   ]
  },
  {
   "cell_type": "code",
   "execution_count": 54,
   "id": "streaming-brighton",
   "metadata": {},
   "outputs": [
    {
     "data": {
      "text/html": [
       "<div><svg style=\"position: absolute; width: 0; height: 0; overflow: hidden\">\n",
       "<defs>\n",
       "<symbol id=\"icon-database\" viewBox=\"0 0 32 32\">\n",
       "<path d=\"M16 0c-8.837 0-16 2.239-16 5v4c0 2.761 7.163 5 16 5s16-2.239 16-5v-4c0-2.761-7.163-5-16-5z\"></path>\n",
       "<path d=\"M16 17c-8.837 0-16-2.239-16-5v6c0 2.761 7.163 5 16 5s16-2.239 16-5v-6c0 2.761-7.163 5-16 5z\"></path>\n",
       "<path d=\"M16 26c-8.837 0-16-2.239-16-5v6c0 2.761 7.163 5 16 5s16-2.239 16-5v-6c0 2.761-7.163 5-16 5z\"></path>\n",
       "</symbol>\n",
       "<symbol id=\"icon-file-text2\" viewBox=\"0 0 32 32\">\n",
       "<path d=\"M28.681 7.159c-0.694-0.947-1.662-2.053-2.724-3.116s-2.169-2.030-3.116-2.724c-1.612-1.182-2.393-1.319-2.841-1.319h-15.5c-1.378 0-2.5 1.121-2.5 2.5v27c0 1.378 1.122 2.5 2.5 2.5h23c1.378 0 2.5-1.122 2.5-2.5v-19.5c0-0.448-0.137-1.23-1.319-2.841zM24.543 5.457c0.959 0.959 1.712 1.825 2.268 2.543h-4.811v-4.811c0.718 0.556 1.584 1.309 2.543 2.268zM28 29.5c0 0.271-0.229 0.5-0.5 0.5h-23c-0.271 0-0.5-0.229-0.5-0.5v-27c0-0.271 0.229-0.5 0.5-0.5 0 0 15.499-0 15.5 0v7c0 0.552 0.448 1 1 1h7v19.5z\"></path>\n",
       "<path d=\"M23 26h-14c-0.552 0-1-0.448-1-1s0.448-1 1-1h14c0.552 0 1 0.448 1 1s-0.448 1-1 1z\"></path>\n",
       "<path d=\"M23 22h-14c-0.552 0-1-0.448-1-1s0.448-1 1-1h14c0.552 0 1 0.448 1 1s-0.448 1-1 1z\"></path>\n",
       "<path d=\"M23 18h-14c-0.552 0-1-0.448-1-1s0.448-1 1-1h14c0.552 0 1 0.448 1 1s-0.448 1-1 1z\"></path>\n",
       "</symbol>\n",
       "</defs>\n",
       "</svg>\n",
       "<style>/* CSS stylesheet for displaying xarray objects in jupyterlab.\n",
       " *\n",
       " */\n",
       "\n",
       ":root {\n",
       "  --xr-font-color0: var(--jp-content-font-color0, rgba(0, 0, 0, 1));\n",
       "  --xr-font-color2: var(--jp-content-font-color2, rgba(0, 0, 0, 0.54));\n",
       "  --xr-font-color3: var(--jp-content-font-color3, rgba(0, 0, 0, 0.38));\n",
       "  --xr-border-color: var(--jp-border-color2, #e0e0e0);\n",
       "  --xr-disabled-color: var(--jp-layout-color3, #bdbdbd);\n",
       "  --xr-background-color: var(--jp-layout-color0, white);\n",
       "  --xr-background-color-row-even: var(--jp-layout-color1, white);\n",
       "  --xr-background-color-row-odd: var(--jp-layout-color2, #eeeeee);\n",
       "}\n",
       "\n",
       "html[theme=dark],\n",
       "body.vscode-dark {\n",
       "  --xr-font-color0: rgba(255, 255, 255, 1);\n",
       "  --xr-font-color2: rgba(255, 255, 255, 0.54);\n",
       "  --xr-font-color3: rgba(255, 255, 255, 0.38);\n",
       "  --xr-border-color: #1F1F1F;\n",
       "  --xr-disabled-color: #515151;\n",
       "  --xr-background-color: #111111;\n",
       "  --xr-background-color-row-even: #111111;\n",
       "  --xr-background-color-row-odd: #313131;\n",
       "}\n",
       "\n",
       ".xr-wrap {\n",
       "  display: block;\n",
       "  min-width: 300px;\n",
       "  max-width: 700px;\n",
       "}\n",
       "\n",
       ".xr-text-repr-fallback {\n",
       "  /* fallback to plain text repr when CSS is not injected (untrusted notebook) */\n",
       "  display: none;\n",
       "}\n",
       "\n",
       ".xr-header {\n",
       "  padding-top: 6px;\n",
       "  padding-bottom: 6px;\n",
       "  margin-bottom: 4px;\n",
       "  border-bottom: solid 1px var(--xr-border-color);\n",
       "}\n",
       "\n",
       ".xr-header > div,\n",
       ".xr-header > ul {\n",
       "  display: inline;\n",
       "  margin-top: 0;\n",
       "  margin-bottom: 0;\n",
       "}\n",
       "\n",
       ".xr-obj-type,\n",
       ".xr-array-name {\n",
       "  margin-left: 2px;\n",
       "  margin-right: 10px;\n",
       "}\n",
       "\n",
       ".xr-obj-type {\n",
       "  color: var(--xr-font-color2);\n",
       "}\n",
       "\n",
       ".xr-sections {\n",
       "  padding-left: 0 !important;\n",
       "  display: grid;\n",
       "  grid-template-columns: 150px auto auto 1fr 20px 20px;\n",
       "}\n",
       "\n",
       ".xr-section-item {\n",
       "  display: contents;\n",
       "}\n",
       "\n",
       ".xr-section-item input {\n",
       "  display: none;\n",
       "}\n",
       "\n",
       ".xr-section-item input + label {\n",
       "  color: var(--xr-disabled-color);\n",
       "}\n",
       "\n",
       ".xr-section-item input:enabled + label {\n",
       "  cursor: pointer;\n",
       "  color: var(--xr-font-color2);\n",
       "}\n",
       "\n",
       ".xr-section-item input:enabled + label:hover {\n",
       "  color: var(--xr-font-color0);\n",
       "}\n",
       "\n",
       ".xr-section-summary {\n",
       "  grid-column: 1;\n",
       "  color: var(--xr-font-color2);\n",
       "  font-weight: 500;\n",
       "}\n",
       "\n",
       ".xr-section-summary > span {\n",
       "  display: inline-block;\n",
       "  padding-left: 0.5em;\n",
       "}\n",
       "\n",
       ".xr-section-summary-in:disabled + label {\n",
       "  color: var(--xr-font-color2);\n",
       "}\n",
       "\n",
       ".xr-section-summary-in + label:before {\n",
       "  display: inline-block;\n",
       "  content: '►';\n",
       "  font-size: 11px;\n",
       "  width: 15px;\n",
       "  text-align: center;\n",
       "}\n",
       "\n",
       ".xr-section-summary-in:disabled + label:before {\n",
       "  color: var(--xr-disabled-color);\n",
       "}\n",
       "\n",
       ".xr-section-summary-in:checked + label:before {\n",
       "  content: '▼';\n",
       "}\n",
       "\n",
       ".xr-section-summary-in:checked + label > span {\n",
       "  display: none;\n",
       "}\n",
       "\n",
       ".xr-section-summary,\n",
       ".xr-section-inline-details {\n",
       "  padding-top: 4px;\n",
       "  padding-bottom: 4px;\n",
       "}\n",
       "\n",
       ".xr-section-inline-details {\n",
       "  grid-column: 2 / -1;\n",
       "}\n",
       "\n",
       ".xr-section-details {\n",
       "  display: none;\n",
       "  grid-column: 1 / -1;\n",
       "  margin-bottom: 5px;\n",
       "}\n",
       "\n",
       ".xr-section-summary-in:checked ~ .xr-section-details {\n",
       "  display: contents;\n",
       "}\n",
       "\n",
       ".xr-array-wrap {\n",
       "  grid-column: 1 / -1;\n",
       "  display: grid;\n",
       "  grid-template-columns: 20px auto;\n",
       "}\n",
       "\n",
       ".xr-array-wrap > label {\n",
       "  grid-column: 1;\n",
       "  vertical-align: top;\n",
       "}\n",
       "\n",
       ".xr-preview {\n",
       "  color: var(--xr-font-color3);\n",
       "}\n",
       "\n",
       ".xr-array-preview,\n",
       ".xr-array-data {\n",
       "  padding: 0 5px !important;\n",
       "  grid-column: 2;\n",
       "}\n",
       "\n",
       ".xr-array-data,\n",
       ".xr-array-in:checked ~ .xr-array-preview {\n",
       "  display: none;\n",
       "}\n",
       "\n",
       ".xr-array-in:checked ~ .xr-array-data,\n",
       ".xr-array-preview {\n",
       "  display: inline-block;\n",
       "}\n",
       "\n",
       ".xr-dim-list {\n",
       "  display: inline-block !important;\n",
       "  list-style: none;\n",
       "  padding: 0 !important;\n",
       "  margin: 0;\n",
       "}\n",
       "\n",
       ".xr-dim-list li {\n",
       "  display: inline-block;\n",
       "  padding: 0;\n",
       "  margin: 0;\n",
       "}\n",
       "\n",
       ".xr-dim-list:before {\n",
       "  content: '(';\n",
       "}\n",
       "\n",
       ".xr-dim-list:after {\n",
       "  content: ')';\n",
       "}\n",
       "\n",
       ".xr-dim-list li:not(:last-child):after {\n",
       "  content: ',';\n",
       "  padding-right: 5px;\n",
       "}\n",
       "\n",
       ".xr-has-index {\n",
       "  font-weight: bold;\n",
       "}\n",
       "\n",
       ".xr-var-list,\n",
       ".xr-var-item {\n",
       "  display: contents;\n",
       "}\n",
       "\n",
       ".xr-var-item > div,\n",
       ".xr-var-item label,\n",
       ".xr-var-item > .xr-var-name span {\n",
       "  background-color: var(--xr-background-color-row-even);\n",
       "  margin-bottom: 0;\n",
       "}\n",
       "\n",
       ".xr-var-item > .xr-var-name:hover span {\n",
       "  padding-right: 5px;\n",
       "}\n",
       "\n",
       ".xr-var-list > li:nth-child(odd) > div,\n",
       ".xr-var-list > li:nth-child(odd) > label,\n",
       ".xr-var-list > li:nth-child(odd) > .xr-var-name span {\n",
       "  background-color: var(--xr-background-color-row-odd);\n",
       "}\n",
       "\n",
       ".xr-var-name {\n",
       "  grid-column: 1;\n",
       "}\n",
       "\n",
       ".xr-var-dims {\n",
       "  grid-column: 2;\n",
       "}\n",
       "\n",
       ".xr-var-dtype {\n",
       "  grid-column: 3;\n",
       "  text-align: right;\n",
       "  color: var(--xr-font-color2);\n",
       "}\n",
       "\n",
       ".xr-var-preview {\n",
       "  grid-column: 4;\n",
       "}\n",
       "\n",
       ".xr-var-name,\n",
       ".xr-var-dims,\n",
       ".xr-var-dtype,\n",
       ".xr-preview,\n",
       ".xr-attrs dt {\n",
       "  white-space: nowrap;\n",
       "  overflow: hidden;\n",
       "  text-overflow: ellipsis;\n",
       "  padding-right: 10px;\n",
       "}\n",
       "\n",
       ".xr-var-name:hover,\n",
       ".xr-var-dims:hover,\n",
       ".xr-var-dtype:hover,\n",
       ".xr-attrs dt:hover {\n",
       "  overflow: visible;\n",
       "  width: auto;\n",
       "  z-index: 1;\n",
       "}\n",
       "\n",
       ".xr-var-attrs,\n",
       ".xr-var-data {\n",
       "  display: none;\n",
       "  background-color: var(--xr-background-color) !important;\n",
       "  padding-bottom: 5px !important;\n",
       "}\n",
       "\n",
       ".xr-var-attrs-in:checked ~ .xr-var-attrs,\n",
       ".xr-var-data-in:checked ~ .xr-var-data {\n",
       "  display: block;\n",
       "}\n",
       "\n",
       ".xr-var-data > table {\n",
       "  float: right;\n",
       "}\n",
       "\n",
       ".xr-var-name span,\n",
       ".xr-var-data,\n",
       ".xr-attrs {\n",
       "  padding-left: 25px !important;\n",
       "}\n",
       "\n",
       ".xr-attrs,\n",
       ".xr-var-attrs,\n",
       ".xr-var-data {\n",
       "  grid-column: 1 / -1;\n",
       "}\n",
       "\n",
       "dl.xr-attrs {\n",
       "  padding: 0;\n",
       "  margin: 0;\n",
       "  display: grid;\n",
       "  grid-template-columns: 125px auto;\n",
       "}\n",
       "\n",
       ".xr-attrs dt,\n",
       ".xr-attrs dd {\n",
       "  padding: 0;\n",
       "  margin: 0;\n",
       "  float: left;\n",
       "  padding-right: 10px;\n",
       "  width: auto;\n",
       "}\n",
       "\n",
       ".xr-attrs dt {\n",
       "  font-weight: normal;\n",
       "  grid-column: 1;\n",
       "}\n",
       "\n",
       ".xr-attrs dt:hover span {\n",
       "  display: inline-block;\n",
       "  background: var(--xr-background-color);\n",
       "  padding-right: 10px;\n",
       "}\n",
       "\n",
       ".xr-attrs dd {\n",
       "  grid-column: 2;\n",
       "  white-space: pre-wrap;\n",
       "  word-break: break-all;\n",
       "}\n",
       "\n",
       ".xr-icon-database,\n",
       ".xr-icon-file-text2 {\n",
       "  display: inline-block;\n",
       "  vertical-align: middle;\n",
       "  width: 1em;\n",
       "  height: 1.5em !important;\n",
       "  stroke-width: 0;\n",
       "  stroke: currentColor;\n",
       "  fill: currentColor;\n",
       "}\n",
       "</style><pre class='xr-text-repr-fallback'>&lt;xarray.DataArray (band: 1, y: 817, x: 927)&gt;\n",
       "array([[[nan, nan, nan, ..., nan, nan, nan],\n",
       "        [nan, nan, nan, ..., nan, nan, nan],\n",
       "        [nan, nan, nan, ..., nan, nan, nan],\n",
       "        ...,\n",
       "        [nan, nan, nan, ..., nan, nan, nan],\n",
       "        [nan, nan, nan, ..., nan, nan, nan],\n",
       "        [nan, nan, nan, ..., nan, nan, nan]]], dtype=float32)\n",
       "Coordinates:\n",
       "  * x            (x) float64 6.998e+05 6.998e+05 ... 7.83e+05 7.831e+05\n",
       "  * y            (y) float64 4.357e+06 4.356e+06 ... 4.283e+06 4.283e+06\n",
       "  * band         (band) int64 1\n",
       "    spatial_ref  int64 0\n",
       "Attributes:\n",
       "    scales:         (1.0,)\n",
       "    offsets:        (0.0,)\n",
       "    descriptions:   (&#x27;STCtemp&#x27;,)\n",
       "    AREA_OR_POINT:  Area\n",
       "    description:    Airborne thermal infrared imagery from University of Wash...\n",
       "    grid_mapping:   spatial_ref\n",
       "    _FillValue:     nan</pre><div class='xr-wrap' hidden><div class='xr-header'><div class='xr-obj-type'>xarray.DataArray</div><div class='xr-array-name'></div><ul class='xr-dim-list'><li><span class='xr-has-index'>band</span>: 1</li><li><span class='xr-has-index'>y</span>: 817</li><li><span class='xr-has-index'>x</span>: 927</li></ul></div><ul class='xr-sections'><li class='xr-section-item'><div class='xr-array-wrap'><input id='section-b8a18e77-3243-421f-9379-1b445dc48f6b' class='xr-array-in' type='checkbox' checked><label for='section-b8a18e77-3243-421f-9379-1b445dc48f6b' title='Show/hide data repr'><svg class='icon xr-icon-database'><use xlink:href='#icon-database'></use></svg></label><div class='xr-array-preview xr-preview'><span>nan nan nan nan nan nan nan nan ... nan nan nan nan nan nan nan nan</span></div><div class='xr-array-data'><pre>array([[[nan, nan, nan, ..., nan, nan, nan],\n",
       "        [nan, nan, nan, ..., nan, nan, nan],\n",
       "        [nan, nan, nan, ..., nan, nan, nan],\n",
       "        ...,\n",
       "        [nan, nan, nan, ..., nan, nan, nan],\n",
       "        [nan, nan, nan, ..., nan, nan, nan],\n",
       "        [nan, nan, nan, ..., nan, nan, nan]]], dtype=float32)</pre></div></div></li><li class='xr-section-item'><input id='section-0d4f4a4c-7d2a-4018-b2ea-bb596cc543ea' class='xr-section-summary-in' type='checkbox'  checked><label for='section-0d4f4a4c-7d2a-4018-b2ea-bb596cc543ea' class='xr-section-summary' >Coordinates: <span>(4)</span></label><div class='xr-section-inline-details'></div><div class='xr-section-details'><ul class='xr-var-list'><li class='xr-var-item'><div class='xr-var-name'><span class='xr-has-index'>x</span></div><div class='xr-var-dims'>(x)</div><div class='xr-var-dtype'>float64</div><div class='xr-var-preview xr-preview'>6.998e+05 6.998e+05 ... 7.831e+05</div><input id='attrs-fcf6a115-73ad-44d9-baf6-84281bfeb5e8' class='xr-var-attrs-in' type='checkbox' ><label for='attrs-fcf6a115-73ad-44d9-baf6-84281bfeb5e8' title='Show/Hide attributes'><svg class='icon xr-icon-file-text2'><use xlink:href='#icon-file-text2'></use></svg></label><input id='data-03c034ca-8c65-4bdf-a2d3-a6d8ad582d2a' class='xr-var-data-in' type='checkbox'><label for='data-03c034ca-8c65-4bdf-a2d3-a6d8ad582d2a' title='Show/Hide data repr'><svg class='icon xr-icon-database'><use xlink:href='#icon-database'></use></svg></label><div class='xr-var-attrs'><dl class='xr-attrs'><dt><span>axis :</span></dt><dd>X</dd><dt><span>long_name :</span></dt><dd>x coordinate of projection</dd><dt><span>standard_name :</span></dt><dd>projection_x_coordinate</dd><dt><span>units :</span></dt><dd>metre</dd></dl></div><div class='xr-var-data'><pre>array([699750.124089, 699840.124118, 699930.124147, ..., 782910.151094,\n",
       "       783000.151124, 783090.151153])</pre></div></li><li class='xr-var-item'><div class='xr-var-name'><span class='xr-has-index'>y</span></div><div class='xr-var-dims'>(y)</div><div class='xr-var-dtype'>float64</div><div class='xr-var-preview xr-preview'>4.357e+06 4.356e+06 ... 4.283e+06</div><input id='attrs-44dda0b8-9527-4404-87f4-c69d33263916' class='xr-var-attrs-in' type='checkbox' ><label for='attrs-44dda0b8-9527-4404-87f4-c69d33263916' title='Show/Hide attributes'><svg class='icon xr-icon-file-text2'><use xlink:href='#icon-file-text2'></use></svg></label><input id='data-44491948-e800-4aef-9897-95db73aa61f2' class='xr-var-data-in' type='checkbox'><label for='data-44491948-e800-4aef-9897-95db73aa61f2' title='Show/Hide data repr'><svg class='icon xr-icon-database'><use xlink:href='#icon-database'></use></svg></label><div class='xr-var-attrs'><dl class='xr-attrs'><dt><span>axis :</span></dt><dd>Y</dd><dt><span>long_name :</span></dt><dd>y coordinate of projection</dd><dt><span>standard_name :</span></dt><dd>projection_y_coordinate</dd><dt><span>units :</span></dt><dd>metre</dd></dl></div><div class='xr-var-data'><pre>array([4356539.905645, 4356449.905616, 4356359.905587, ..., 4283279.881855,\n",
       "       4283189.881826, 4283099.881796])</pre></div></li><li class='xr-var-item'><div class='xr-var-name'><span class='xr-has-index'>band</span></div><div class='xr-var-dims'>(band)</div><div class='xr-var-dtype'>int64</div><div class='xr-var-preview xr-preview'>1</div><input id='attrs-73b58c69-7c93-4712-8a10-4c77c83c1ecb' class='xr-var-attrs-in' type='checkbox' disabled><label for='attrs-73b58c69-7c93-4712-8a10-4c77c83c1ecb' title='Show/Hide attributes'><svg class='icon xr-icon-file-text2'><use xlink:href='#icon-file-text2'></use></svg></label><input id='data-8e7a0560-8059-45a5-81ed-988498b73b15' class='xr-var-data-in' type='checkbox'><label for='data-8e7a0560-8059-45a5-81ed-988498b73b15' title='Show/Hide data repr'><svg class='icon xr-icon-database'><use xlink:href='#icon-database'></use></svg></label><div class='xr-var-attrs'><dl class='xr-attrs'></dl></div><div class='xr-var-data'><pre>array([1])</pre></div></li><li class='xr-var-item'><div class='xr-var-name'><span>spatial_ref</span></div><div class='xr-var-dims'>()</div><div class='xr-var-dtype'>int64</div><div class='xr-var-preview xr-preview'>0</div><input id='attrs-871f881f-475e-4626-9939-6d665156dd37' class='xr-var-attrs-in' type='checkbox' ><label for='attrs-871f881f-475e-4626-9939-6d665156dd37' title='Show/Hide attributes'><svg class='icon xr-icon-file-text2'><use xlink:href='#icon-file-text2'></use></svg></label><input id='data-a2b11786-d7aa-442d-83d6-a942b7aab417' class='xr-var-data-in' type='checkbox'><label for='data-a2b11786-d7aa-442d-83d6-a942b7aab417' title='Show/Hide data repr'><svg class='icon xr-icon-database'><use xlink:href='#icon-database'></use></svg></label><div class='xr-var-attrs'><dl class='xr-attrs'><dt><span>crs_wkt :</span></dt><dd>PROJCS[&quot;NAD83 / UTM zone 12N&quot;,GEOGCS[&quot;NAD83&quot;,DATUM[&quot;North_American_Datum_1983&quot;,SPHEROID[&quot;GRS 1980&quot;,6378137,298.257222101,AUTHORITY[&quot;EPSG&quot;,&quot;7019&quot;]],AUTHORITY[&quot;EPSG&quot;,&quot;6269&quot;]],PRIMEM[&quot;Greenwich&quot;,0,AUTHORITY[&quot;EPSG&quot;,&quot;8901&quot;]],UNIT[&quot;degree&quot;,0.0174532925199433,AUTHORITY[&quot;EPSG&quot;,&quot;9122&quot;]],AUTHORITY[&quot;EPSG&quot;,&quot;4269&quot;]],PROJECTION[&quot;Transverse_Mercator&quot;],PARAMETER[&quot;latitude_of_origin&quot;,0],PARAMETER[&quot;central_meridian&quot;,-111],PARAMETER[&quot;scale_factor&quot;,0.9996],PARAMETER[&quot;false_easting&quot;,500000],PARAMETER[&quot;false_northing&quot;,0],UNIT[&quot;metre&quot;,1,AUTHORITY[&quot;EPSG&quot;,&quot;9001&quot;]],AXIS[&quot;Easting&quot;,EAST],AXIS[&quot;Northing&quot;,NORTH],AUTHORITY[&quot;EPSG&quot;,&quot;26912&quot;]]</dd><dt><span>semi_major_axis :</span></dt><dd>6378137.0</dd><dt><span>semi_minor_axis :</span></dt><dd>6356752.314140356</dd><dt><span>inverse_flattening :</span></dt><dd>298.257222101</dd><dt><span>reference_ellipsoid_name :</span></dt><dd>GRS 1980</dd><dt><span>longitude_of_prime_meridian :</span></dt><dd>0.0</dd><dt><span>prime_meridian_name :</span></dt><dd>Greenwich</dd><dt><span>geographic_crs_name :</span></dt><dd>NAD83</dd><dt><span>horizontal_datum_name :</span></dt><dd>North American Datum 1983</dd><dt><span>projected_crs_name :</span></dt><dd>NAD83 / UTM zone 12N</dd><dt><span>grid_mapping_name :</span></dt><dd>transverse_mercator</dd><dt><span>latitude_of_projection_origin :</span></dt><dd>0.0</dd><dt><span>longitude_of_central_meridian :</span></dt><dd>-111.0</dd><dt><span>false_easting :</span></dt><dd>500000.0</dd><dt><span>false_northing :</span></dt><dd>0.0</dd><dt><span>scale_factor_at_central_meridian :</span></dt><dd>0.9996</dd><dt><span>spatial_ref :</span></dt><dd>PROJCS[&quot;NAD83 / UTM zone 12N&quot;,GEOGCS[&quot;NAD83&quot;,DATUM[&quot;North_American_Datum_1983&quot;,SPHEROID[&quot;GRS 1980&quot;,6378137,298.257222101,AUTHORITY[&quot;EPSG&quot;,&quot;7019&quot;]],AUTHORITY[&quot;EPSG&quot;,&quot;6269&quot;]],PRIMEM[&quot;Greenwich&quot;,0,AUTHORITY[&quot;EPSG&quot;,&quot;8901&quot;]],UNIT[&quot;degree&quot;,0.0174532925199433,AUTHORITY[&quot;EPSG&quot;,&quot;9122&quot;]],AUTHORITY[&quot;EPSG&quot;,&quot;4269&quot;]],PROJECTION[&quot;Transverse_Mercator&quot;],PARAMETER[&quot;latitude_of_origin&quot;,0],PARAMETER[&quot;central_meridian&quot;,-111],PARAMETER[&quot;scale_factor&quot;,0.9996],PARAMETER[&quot;false_easting&quot;,500000],PARAMETER[&quot;false_northing&quot;,0],UNIT[&quot;metre&quot;,1,AUTHORITY[&quot;EPSG&quot;,&quot;9001&quot;]],AXIS[&quot;Easting&quot;,EAST],AXIS[&quot;Northing&quot;,NORTH],AUTHORITY[&quot;EPSG&quot;,&quot;26912&quot;]]</dd><dt><span>GeoTransform :</span></dt><dd>699705.124074325 90.00002922659544 0.0 4356584.90565984 0.0 -90.00002922659498</dd></dl></div><div class='xr-var-data'><pre>array(0)</pre></div></li></ul></div></li><li class='xr-section-item'><input id='section-0d468213-f458-4319-ad81-a23aa82a0008' class='xr-section-summary-in' type='checkbox'  checked><label for='section-0d468213-f458-4319-ad81-a23aa82a0008' class='xr-section-summary' >Attributes: <span>(7)</span></label><div class='xr-section-inline-details'></div><div class='xr-section-details'><dl class='xr-attrs'><dt><span>scales :</span></dt><dd>(1.0,)</dd><dt><span>offsets :</span></dt><dd>(0.0,)</dd><dt><span>descriptions :</span></dt><dd>(&#x27;STCtemp&#x27;,)</dd><dt><span>AREA_OR_POINT :</span></dt><dd>Area</dd><dt><span>description :</span></dt><dd>Airborne thermal infrared imagery from University of Washington Applied Physics Lab Compact Airborne System for Imaging the Environment instrument. Imagery of Grand Mesa, Colorado from SnowEx 2020 field campaign.</dd><dt><span>grid_mapping :</span></dt><dd>spatial_ref</dd><dt><span>_FillValue :</span></dt><dd>nan</dd></dl></div></li></ul></div></div>"
      ],
      "text/plain": [
       "<xarray.DataArray (band: 1, y: 817, x: 927)>\n",
       "array([[[nan, nan, nan, ..., nan, nan, nan],\n",
       "        [nan, nan, nan, ..., nan, nan, nan],\n",
       "        [nan, nan, nan, ..., nan, nan, nan],\n",
       "        ...,\n",
       "        [nan, nan, nan, ..., nan, nan, nan],\n",
       "        [nan, nan, nan, ..., nan, nan, nan],\n",
       "        [nan, nan, nan, ..., nan, nan, nan]]], dtype=float32)\n",
       "Coordinates:\n",
       "  * x            (x) float64 6.998e+05 6.998e+05 ... 7.83e+05 7.831e+05\n",
       "  * y            (y) float64 4.357e+06 4.356e+06 ... 4.283e+06 4.283e+06\n",
       "  * band         (band) int64 1\n",
       "    spatial_ref  int64 0\n",
       "Attributes:\n",
       "    scales:         (1.0,)\n",
       "    offsets:        (0.0,)\n",
       "    descriptions:   ('STCtemp',)\n",
       "    AREA_OR_POINT:  Area\n",
       "    description:    Airborne thermal infrared imagery from University of Wash...\n",
       "    grid_mapping:   spatial_ref\n",
       "    _FillValue:     nan"
      ]
     },
     "execution_count": 54,
     "metadata": {},
     "output_type": "execute_result"
    }
   ],
   "source": [
    "airborne_ir_repr"
   ]
  },
  {
   "cell_type": "markdown",
   "id": "hindu-russell",
   "metadata": {},
   "source": [
    "Plot the ASTER image, original airborne IR image, and resampled airborne IR image next to each other to visualize these spatial resolution differences."
   ]
  },
  {
   "cell_type": "code",
   "execution_count": null,
   "id": "unusual-strap",
   "metadata": {},
   "outputs": [],
   "source": [
    "fig, axs = plt.subplots(nrows=1, ncols=3, figsize=(15,4), tight_layout=True)\n",
    "\n",
    "# ASTER IR image\n",
    "aster_band14_tb_c.plot(ax=axs[0], \n",
    "                       cmap='magma', \n",
    "                       vmin=-10, vmax=10, \n",
    "                       cbar_kwargs={'label': 'Temperature $\\degree C$'})\n",
    "axs[0].set_title('ASTER IR')\n",
    "axs[0].set_aspect('equal')\n",
    "\n",
    "# Original airborne IR image\n",
    "airborne_ir.plot(ax=axs[1], \n",
    "                 cmap='magma', \n",
    "                 vmin=-10, vmax=10, \n",
    "                 cbar_kwargs={'label': 'Temperature $\\degree C$'})\n",
    "axs[1].set_title('Airborne IR')\n",
    "axs[1].set_aspect('equal')\n",
    "\n",
    "# Resampled airborne IR image\n",
    "airborne_ir_repr.plot(ax=axs[2], \n",
    "                      cmap='magma', \n",
    "                      vmin=-10, vmax=10, \n",
    "                      cbar_kwargs={'label': 'Temperature $\\degree C$'})\n",
    "axs[2].set_title('Airborne IR resampled (mean)\\nto ASTER resolution (90m)')\n",
    "axs[2].set_aspect('equal')\n",
    "\n",
    "\n",
    "# for each subplot, do the following:\n",
    "for ax in axs: \n",
    "    ax.set_aspect('equal') # set the aspect ratio to \"equal\"\n",
    "    \n",
    "    # plot the location of the snow pit of interest\n",
    "    siteData_df.plot(ax=ax, color='r', marker='x')\n",
    "    # plot the area of the buffer we made around the snow pit\n",
    "    siteData_df_buffer.plot(ax=ax, edgecolor='r', facecolor='none')\n",
    "    \n",
    "    # set axes labels\n",
    "    ax.set_xlabel('Eastings UTM 12N (m)')\n",
    "    ax.set_ylabel('Northings UTM 12N (m)')\n",
    "    # set the same axes limits as above\n",
    "    ax.set_xlim((xmin-1000, xmax+1000)) # x axis limits to +/- 1 km from our point's \"total bounds\"\n",
    "    ax.set_ylim((ymin-1000, ymax+1000)) # y axis limits to +/- 1 km from our point's \"total bounds\""
   ]
  },
  {
   "cell_type": "markdown",
   "id": "contrary-california",
   "metadata": {},
   "source": [
    "Finally, compute the difference between the ASTER IR image and resampled airborne IR image, then plot the result:"
   ]
  },
  {
   "cell_type": "code",
   "execution_count": null,
   "id": "collaborative-circular",
   "metadata": {},
   "outputs": [],
   "source": [
    "# Subtract reprojected airborne IR image from ASTER IR image\n",
    "difference_image = aster_band14_tb_c - airborne_ir_repr"
   ]
  },
  {
   "cell_type": "code",
   "execution_count": null,
   "id": "recorded-order",
   "metadata": {},
   "outputs": [],
   "source": [
    "fig, ax = plt.subplots(nrows=1, ncols=1, figsize=(6,5), tight_layout=True)\n",
    "\n",
    "# Difference image\n",
    "difference_image.plot(ax=ax, \n",
    "                       cmap='RdBu_r', \n",
    "                       vmin=-10, vmax=10, \n",
    "                       cbar_kwargs={'label': 'Temperature $\\degree C$'})\n",
    "ax.set_title('Temperature Difference\\n(ASTER IR - Reprojected Airborne IR)\\n')\n",
    "ax.set_aspect('equal')\n",
    "\n",
    "# plot the location of the snow pit of interest\n",
    "siteData_df.plot(ax=ax, color='r', marker='x')\n",
    "# plot the area of the buffer we made around the snow pit\n",
    "siteData_df_buffer.plot(ax=ax, edgecolor='r', facecolor='none')\n",
    "\n",
    "# set axes labels\n",
    "ax.set_xlabel('Eastings UTM 12N (m)')\n",
    "ax.set_ylabel('Northings UTM 12N (m)')\n",
    "# set the same axes limits as above\n",
    "ax.set_xlim((xmin-1000, xmax+1000)) # x axis limits to +/- 1 km from our point's \"total bounds\"\n",
    "ax.set_ylim((ymin-1000, ymax+1000)); # y axis limits to +/- 1 km from our point's \"total bounds\""
   ]
  },
  {
   "cell_type": "markdown",
   "id": "hydraulic-packaging",
   "metadata": {},
   "source": [
    "---\n",
    "# Next steps:\n",
    "\n",
    "## Project ideas with these data:\n",
    "* Compare more snow pit temperature data (using snowexsql queries) against airborne and satellite IR imagery\n",
    "* Investigate spatial patterns of snow temperature from open areas to forested areas on the mesa, differences between ASTER and airborne IR imagery\n",
    "* Improved data visualization using [hvplot](https://hvplot.holoviz.org/) or something similar to create interactive plots of IR and/or visible imagery\n",
    "* Compare thermal infrared and SAR imagery, or snow temperature observations and snow model outputs\n",
    "\n",
    ":::{note}\n",
    "*Contact Steven Pestana during the hackweek for help accessing more airborne IR or visible imagery and related datasets*\n",
    ":::\n",
    "\n",
    "## Data access/download and pre-processing\n",
    "See the jupyter notebook [thermal-ir-data-download.ipynb](./thermal-ir-data-download.ipynb) for more details about data access methods through the NASA EarthData API, and pre-processing ASTER data into geotiff images.\n",
    "\n",
    "## Additional learning resources:\n",
    ":::{seealso}\n",
    "\n",
    "**[NumPy](https://numpy.org) learning resources:**\n",
    "* [NumPy and the ndarray](https://github.com/waterhackweek/waterdata/blob/master/gridded_data_tutorial_0.ipynb)\n",
    "* [NumPy: the absolute basics for beginners](https://numpy.org/devdocs/user/absolute_beginners.html)\n",
    "* [NumPy: creating and manipulating numerical data](https://scipy-lectures.org/intro/numpy/index.html)\n",
    "* [Advanced NumPy](https://scipy-lectures.org/advanced/advanced_numpy/index.html)\n",
    "* [NumPy for MATLAB users](https://numpy.org/doc/stable/user/numpy-for-matlab-users.html)\n",
    "\n",
    "**[Xarray](https://xarray.pydata.org/en/stable/) and [rioxarray](https://corteva.github.io/rioxarray/stable/) learning resources:**\n",
    "* [Introduction to xarray](https://github.com/waterhackweek/waterdata/blob/master/gridded_data_tutorial_1.ipynb)\n",
    "* [GeoHackWeek 2019 raster tools](https://github.com/geohackweek/raster-2019)\n",
    "* [rasterio](https://rasterio.readthedocs.io/en/latest/)\n",
    "* [cartopy](https://scitools.org.uk/cartopy/docs/latest/)\n",
    "\n",
    "**[ASTER](https://asterweb.jpl.nasa.gov/) resources:**\n",
    "* [ASTER L1T Scripts and Tutorials](https://git.earthdata.nasa.gov/projects/LPDUR/repos/aster-l1t/browse)\n",
    "* [Validating ASTER Thermal Infrared Imaging for use in Snow Models](https://github.com/UW-GDA/aster-thermal/)\n",
    ":::"
   ]
  },
  {
   "cell_type": "code",
   "execution_count": null,
   "id": "million-character",
   "metadata": {},
   "outputs": [],
   "source": []
  }
 ],
 "metadata": {
  "kernelspec": {
   "display_name": "Python 3",
   "language": "python",
   "name": "python3"
  },
  "language_info": {
   "codemirror_mode": {
    "name": "ipython",
    "version": 3
   },
   "file_extension": ".py",
   "mimetype": "text/x-python",
   "name": "python",
   "nbconvert_exporter": "python",
   "pygments_lexer": "ipython3",
   "version": "3.8.8"
  }
 },
 "nbformat": 4,
 "nbformat_minor": 5
}

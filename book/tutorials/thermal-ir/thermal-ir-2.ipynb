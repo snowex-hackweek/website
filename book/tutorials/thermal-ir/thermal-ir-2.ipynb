{
 "cells": [
  {
   "cell_type": "markdown",
   "id": "prerequisite-valuation",
   "metadata": {},
   "source": [
    "# Thermal IR Tutorial 2: Comparing raster and point datasets\n",
    "\n",
    "**At the conclusion of this tutorial, you will be able to:**\n",
    "- Visualize point and raster thermal infrared datasets together\n",
    "- Compute error statistics between point and raster datasets"
   ]
  },
  {
   "cell_type": "code",
   "execution_count": null,
   "id": "forced-subscription",
   "metadata": {},
   "outputs": [],
   "source": []
  }
 ],
 "metadata": {
  "kernelspec": {
   "display_name": "Python 3",
   "language": "python",
   "name": "python3"
  },
  "language_info": {
   "codemirror_mode": {
    "name": "ipython",
    "version": 3
   },
   "file_extension": ".py",
   "mimetype": "text/x-python",
   "name": "python",
   "nbconvert_exporter": "python",
   "pygments_lexer": "ipython3",
   "version": "3.8.8"
  }
 },
 "nbformat": 4,
 "nbformat_minor": 5
}

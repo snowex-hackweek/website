{
 "cells": [
  {
   "cell_type": "markdown",
   "id": "missing-memorial",
   "metadata": {},
   "source": [
    "# Raster data\n",
    "\n",
    "```{admonition} Learning Objectives\n",
    "*A 30 minute guide to raster data for SnowEX*\n",
    "- find, visualize, interpret raster data formats\n",
    "- use Python raster libraries [rioxarray](https://corteva.github.io/rioxarray) and [hvplot](https://hvplot.holoviz.org)\n",
    "```"
   ]
  },
  {
   "cell_type": "markdown",
   "id": "neither-blast",
   "metadata": {},
   "source": [
    "## Raster Basics\n",
    "\n",
    "*Raster data is stored as a grid of values which are rendered on a map as pixels. Each pixel value represents an area on the Earth's surface.* Pixel values can be continuous (elevation) or categorical (land use).  This data structure is very common - jpg images on the web, photos from your digital camera. A geospatial raster is only unique in that it is accompanied by metadata that connects the pixel grid to a location on Earth's surface.\n",
    "\n",
    "```{seealso}\n",
    "this tutorial is a quick practical guide, if you're new to geospatial rasters explore the following resources:\n",
    "\n",
    "* https://carpentries-incubator.github.io/geospatial-python/01-intro-raster-data\n",
    "* https://github.com/geohackweek/raster-2019\n",
    "```"
   ]
  },
  {
   "cell_type": "code",
   "execution_count": null,
   "id": "controversial-payment",
   "metadata": {},
   "outputs": [],
   "source": [
    "# Import all Python libraries required for this notebook\n",
    "import hvplot.xarray\n",
    "import rioxarray\n",
    "import rasterio\n",
    "import rasterio.plot"
   ]
  },
  {
   "cell_type": "markdown",
   "id": "conservative-newton",
   "metadata": {},
   "source": [
    "## Search and Discovery\n",
    "\n",
    "Typically you'll search for geospatial raster data based on a spatial footprint and time period of interest. There are many web interfaces, for example NASA's EarthData Search: https://search.earthdata.nasa.gov/. \n",
    "\n",
    "During the Hackweek we're using computational infrastructure running in Amazon Web Services (AWS) us-west-2 datacenter, where NASA starting to store many archives. By moving our computation to the data, rather than downloading files, we can take advantage of fast access and scalable computing resources, so let's work with data that's being hosted by AWS. You can find such datasets with the following URL: https://search.earthdata.nasa.gov/search?ff=Available%20from%20AWS%20Cloud. You can also browse public datasets via this [AWS website](https://registry.opendata.aws/?search=tags:gis,earth%20observation,events,mapping,meteorological,environmental,transportation), but note these datasets are often mirrors of official archives and may have partial coverage.\n",
    "\n",
    "For programmatic search, rather than using a web interface you can use Python software to search APIs (behind the scenes this is what is happening when you interact with web interfaces like EarthSearch). There are many options here including [NASA Common Metadata Repository](https://earthdata.nasa.gov/collaborate/open-data-services-and-software/api/cmr-api). For Cloud-hosted data, there is a lot of momentum around Spatio Temporal Asset Catalogs (STAC) as a common standard for user-facing search and discovery. If a dataset has STAC metadata (all NASA data does https://github.com/nasa/cmr-stac). You can easily search for data via Python with https://github.com/stac-utils/pystac-client."
   ]
  },
  {
   "cell_type": "code",
   "execution_count": null,
   "id": "working-detection",
   "metadata": {},
   "outputs": [],
   "source": [
    "# Test S3 access\n",
    "s3path = 's3://snowex-data/tutorial-data/sar/GRMCT2_31801_20007_016_200211_09225VV_XX_01.tif'\n",
    "with rasterio.open(s3path) as src:\n",
    "    print(src.profile)\n",
    "    rasterio.plot(src)"
   ]
  },
  {
   "cell_type": "code",
   "execution_count": null,
   "id": "endless-bouquet",
   "metadata": {},
   "outputs": [],
   "source": [
    "# Test .netrc access HDF download\n",
    "!wget https://n5eil01u.ecs.nsidc.org/MOSA/MYD10A1.006/2002.07.04/MYD10A1.A2002185.h00v08.006.2016152142655.hdf"
   ]
  },
  {
   "cell_type": "code",
   "execution_count": null,
   "id": "accessible-embassy",
   "metadata": {},
   "outputs": [],
   "source": [
    "# Test .netrc open tif\n",
    "url = 'https://n5eil01u.ecs.nsidc.org/ASO/ASO_3M_SD.001/2017.02.25/ASO_3M_QF_USCOGM_20170225.tif' #100MB\n",
    "# https://n5eil01u.ecs.nsidc.org/ASO/ASO_3M_SD.001/2017.02.25/ASO_3M_SD_USCOGM_20170225.tif #1.6GB\n",
    "# Rasterio uses an environment context manager for GDAL environment variables\n",
    "Env = rasterio.Env(GDAL_DISABLE_READDIR_ON_OPEN='EMPTY_DIR',\n",
    "                   GDAL_HTTP_COOKIEFILE='.urs_cookies',\n",
    "                   GDAL_HTTP_COOKIEJAR='.urs_cookies')\n",
    "with Env:\n",
    "    with rasterio.open(url) as src:\n",
    "        print(src.profile)"
   ]
  },
  {
   "cell_type": "code",
   "execution_count": null,
   "id": "adjustable-edward",
   "metadata": {},
   "outputs": [],
   "source": []
  }
 ],
 "metadata": {
  "kernelspec": {
   "display_name": "Python 3",
   "language": "python",
   "name": "python3"
  },
  "language_info": {
   "codemirror_mode": {
    "name": "ipython",
    "version": 3
   },
   "file_extension": ".py",
   "mimetype": "text/x-python",
   "name": "python",
   "nbconvert_exporter": "python",
   "pygments_lexer": "ipython3",
   "version": "3.8.8"
  }
 },
 "nbformat": 4,
 "nbformat_minor": 5
}

{
 "cells": [
  {
   "cell_type": "markdown",
   "id": "generic-honey",
   "metadata": {},
   "source": [
    "## Geospatial Analysis Cookbook\n",
    "\n",
    "SnowEx Hackweek  \n",
    "July 13, 2021\n",
    "\n",
    "David Shean\n",
    "\n",
    "These are some common operations that you may need for your projects. We hope that you can review this code, and copy/paste to use in a modular fashion for your projects, so you don't have to reinvent the wheel when time is limited"
   ]
  },
  {
   "cell_type": "markdown",
   "id": "hybrid-pound",
   "metadata": {},
   "source": [
    "## Importing csv of point data"
   ]
  },
  {
   "cell_type": "markdown",
   "id": "later-spirituality",
   "metadata": {},
   "source": [
    "## Load the existing csv into a Pandas DataFrame\n",
    "* Use the relative path as in previous labs and the amazing Pandas `read_csv()` function\n",
    "* Run a quick `head()` on your DataFrame to make sure everything looks right"
   ]
  },
  {
   "cell_type": "code",
   "execution_count": null,
   "id": "bigger-reading",
   "metadata": {},
   "outputs": [],
   "source": [
    "glas_fn = '../01_Shell_Github/data/GLAH14_tllz_conus_lulcfilt_demfilt.csv'\n",
    "glas_df = pd.read_csv(glas_fn)"
   ]
  },
  {
   "cell_type": "code",
   "execution_count": null,
   "id": "challenging-drove",
   "metadata": {},
   "outputs": [],
   "source": [
    "glas_df.head()"
   ]
  },
  {
   "cell_type": "markdown",
   "id": "rising-andrew",
   "metadata": {},
   "source": [
    "## Convert the Pandas `DataFrame` to a GeoPandas `GeoDataFrame`\n",
    "* See documentation here: https://geopandas.readthedocs.io/en/latest/gallery/create_geopandas_from_pandas.html\n",
    "* Careful about lon and lat order!\n",
    "* Define coordinate reference system with crs keyword argument (4326 is geographic lat/lon on WGS84 Ellispoid) \n",
    "    * https://www.earthdatascience.org/courses/earth-analytics/spatial-data-r/intro-to-coordinate-reference-systems/\n",
    "* Store in a variable named `glas_gdf` (needed for sample code later)\n",
    "* Run a quick `head()` to make sure everything looks good\n",
    "* You should have a new `geometry` column cointaining shapely Point objects"
   ]
  },
  {
   "cell_type": "code",
   "execution_count": null,
   "id": "persistent-birth",
   "metadata": {},
   "outputs": [],
   "source": [
    "glas_gdf = gpd.GeoDataFrame(glas_df, geometry=gpd.points_from_xy(glas_df['lon'], glas_df['lat']), crs='EPSG:4326')"
   ]
  },
  {
   "cell_type": "markdown",
   "id": "continent-integrity",
   "metadata": {},
   "source": [
    "# Save processed data to a GIS-ready file"
   ]
  },
  {
   "cell_type": "markdown",
   "id": "alpine-ethiopia",
   "metadata": {},
   "source": [
    "The workflows in these Notebooks are intended to be fully reproducible, starting with raw data and producing all final output.  But sometimes you want to write out geospatial data for analysis in a GUI-based GIS (QGIS, ArcMap), or to share with colleagues who will use these tools."
   ]
  },
  {
   "cell_type": "markdown",
   "id": "medium-mountain",
   "metadata": {},
   "source": [
    "## Check available output formats for geopandas\n",
    "* Use fiona to get a list of available file type drivers for output\n",
    "* Note: the 'r' means fiona/geopandas can read this file type, 'w' means it can write this file type, 'a' means it can append to an existing file.\n",
    "    * https://fiona.readthedocs.io/en/latest/manual.html#writing-vector-data"
   ]
  },
  {
   "cell_type": "code",
   "execution_count": null,
   "id": "particular-restoration",
   "metadata": {},
   "outputs": [],
   "source": [
    "import fiona\n",
    "fiona.supported_drivers"
   ]
  },
  {
   "cell_type": "markdown",
   "id": "featured-april",
   "metadata": {},
   "source": [
    "## How to choose a format?\n",
    "* If you've taken a GIS class (or not), you've probably used shapefiles in the past.  Please stop.  The ESRI shapefile is a legacy format, though it is still widely used.\n",
    "* http://switchfromshapefile.org/\n",
    "* Better options these days are Geopackage (GPKG) when spatial index is required, and simple GeoJSON for vector data in EPSG:4326\n",
    "    * Both should be supported by your GIS (including QGIS, ArcGIS, etc)\n",
    "* Let's use geopackage for this exercise\n",
    "* Can use the Geopandas `to_file()` method to create this file\n",
    "    * Make sure you properly specify filename with extension and the `driver` option\n",
    "    * *Note: Writing out may take a minute, and may produce an intermediate '.gpkg-journal' file*\n",
    "        * Can see this in the file browser or terminal!"
   ]
  },
  {
   "cell_type": "code",
   "execution_count": null,
   "id": "portable-chapter",
   "metadata": {},
   "outputs": [],
   "source": [
    "out_fn='./conus_glas_gdf_aea_rgi_agg.gpkg'\n",
    "glas_gdf_aea_rgi_agg_gdf.to_file(out_fn, driver='GPKG')\n",
    "\n",
    "#out_fn='./conus_glas_gdf_aea_rgi_agg.geojson'\n",
    "#glas_gdf_aea_rgi_agg_gdf.to_file(out_fn, driver='GeoJSON')"
   ]
  },
  {
   "cell_type": "code",
   "execution_count": null,
   "id": "atlantic-frost",
   "metadata": {},
   "outputs": [],
   "source": [
    "ls -lh $out_fn"
   ]
  },
  {
   "cell_type": "markdown",
   "id": "liked-wedding",
   "metadata": {},
   "source": [
    "## 🎉\n",
    "\n",
    "You can now directly load this gpkg file in any GIS, without defining a coordinate system. You can also load this file directly into geopandas in the future using the `read_file()` method, without having to repeat the processing above.\n",
    "\n",
    "### See for yourself!\n",
    "Try it! Right-click on file in the file browser to the left of the JupyterLab interface, then select Download and pick a location on your local computer (e.g., your Downloads folder). \n",
    "\n",
    "Then open this file in QGIS or ArcGIS on your local machine!"
   ]
  },
  {
   "cell_type": "markdown",
   "id": "existing-cooler",
   "metadata": {},
   "source": [
    "# USGS 3DEP Raster Tile Download - Mesa County LiDAR"
   ]
  },
  {
   "cell_type": "code",
   "execution_count": null,
   "id": "rural-medium",
   "metadata": {},
   "outputs": [],
   "source": [
    "import os\n",
    "import rasterio as rio\n",
    "import rasterio.plot\n",
    "import numpy as np\n",
    "import matplotlib.pyplot as plt"
   ]
  },
  {
   "cell_type": "code",
   "execution_count": null,
   "id": "alleged-potential",
   "metadata": {},
   "outputs": [],
   "source": [
    "#Current url for 1/9th arcsec 3DEP raster products\n",
    "#url1='https://prd-tnm.s3.amazonaws.com/StagedProducts/Elevation/19/IMG/ned19_n48x25_w122x50_wa_puget_sound_2000.zip'\n",
    "#fn1='ned19_n48x25_w122x50_wa_puget_sound_2000.img'\n",
    "#Going to fetch and read zipfile on the fly, specifying img inside\n",
    "#path=f'/vsizip//vsicurl/{url1}/{fn1}'\n",
    "#os.path.splitext(os.path.split(url_list[0])[-1])[0]+'.img'"
   ]
  },
  {
   "cell_type": "code",
   "execution_count": null,
   "id": "deadly-burlington",
   "metadata": {},
   "outputs": [],
   "source": [
    "#GUI based search for tiles\n",
    "#https://prd-tnm.s3.amazonaws.com/LidarExplorer/index.html\n",
    "#Contains public url for each tif\n",
    "url_fn_3DEP = 'gm_3dep_1m_lidar_tiles.txt'"
   ]
  },
  {
   "cell_type": "code",
   "execution_count": null,
   "id": "daily-backup",
   "metadata": {},
   "outputs": [],
   "source": [
    "with open(url_fn_3DEP) as f:\n",
    "    url_list = f.read().splitlines()"
   ]
  },
  {
   "cell_type": "code",
   "execution_count": null,
   "id": "ecological-austria",
   "metadata": {},
   "outputs": [],
   "source": [
    "url_list.sort()"
   ]
  },
  {
   "cell_type": "code",
   "execution_count": null,
   "id": "substantial-commonwealth",
   "metadata": {},
   "outputs": [],
   "source": [
    "#idx = ['UTM13' in i for i in url_list]"
   ]
  },
  {
   "cell_type": "code",
   "execution_count": null,
   "id": "corrected-climate",
   "metadata": {},
   "outputs": [],
   "source": [
    "path_list = []\n",
    "for url in url_list:\n",
    "    #fn = os.path.splitext(os.path.split(url)[-1])[0]+'.img'\n",
    "    #path = f'/vsizip//vsicurl/{url}/{fn}'\n",
    "    path = f'/vsicurl/{url}'\n",
    "    path_list.append(path)\n",
    "path_list_str = ' '.join(path_list)"
   ]
  },
  {
   "cell_type": "code",
   "execution_count": null,
   "id": "boolean-portland",
   "metadata": {},
   "outputs": [],
   "source": [
    "path"
   ]
  },
  {
   "cell_type": "code",
   "execution_count": null,
   "id": "worth-location",
   "metadata": {},
   "outputs": [],
   "source": [
    "with rio.open(path) as src:\n",
    "    rio.plot.show(src)"
   ]
  },
  {
   "cell_type": "code",
   "execution_count": null,
   "id": "loving-geology",
   "metadata": {},
   "outputs": [],
   "source": [
    "url = 'https://prd-tnm.s3.amazonaws.com/StagedProducts/Elevation/1m/Projects/CO_MesaCo_QL2_UTM12_2016/TIFF/USGS_one_meter_x74y433_CO_MesaCo_QL2_UTM12_2016.tif'"
   ]
  },
  {
   "cell_type": "code",
   "execution_count": null,
   "id": "modern-instrument",
   "metadata": {},
   "outputs": [],
   "source": [
    "path = f'/vsicurl/{url}'"
   ]
  },
  {
   "cell_type": "code",
   "execution_count": null,
   "id": "flexible-presentation",
   "metadata": {},
   "outputs": [],
   "source": [
    "with rio.open(path) as src:\n",
    "    rio.plot.show(src)"
   ]
  },
  {
   "cell_type": "code",
   "execution_count": null,
   "id": "indoor-nomination",
   "metadata": {},
   "outputs": [],
   "source": [
    "vrt_fn = os.path.splitext(url_fn_3DEP)[0]+'.vrt'\n",
    "tif_fn = os.path.splitext(url_fn_3DEP)[0]+'.tif'\n",
    "hs_fn = os.path.splitext(tif_fn)[0]+'_hs.tif'"
   ]
  },
  {
   "cell_type": "code",
   "execution_count": null,
   "id": "boring-quantity",
   "metadata": {},
   "outputs": [],
   "source": [
    "#This actually takes some time as file must be downloaded and unzipped to read img header\n",
    "!gdalbuildvrt $vrt_fn $path_list_str"
   ]
  },
  {
   "cell_type": "code",
   "execution_count": null,
   "id": "ancient-improvement",
   "metadata": {},
   "outputs": [],
   "source": [
    "dst_crs = 'EPSG:32612'"
   ]
  },
  {
   "cell_type": "code",
   "execution_count": null,
   "id": "satisfactory-politics",
   "metadata": {},
   "outputs": [],
   "source": [
    "#Since these tiles are mixed projection, can download, reproject and mosaic in one go\n",
    "!gdalwarp -r cubic -tr 3.0 3.0 -dstnodata -9999 -t_srs $dst_crs \\\n",
    "-co COMPRESS=LZW -co TILED=YES -co BIGTIFF=IF_SAFER \\\n",
    "$path_list_str $tif_fn"
   ]
  },
  {
   "cell_type": "code",
   "execution_count": null,
   "id": "beginning-pearl",
   "metadata": {},
   "outputs": [],
   "source": [
    "!gdaldem hillshade -co COMPRESS=LZW -co TILED=YES -co BIGTIFF=IF_SAFER $tif_fn $hs_fn"
   ]
  },
  {
   "cell_type": "code",
   "execution_count": null,
   "id": "helpful-dominant",
   "metadata": {},
   "outputs": [],
   "source": [
    "!gdaladdo -r gauss $hs_fn"
   ]
  },
  {
   "cell_type": "code",
   "execution_count": null,
   "id": "behavioral-organic",
   "metadata": {},
   "outputs": [],
   "source": [
    "src = rio.open(hs_fn, overview_level=1)"
   ]
  },
  {
   "cell_type": "code",
   "execution_count": null,
   "id": "aggregate-execution",
   "metadata": {},
   "outputs": [],
   "source": [
    "src.profile"
   ]
  },
  {
   "cell_type": "code",
   "execution_count": null,
   "id": "developing-narrative",
   "metadata": {},
   "outputs": [],
   "source": [
    "rio.plot.show(src, cmap='gray')"
   ]
  },
  {
   "cell_type": "markdown",
   "id": "interim-record",
   "metadata": {},
   "source": [
    "# Retrieve Preliminary Feb 2017 Grand Mesa WorldView Stereo Snow Depth data product from Zenodo repository\n",
    "* Snow depth raster derived from WorldView-3 DEMs for comparisons in McGrath et al. (2019) against ASO lidar snow depth, GPR snow depth and snow pit data\n",
    "* https://doi.org/10.5281/zenodo.3381652"
   ]
  },
  {
   "cell_type": "code",
   "execution_count": null,
   "id": "committed-photograph",
   "metadata": {},
   "outputs": [],
   "source": [
    "# https://zenodo.org/record/3381653\n",
    "url = 'https://zenodo.org/record/3381653/files/20160925_gm_8m_trans-tile-0_20170201_gm_8m_trans-tile-0_dz_eul.tif'"
   ]
  },
  {
   "cell_type": "code",
   "execution_count": null,
   "id": "smart-baltimore",
   "metadata": {},
   "outputs": [],
   "source": [
    "#This uses the GDAL /vsicurl_streaming approach\n",
    "test_fn = f'/vsicurl_streaming/{url}'"
   ]
  },
  {
   "cell_type": "code",
   "execution_count": null,
   "id": "entitled-gentleman",
   "metadata": {},
   "outputs": [],
   "source": [
    "src = rio.open(test_fn)"
   ]
  },
  {
   "cell_type": "code",
   "execution_count": null,
   "id": "catholic-avatar",
   "metadata": {},
   "outputs": [],
   "source": [
    "src.profile"
   ]
  },
  {
   "cell_type": "code",
   "execution_count": null,
   "id": "surrounded-strand",
   "metadata": {},
   "outputs": [],
   "source": [
    "a = src.read(1, masked=True)"
   ]
  },
  {
   "cell_type": "code",
   "execution_count": null,
   "id": "involved-planning",
   "metadata": {},
   "outputs": [],
   "source": [
    "f, ax = plt.subplots(figsize=(10,10))\n",
    "ax.imshow(a, cmap='inferno', clim=(0, 2), interpolation='none', extent=rio.plot.plotting_extent(src))"
   ]
  },
  {
   "cell_type": "markdown",
   "id": "touched-petersburg",
   "metadata": {},
   "source": [
    "## Function to add day of year and day of water year to dataframe"
   ]
  },
  {
   "cell_type": "code",
   "execution_count": null,
   "id": "skilled-modem",
   "metadata": {},
   "outputs": [],
   "source": [
    "#Add DOY and DOWY column\n",
    "def add_dowy(df, col=None):\n",
    "    print(\"Adding Day of Water Year (DOWY)\")\n",
    "    if col is None:\n",
    "        df['doy'] = df.index.dayofyear\n",
    "    else:\n",
    "        df['doy'] = pd.to_datetime(df[col]).dt.dayofyear\n",
    "    \n",
    "    #df['dowy'] = (df['doy'].index - pd.DateOffset(months=9)).dayofyear\n",
    "    # Sept 30 is doy 273\n",
    "    df['dowy'] = df['doy'] - 273\n",
    "    df.loc[df['dowy'] <= 0, 'dowy'] += 365\n",
    "    df['decyear'] = Time(pd.to_datetime(df[col])).decimalyear"
   ]
  },
  {
   "cell_type": "markdown",
   "id": "fancy-layer",
   "metadata": {},
   "source": [
    "## Clean up ASO DTM and Snow Depth data from NSIDC"
   ]
  },
  {
   "cell_type": "code",
   "execution_count": null,
   "id": "realistic-queens",
   "metadata": {},
   "outputs": [],
   "source": [
    "aso_dir = '/nobackupp8/deshean/data/ASO'\n",
    "aso_fn_list = !ls $aso_dir/ASO*SD*tif $aso_dir/ASO*DTM*tif\n",
    "aso_fn_list"
   ]
  },
  {
   "cell_type": "markdown",
   "id": "vertical-beatles",
   "metadata": {},
   "source": [
    "## Prepare polygon masks around valid data in raster\n",
    "* This is a common task to generate polygons around valid pixels in a raster\n",
    "* Can do this on a low-resolution overview (8x subsampling) for efficiency"
   ]
  },
  {
   "cell_type": "code",
   "execution_count": null,
   "id": "dense-annex",
   "metadata": {},
   "outputs": [],
   "source": [
    "aso_feat_list = []\n",
    "ovr_scale = 8\n",
    "for fn in aso_fn_list:\n",
    "    src = rio.open(fn)\n",
    "    a = src.read(1, masked=True, out_shape=(src.count, int(src.height / ovr_scale), int(src.width / ovr_scale)))\n",
    "    ovr_transform = src.transform * src.transform.scale(src.width / a.shape[-1], src.height / a.shape[-2])\n",
    "    mask = np.ma.getmaskarray(a).astype(np.uint8) - 1\n",
    "    shapes = features.shapes(mask, mask=mask, transform=ovr_transform)\n",
    "    geom_list = list(shapes)\n",
    "    dt = os.path.splitext(os.path.split(fn)[-1])[0].split('_')[-1]\n",
    "    aso_feat_list.extend([{'properties':{'fn':fn, 'date':dt}, 'geometry':i[0]} for i in geom_list])"
   ]
  },
  {
   "cell_type": "code",
   "execution_count": null,
   "id": "nonprofit-charge",
   "metadata": {},
   "outputs": [],
   "source": [
    "aso_gdf = gpd.GeoDataFrame.from_features(aso_feat_list, crs=src.crs)\n",
    "aso_gdf = aso_gdf.to_crs(crs)"
   ]
  },
  {
   "cell_type": "code",
   "execution_count": null,
   "id": "african-testament",
   "metadata": {},
   "outputs": [],
   "source": [
    "aso_gdf.plot(alpha=0.1)"
   ]
  },
  {
   "cell_type": "code",
   "execution_count": null,
   "id": "fabulous-republic",
   "metadata": {},
   "outputs": [],
   "source": [
    "#remove tiny polygons\n",
    "area_thresh = 1e8\n",
    "aso_gdf = aso_gdf.loc[aso_gdf.area > area_thresh]"
   ]
  },
  {
   "cell_type": "code",
   "execution_count": null,
   "id": "southern-notion",
   "metadata": {},
   "outputs": [],
   "source": [
    "aso_gdf.plot(alpha=0.1, edgecolor='k', legend=True)"
   ]
  },
  {
   "cell_type": "code",
   "execution_count": null,
   "id": "generous-drill",
   "metadata": {},
   "outputs": [],
   "source": [
    "#Shoud simplify and sieve\n",
    "#aso.geometry.simplify(tolerance=100)"
   ]
  },
  {
   "cell_type": "code",
   "execution_count": null,
   "id": "decreased-acrobat",
   "metadata": {},
   "outputs": [],
   "source": [
    "aso_gdf['date'] = pd.to_datetime(aso_gdf['date'])"
   ]
  },
  {
   "cell_type": "code",
   "execution_count": null,
   "id": "received-weekend",
   "metadata": {},
   "outputs": [],
   "source": [
    "add_dowy(aso_gdf, col='date')"
   ]
  },
  {
   "cell_type": "code",
   "execution_count": null,
   "id": "rotary-young",
   "metadata": {},
   "outputs": [],
   "source": [
    "aso_gdf['platform'] = 'ASO'\n",
    "aso_gdf['acqdate'] = aso_gdf['date']"
   ]
  },
  {
   "cell_type": "code",
   "execution_count": null,
   "id": "eastern-consequence",
   "metadata": {},
   "outputs": [],
   "source": [
    "aso_gdf.set_index('date', inplace=True)"
   ]
  },
  {
   "cell_type": "code",
   "execution_count": null,
   "id": "isolated-underground",
   "metadata": {},
   "outputs": [],
   "source": [
    "aso_gdf"
   ]
  },
  {
   "cell_type": "markdown",
   "id": "charming-serbia",
   "metadata": {},
   "source": [
    "# Strategies for Dynamic DEM Data Download and Processing"
   ]
  },
  {
   "cell_type": "code",
   "execution_count": null,
   "id": "dangerous-generic",
   "metadata": {},
   "outputs": [],
   "source": [
    "import os\n",
    "import requests\n",
    "import rasterio as rio\n",
    "from rasterio import plot, mask"
   ]
  },
  {
   "cell_type": "code",
   "execution_count": null,
   "id": "paperback-efficiency",
   "metadata": {},
   "outputs": [],
   "source": [
    "gm_bounds = [-108.34115668,   38.82320553, -107.72839859,   39.19563035]"
   ]
  },
  {
   "cell_type": "markdown",
   "id": "modern-barbados",
   "metadata": {},
   "source": [
    "## Use OpenTopography GlobalDEM API to fetch clipped DEM\n",
    "* OpenTopgraphy is a fantastic organization that \"facilitates community access to high-resolution, Earth science-oriented, topography data, and related tools and resources.\"\n",
    "    * https://opentopography.org/about\n",
    "* One of the many services they provide is an API for several popular Global DEM datasets, with simple subsetting and delivery: https://opentopography.org/developers\n",
    "* Latest list of available DEM: https://portal.opentopography.org/apidocs/#/Public/getGlobalDem\n",
    "* We'll use this service to extract a small portion of the SRTM-GL3 DEM"
   ]
  },
  {
   "cell_type": "code",
   "execution_count": null,
   "id": "patient-professor",
   "metadata": {},
   "outputs": [],
   "source": [
    "#List of all products hosted by OpenTopography GlobalDEM API\n",
    "demtype_list = [\"SRTMGL3\", \"SRTMGL1\", \"SRTMGL1_E\", \"AW3D30\", \"AW3D30_E\", \"SRTM15Plus\"]"
   ]
  },
  {
   "cell_type": "code",
   "execution_count": null,
   "id": "optical-possession",
   "metadata": {},
   "outputs": [],
   "source": [
    "#1 arcsec\n",
    "demtype = \"SRTMGL1_E\""
   ]
  },
  {
   "cell_type": "code",
   "execution_count": null,
   "id": "through-bernard",
   "metadata": {},
   "outputs": [],
   "source": [
    "base_url=\"https://portal.opentopography.org/API/globaldem?demtype={}&west={}&south={}&east={}&north={}&outputFormat=GTiff\""
   ]
  },
  {
   "cell_type": "code",
   "execution_count": null,
   "id": "traditional-cable",
   "metadata": {},
   "outputs": [],
   "source": [
    "base_url.format(demtype, *gm_bounds)"
   ]
  },
  {
   "cell_type": "markdown",
   "id": "mental-double",
   "metadata": {},
   "source": [
    "### Optional: set up API key to access Copernicus DEM and NASADEM\n",
    "* This will enable access to NASADEM and Compernicus DEM (30 and 90 m)\n",
    "* https://portal.opentopography.org/myopentopo"
   ]
  },
  {
   "cell_type": "code",
   "execution_count": null,
   "id": "first-walter",
   "metadata": {},
   "outputs": [],
   "source": [
    "#Paste API key below\n",
    "api_key = None\n",
    "if api_key:\n",
    "    demtype_list.extend(['NASADEM', 'COP30', 'COP90'])\n",
    "    demtype = 'COP30'"
   ]
  },
  {
   "cell_type": "code",
   "execution_count": null,
   "id": "electoral-internet",
   "metadata": {},
   "outputs": [],
   "source": [
    "def get_OT_GlobalDEM(demtype, bounds, out_fn=None, api_key=None):\n",
    "    if out_fn is None:\n",
    "        out_fn = '{}.tif'.format(demtype)\n",
    "    \n",
    "    if not os.path.exists(out_fn):\n",
    "        #Prepare API request url\n",
    "        #Bounds should be [minlon, minlat, maxlon, maxlat]\n",
    "        url = base_url.format(demtype, *bounds)\n",
    "        if api_key is not None:\n",
    "            url = f'{url}&API_Key={api_key}'\n",
    "        print(url)\n",
    "        #Get\n",
    "        response = requests.get(url)\n",
    "        #Should check for 200\n",
    "        #Write to disk\n",
    "        open(out_fn, 'wb').write(response.content)"
   ]
  },
  {
   "cell_type": "code",
   "execution_count": null,
   "id": "french-cache",
   "metadata": {},
   "outputs": [],
   "source": [
    "out_fn = f\"GM_{demtype}.tif\"\n",
    "out_fn"
   ]
  },
  {
   "cell_type": "code",
   "execution_count": null,
   "id": "cleared-example",
   "metadata": {},
   "outputs": [],
   "source": [
    "get_OT_GlobalDEM(demtype, gm_bounds, out_fn, api_key)"
   ]
  },
  {
   "cell_type": "code",
   "execution_count": null,
   "id": "elementary-collapse",
   "metadata": {},
   "outputs": [],
   "source": [
    "!ls -lh $out_fn"
   ]
  },
  {
   "cell_type": "code",
   "execution_count": null,
   "id": "empirical-cameroon",
   "metadata": {},
   "outputs": [],
   "source": [
    "with rio.open(out_fn) as src:\n",
    "    rio.plot.show(src)"
   ]
  },
  {
   "cell_type": "markdown",
   "id": "outside-grounds",
   "metadata": {},
   "source": [
    "### Reproject points to match raster"
   ]
  },
  {
   "cell_type": "code",
   "execution_count": null,
   "id": "single-guest",
   "metadata": {},
   "outputs": [],
   "source": [
    "glas_gdf_srtm = glas_gdf_aea.to_crs(srtm_src.crs)"
   ]
  },
  {
   "cell_type": "markdown",
   "id": "japanese-assets",
   "metadata": {},
   "source": [
    "### Prepare the coordinate arrays to pass to rio `sample` function\n",
    "* The `sample` function expects a list of (x,y) tuples: https://rasterio.readthedocs.io/en/latest/api/rasterio.sample.html\n",
    "    * Need to create this from the `geometry` objects in your GeoDataFrame\n",
    "    * You want a list of the form [(x1,y1),(x2,y2),…]\n",
    "* Pass to `sample`\n",
    "* Note that the `sample` function returns a `generator` object, and it doesn't actually evaluate the call!\n",
    "* Can wrap this in a `np.array(list())` to evaluate, or use `np.fromiter()`\n",
    "* This operation may take ~10-20 seconds to complete"
   ]
  },
  {
   "cell_type": "code",
   "execution_count": null,
   "id": "amazing-owner",
   "metadata": {},
   "outputs": [],
   "source": [
    "glas_coord = [(pt.x, pt.y) for pt in glas_gdf_srtm.geometry]\n",
    "#glas_coord = np.vstack((glas_gdf_srtm.geometry.x.values, glas_gdf_srtm.geometry.y.values)).T"
   ]
  },
  {
   "cell_type": "markdown",
   "id": "daily-proxy",
   "metadata": {},
   "source": [
    "### Sample with rasterio"
   ]
  },
  {
   "cell_type": "code",
   "execution_count": null,
   "id": "flying-gothic",
   "metadata": {},
   "outputs": [],
   "source": [
    "glas_srtm_sample = srtm_src.sample(glas_coord)\n",
    "glas_srtm_sample"
   ]
  },
  {
   "cell_type": "markdown",
   "id": "protecting-board",
   "metadata": {},
   "source": [
    "### This is a generator, so we actually need to evaluate"
   ]
  },
  {
   "cell_type": "code",
   "execution_count": null,
   "id": "double-peoples",
   "metadata": {},
   "outputs": [],
   "source": [
    "glas_srtm_elev = np.fromiter(glas_srtm_sample, dtype=srtm.dtype)\n",
    "glas_srtm_elev"
   ]
  },
  {
   "cell_type": "markdown",
   "id": "lesser-petroleum",
   "metadata": {},
   "source": [
    "### Deal with nodata\n",
    "* Some of our GLAS points are located over areas where we don't have valid DEM pixels\n",
    "* These will be assigned the raster nodata value (-32768 in this case)"
   ]
  },
  {
   "cell_type": "code",
   "execution_count": null,
   "id": "romantic-haiti",
   "metadata": {},
   "outputs": [],
   "source": [
    "glas_srtm_elev_ma = np.ma.masked_equal(glas_srtm_elev, srtm_src.nodata)\n",
    "glas_srtm_elev_ma"
   ]
  },
  {
   "cell_type": "markdown",
   "id": "baking-thursday",
   "metadata": {},
   "source": [
    "### Add new column to the GeoDataFrame\n",
    "* Set masked values to `np.nan` (which requires a conversion to float)"
   ]
  },
  {
   "cell_type": "code",
   "execution_count": null,
   "id": "destroyed-lafayette",
   "metadata": {},
   "outputs": [],
   "source": [
    "glas_gdf_srtm['srtm_90m_z_rio'] = glas_srtm_elev_ma.astype(float).filled(np.nan)"
   ]
  },
  {
   "cell_type": "code",
   "execution_count": null,
   "id": "specific-sending",
   "metadata": {},
   "outputs": [],
   "source": [
    "glas_gdf_srtm.dropna().head()"
   ]
  },
  {
   "cell_type": "code",
   "execution_count": null,
   "id": "cardiac-contribution",
   "metadata": {},
   "outputs": [],
   "source": [
    "f, ax = plt.subplots()\n",
    "ax.imshow(hs, cmap='gray', extent=rio.plot.plotting_extent(srtm_hs_src))\n",
    "#ax.imshow(srtm, extent=srtm_extent, alpha=0.5);\n",
    "glas_gdf_srtm.dropna().plot('srtm_90m_z_rio', ax=ax, markersize=1);"
   ]
  },
  {
   "cell_type": "markdown",
   "id": "broadband-import",
   "metadata": {},
   "source": [
    "*Note: the SRTM elevation values are height above the EGM96 geoid*"
   ]
  },
  {
   "cell_type": "markdown",
   "id": "existing-garbage",
   "metadata": {},
   "source": [
    "### Notes on sampling coarse rasters or noisy rasters at integer pixel locations\n",
    "* The rasterio approach is efficient, but it uses a nearest neighbor algorithm to extract the elevation value for the grid cell that contains the point, regardless of where the point falls within the grid cell (center vs. corner)\n",
    "* But the DEM grid cells can be big (~90x90 m for the SRTM3 data), so if point is near the corner of a pixel on steep slope, the pixel value might not be representative.\n",
    "* A better approach is to use bilinear or bicubic sampling, to interpolate the elevation value at the point coordinate using pixel values within some neighborhood around the point, (e.g. 2x2 window for bilinear, 4x4 window for cubic)\n",
    "* Other approaches involve computing zonal stats within some radius of the point location (e.g., median elevation of pixels within 300 m of the point, using buffer to create polygons)\n",
    "    * https://www.earthdatascience.org/courses/earth-analytics-python/lidar-remote-sensing-uncertainty/extract-data-from-raster/\n",
    "    * https://pysal.org/scipy2019-intermediate-gds/deterministic/gds2-rasters.html#getting-values-at-cells\n",
    "    * https://github.com/dshean/pygeotools/blob/master/pygeotools/lib/geolib.py#L1019"
   ]
  },
  {
   "cell_type": "markdown",
   "id": "green-romance",
   "metadata": {},
   "source": [
    "## 2. Local window sample\n",
    "\n",
    "https://github.com/dshean/demcoreg/blob/master/demcoreg/sample_raster_at_pts.py\n",
    "\n",
    "https://github.com/dshean/pygeotools/blob/master/pygeotools/lib/geolib.py#L1019"
   ]
  },
  {
   "cell_type": "markdown",
   "id": "macro-hometown",
   "metadata": {},
   "source": [
    "## 3. Scipy ndimage: n-order polynomial\n",
    "* Good option for regular grids (i.e., DEMs)\n",
    "* Propagates nan, issues when DEM has missing data"
   ]
  },
  {
   "cell_type": "code",
   "execution_count": null,
   "id": "attempted-respect",
   "metadata": {},
   "outputs": [],
   "source": [
    "import scipy.ndimage\n",
    "#Should dropna here\n",
    "yx = np.array([glas_gdf_srtm.geometry.y, glas_gdf_srtm.geometry.x])\n",
    "#Convert map coordinates to array coordinates (want float, not whole integer indices)\n",
    "#See functions here\n",
    "#https://rasterio.readthedocs.io/en/latest/api/rasterio.transform.html\n",
    "#Need to revisit\n",
    "#Use bilinear resampling here (order=1)\n",
    "ndimage_samp = scipy.ndimage.map_coordinates(srtm, yx, order=1, mode='nearest')\n",
    "ndimage_samp = np.ma.masked_equal(ndimage_samp, srtm_src.nodata)"
   ]
  },
  {
   "cell_type": "code",
   "execution_count": null,
   "id": "julian-gospel",
   "metadata": {},
   "outputs": [],
   "source": [
    "srtm_src.transform"
   ]
  },
  {
   "cell_type": "code",
   "execution_count": null,
   "id": "direct-hopkins",
   "metadata": {},
   "outputs": [],
   "source": [
    "glas_gdf_srtm['srtm_90m_z_ndimage'] = ndimage_samp.astype(float).filled(np.nan)"
   ]
  },
  {
   "cell_type": "code",
   "execution_count": null,
   "id": "parallel-validity",
   "metadata": {},
   "outputs": [],
   "source": [
    "glas_gdf_srtm.dropna().head()"
   ]
  },
  {
   "cell_type": "markdown",
   "id": "confused-newark",
   "metadata": {},
   "source": [
    "## Handling complex horizontal and vertical datum transformations\n",
    "* https://pyproj4.github.io/pyproj/stable/build_crs.html"
   ]
  },
  {
   "cell_type": "code",
   "execution_count": null,
   "id": "biblical-mongolia",
   "metadata": {},
   "outputs": [],
   "source": [
    "import pyproj\n",
    "from pyproj.crs import CRS, CompoundCRS"
   ]
  },
  {
   "cell_type": "markdown",
   "id": "devoted-somewhere",
   "metadata": {},
   "source": [
    "## 2D WGS84 coordinates (lat, lon)"
   ]
  },
  {
   "cell_type": "code",
   "execution_count": null,
   "id": "another-trail",
   "metadata": {},
   "outputs": [],
   "source": [
    "CRS(4326)"
   ]
  },
  {
   "cell_type": "markdown",
   "id": "hourly-particular",
   "metadata": {},
   "source": [
    "## 3D WGS84 coordinates (lat, lon, height above ellipsoid)"
   ]
  },
  {
   "cell_type": "code",
   "execution_count": null,
   "id": "alive-guatemala",
   "metadata": {},
   "outputs": [],
   "source": [
    "CRS(4979)"
   ]
  },
  {
   "cell_type": "code",
   "execution_count": null,
   "id": "postal-anger",
   "metadata": {},
   "outputs": [],
   "source": [
    "CRS(7789)"
   ]
  },
  {
   "cell_type": "code",
   "execution_count": null,
   "id": "concerned-outdoors",
   "metadata": {},
   "outputs": [],
   "source": [
    "CRS(\"EPSG:32610\").to_3d()"
   ]
  },
  {
   "cell_type": "code",
   "execution_count": null,
   "id": "dependent-representative",
   "metadata": {},
   "outputs": [],
   "source": [
    "CRS(\"EPSG:32610\").to_3d()"
   ]
  },
  {
   "cell_type": "code",
   "execution_count": null,
   "id": "smart-attention",
   "metadata": {},
   "outputs": [],
   "source": [
    "cmpd_crs = CompoundCRS(name=\"NAD83 + NAVD88\", components=[\"EPSG:4269\", \"EPSG:5703\"])\n",
    "cmpd_crs = CRS(\"EPSG:4269+5703\")\n",
    "#cmpd_crs = CompoundCRS(name=\"WGS 84 + EGM96\", components=[\"EPSG:4326\", \"EPSG:5773\"])\n",
    "#cmpd_crs = CRS(\"EPSG:4326+5773\")"
   ]
  },
  {
   "cell_type": "code",
   "execution_count": null,
   "id": "ambient-hayes",
   "metadata": {},
   "outputs": [],
   "source": [
    "cmpd_crs"
   ]
  },
  {
   "cell_type": "code",
   "execution_count": null,
   "id": "sealed-isaac",
   "metadata": {},
   "outputs": [],
   "source": [
    "gm_centroid = (39.02687, -108.06352, 0)"
   ]
  },
  {
   "cell_type": "code",
   "execution_count": null,
   "id": "stunning-muslim",
   "metadata": {},
   "outputs": [],
   "source": [
    "#(y, x, z, t)\n",
    "snotel_coord = (39.05831, -108.05835, 3048, 2010.0)"
   ]
  },
  {
   "cell_type": "code",
   "execution_count": null,
   "id": "biblical-narrative",
   "metadata": {},
   "outputs": [],
   "source": [
    "trans = pyproj.Transformer.from_crs(cmpd_crs, \"EPSG:4979\")\n",
    "trans.transform(*snotel_coord)"
   ]
  },
  {
   "cell_type": "code",
   "execution_count": null,
   "id": "terminal-surface",
   "metadata": {},
   "outputs": [],
   "source": [
    "trans = pyproj.Transformer.from_crs(cmpd_crs, \"EPSG:4979\")\n",
    "trans.transform(*snotel_coord)"
   ]
  },
  {
   "cell_type": "code",
   "execution_count": null,
   "id": "stretch-intersection",
   "metadata": {},
   "outputs": [],
   "source": [
    "trans = pyproj.Transformer.from_crs(cmpd_crs, \"EPSG:32612\")\n",
    "trans.transform(*snotel_coord)"
   ]
  },
  {
   "cell_type": "code",
   "execution_count": null,
   "id": "medium-final",
   "metadata": {},
   "outputs": [],
   "source": [
    "trans = pyproj.Transformer.from_crs(cmpd_crs, \"EPSG:26912\")\n",
    "trans.transform(*snotel_coord)"
   ]
  },
  {
   "cell_type": "code",
   "execution_count": null,
   "id": "southern-adobe",
   "metadata": {},
   "outputs": [],
   "source": [
    "trans = pyproj.Transformer.from_crs(cmpd_crs, \"EPSG:26912+5703\")\n",
    "trans.transform(*snotel_coord)"
   ]
  },
  {
   "cell_type": "code",
   "execution_count": null,
   "id": "nearby-dispatch",
   "metadata": {},
   "outputs": [],
   "source": [
    "CRS(26912)"
   ]
  },
  {
   "cell_type": "code",
   "execution_count": null,
   "id": "transsexual-gathering",
   "metadata": {},
   "outputs": [],
   "source": [
    "from pyproj import CRS\n",
    "from pyproj.aoi import AreaOfInterest\n",
    "from pyproj.database import query_utm_crs_info\n",
    "\n",
    "aoi = AreaOfInterest(west_lon_degree=gm_centroid[1], \n",
    "                     south_lat_degree=gm_centroid[0],\n",
    "                     east_lon_degree=gm_centroid[1],\n",
    "                     north_lat_degree=gm_centroid[0])\n",
    "\n",
    "utm_crs_list = query_utm_crs_info(datum_name=\"NAD83\", area_of_interest=aoi)\n",
    "\n",
    "utm_crs = CRS.from_epsg(utm_crs_list[0].code)"
   ]
  },
  {
   "cell_type": "code",
   "execution_count": null,
   "id": "careful-retention",
   "metadata": {},
   "outputs": [],
   "source": [
    "utm_crs"
   ]
  },
  {
   "cell_type": "markdown",
   "id": "meaningful-incentive",
   "metadata": {},
   "source": [
    "## Vertical conversion using PROJ and GDAL"
   ]
  },
  {
   "cell_type": "code",
   "execution_count": null,
   "id": "alpine-stockholm",
   "metadata": {},
   "outputs": [],
   "source": [
    "Attempts to convert from NAD83+NAVD88 to WGS84+ellipsoid"
   ]
  },
  {
   "cell_type": "code",
   "execution_count": null,
   "id": "demanding-journal",
   "metadata": {},
   "outputs": [],
   "source": [
    "gdalwarp -overwrite -s_srs EPSG:26912+5703 -t_srs '+proj=utm +zone=12 +datum=WGS84 +units=m +no_defs +type=crs +grids=us_noaa_g2018u0.tif' USGS_one_meter_\n",
    "x74y432_CO_MesaCo_QL2_UTM12_2016.tif test.tif"
   ]
  },
  {
   "cell_type": "code",
   "execution_count": null,
   "id": "collectible-costume",
   "metadata": {},
   "outputs": [],
   "source": [
    "gdalwarp -overwrite -s_srs 'EPSG:26912+5703' -t_srs 'EPSG:32612+4979' USGS_one_meter_x74y432_CO_MesaCo_QL2_UTM12_2016.tif test3.tif"
   ]
  }
 ],
 "metadata": {
  "kernelspec": {
   "display_name": "Python 3",
   "language": "python",
   "name": "python3"
  },
  "language_info": {
   "codemirror_mode": {
    "name": "ipython",
    "version": 3
   },
   "file_extension": ".py",
   "mimetype": "text/x-python",
   "name": "python",
   "nbconvert_exporter": "python",
   "pygments_lexer": "ipython3",
   "version": "3.8.8"
  }
 },
 "nbformat": 4,
 "nbformat_minor": 5
}

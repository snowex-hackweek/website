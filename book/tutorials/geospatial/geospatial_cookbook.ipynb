{
 "cells": [
  {
   "cell_type": "markdown",
   "id": "floating-clothing",
   "metadata": {},
   "source": [
    "## Geospatial Analysis Cookbook\n",
    "\n",
    "SnowEx Hackweek  \n",
    "July 13, 2021\n",
    "\n",
    "Author: David Shean\n",
    "\n",
    "These are some common operations that you may need for your projects. We hope that you can review this code, and copy/paste to use in a modular fashion for your projects, so you don't have to reinvent the wheel when time is limited"
   ]
  },
  {
   "cell_type": "markdown",
   "id": "casual-collection",
   "metadata": {},
   "source": [
    "## Importing csv of point data"
   ]
  },
  {
   "cell_type": "markdown",
   "id": "automatic-workstation",
   "metadata": {},
   "source": [
    "## Load the existing csv into a Pandas DataFrame\n",
    "* Use the relative path as in previous labs and the amazing Pandas `read_csv()` function\n",
    "* Run a quick `head()` on your DataFrame to make sure everything looks right"
   ]
  },
  {
   "cell_type": "code",
   "execution_count": null,
   "id": "positive-allergy",
   "metadata": {},
   "outputs": [],
   "source": [
    "glas_fn = '../01_Shell_Github/data/GLAH14_tllz_conus_lulcfilt_demfilt.csv'\n",
    "glas_df = pd.read_csv(glas_fn)"
   ]
  },
  {
   "cell_type": "code",
   "execution_count": null,
   "id": "communist-joint",
   "metadata": {},
   "outputs": [],
   "source": [
    "glas_df.head()"
   ]
  },
  {
   "cell_type": "markdown",
   "id": "affiliated-reading",
   "metadata": {},
   "source": [
    "## Convert the Pandas `DataFrame` to a GeoPandas `GeoDataFrame`\n",
    "* See documentation here: https://geopandas.readthedocs.io/en/latest/gallery/create_geopandas_from_pandas.html\n",
    "* Careful about lon and lat order!\n",
    "* Define coordinate reference system with crs keyword argument (4326 is geographic lat/lon on WGS84 Ellispoid) \n",
    "    * https://www.earthdatascience.org/courses/earth-analytics/spatial-data-r/intro-to-coordinate-reference-systems/\n",
    "* Store in a variable named `glas_gdf` (needed for sample code later)\n",
    "* Run a quick `head()` to make sure everything looks good\n",
    "* You should have a new `geometry` column containing shapely Point objects"
   ]
  },
  {
   "cell_type": "code",
   "execution_count": null,
   "id": "missing-guidance",
   "metadata": {},
   "outputs": [],
   "source": [
    "glas_gdf = gpd.GeoDataFrame(glas_df, geometry=gpd.points_from_xy(glas_df['lon'], glas_df['lat']), crs='EPSG:4326')"
   ]
  },
  {
   "cell_type": "markdown",
   "id": "basic-congo",
   "metadata": {},
   "source": [
    "# Save processed data to a GIS-ready file"
   ]
  },
  {
   "cell_type": "markdown",
   "id": "generous-mission",
   "metadata": {},
   "source": [
    "The workflows in these Notebooks are intended to be fully reproducible, starting with raw data and producing all final output.  But sometimes you want to write out geospatial data for analysis in a GUI-based GIS (QGIS, ArcMap), or to share with colleagues who will use these tools."
   ]
  },
  {
   "cell_type": "markdown",
   "id": "entertaining-discretion",
   "metadata": {},
   "source": [
    "## Check available output formats for geopandas\n",
    "* Use fiona to get a list of available file type drivers for output\n",
    "* Note: the 'r' means fiona/geopandas can read this file type, 'w' means it can write this file type, 'a' means it can append to an existing file.\n",
    "    * https://fiona.readthedocs.io/en/latest/manual.html#writing-vector-data"
   ]
  },
  {
   "cell_type": "code",
   "execution_count": null,
   "id": "stock-isolation",
   "metadata": {},
   "outputs": [],
   "source": [
    "import fiona\n",
    "fiona.supported_drivers"
   ]
  },
  {
   "cell_type": "markdown",
   "id": "cellular-buffalo",
   "metadata": {},
   "source": [
    "## How to choose a format?\n",
    "* If you've taken a GIS class (or not), you've probably used shapefiles in the past.  Please stop.  The ESRI shapefile is a legacy format, though it is still widely used.\n",
    "* http://switchfromshapefile.org/\n",
    "* Better options these days are Geopackage (GPKG) when spatial index is required, and simple GeoJSON for vector data in EPSG:4326\n",
    "    * Both should be supported by your GIS (including QGIS, ArcGIS, etc)\n",
    "* Let's use geopackage for this exercise\n",
    "* Can use the Geopandas `to_file()` method to create this file\n",
    "    * Make sure you properly specify filename with extension and the `driver` option\n",
    "    * *Note: Writing out may take a minute, and may produce an intermediate '.gpkg-journal' file*\n",
    "        * Can see this in the file browser or terminal!"
   ]
  },
  {
   "cell_type": "code",
   "execution_count": null,
   "id": "handed-fourth",
   "metadata": {},
   "outputs": [],
   "source": [
    "out_fn='./conus_glas_gdf_aea_rgi_agg.gpkg'\n",
    "glas_gdf_aea_rgi_agg_gdf.to_file(out_fn, driver='GPKG')\n",
    "\n",
    "#out_fn='./conus_glas_gdf_aea_rgi_agg.geojson'\n",
    "#glas_gdf_aea_rgi_agg_gdf.to_file(out_fn, driver='GeoJSON')"
   ]
  },
  {
   "cell_type": "code",
   "execution_count": null,
   "id": "traditional-arrow",
   "metadata": {},
   "outputs": [],
   "source": [
    "ls -lh $out_fn"
   ]
  },
  {
   "cell_type": "markdown",
   "id": "approved-therapist",
   "metadata": {},
   "source": [
    "## 🎉\n",
    "\n",
    "You can now directly load this gpkg file in any GIS, without defining a coordinate system. You can also load this file directly into geopandas in the future using the `read_file()` method, without having to repeat the processing above.\n",
    "\n",
    "### See for yourself!\n",
    "Try it! Right-click on file in the file browser to the left of the JupyterLab interface, then select Download and pick a location on your local computer (e.g., your Downloads folder). \n",
    "\n",
    "Then open this file in QGIS or ArcGIS on your local machine!"
   ]
  },
  {
   "cell_type": "markdown",
   "id": "manual-covering",
   "metadata": {},
   "source": [
    "# USGS 3DEP Raster Tile Download - Mesa County LiDAR"
   ]
  },
  {
   "cell_type": "code",
   "execution_count": null,
   "id": "metric-legend",
   "metadata": {},
   "outputs": [],
   "source": [
    "import os\n",
    "import rasterio as rio\n",
    "import rasterio.plot\n",
    "import numpy as np\n",
    "import matplotlib.pyplot as plt"
   ]
  },
  {
   "cell_type": "code",
   "execution_count": null,
   "id": "technical-highland",
   "metadata": {},
   "outputs": [],
   "source": [
    "#Current url for 1/9th arcsec 3DEP raster products\n",
    "#url1='https://prd-tnm.s3.amazonaws.com/StagedProducts/Elevation/19/IMG/ned19_n48x25_w122x50_wa_puget_sound_2000.zip'\n",
    "#fn1='ned19_n48x25_w122x50_wa_puget_sound_2000.img'\n",
    "#Going to fetch and read zipfile on the fly, specifying img inside\n",
    "#path=f'/vsizip//vsicurl/{url1}/{fn1}'\n",
    "#os.path.splitext(os.path.split(url_list[0])[-1])[0]+'.img'"
   ]
  },
  {
   "cell_type": "code",
   "execution_count": null,
   "id": "utility-workstation",
   "metadata": {},
   "outputs": [],
   "source": [
    "#GUI based search for tiles\n",
    "#https://prd-tnm.s3.amazonaws.com/LidarExplorer/index.html\n",
    "#Contains public url for each tif\n",
    "url_fn_3DEP = 'gm_3dep_1m_lidar_tiles.txt'"
   ]
  },
  {
   "cell_type": "code",
   "execution_count": null,
   "id": "needed-absence",
   "metadata": {},
   "outputs": [],
   "source": [
    "with open(url_fn_3DEP) as f:\n",
    "    url_list = f.read().splitlines()"
   ]
  },
  {
   "cell_type": "code",
   "execution_count": null,
   "id": "genuine-portable",
   "metadata": {},
   "outputs": [],
   "source": [
    "url_list.sort()"
   ]
  },
  {
   "cell_type": "code",
   "execution_count": null,
   "id": "joint-sunset",
   "metadata": {},
   "outputs": [],
   "source": [
    "#idx = ['UTM13' in i for i in url_list]"
   ]
  },
  {
   "cell_type": "code",
   "execution_count": null,
   "id": "greek-groove",
   "metadata": {},
   "outputs": [],
   "source": [
    "path_list = []\n",
    "for url in url_list:\n",
    "    #fn = os.path.splitext(os.path.split(url)[-1])[0]+'.img'\n",
    "    #path = f'/vsizip//vsicurl/{url}/{fn}'\n",
    "    path = f'/vsicurl/{url}'\n",
    "    path_list.append(path)\n",
    "path_list_str = ' '.join(path_list)"
   ]
  },
  {
   "cell_type": "code",
   "execution_count": null,
   "id": "immediate-barbados",
   "metadata": {},
   "outputs": [],
   "source": [
    "path"
   ]
  },
  {
   "cell_type": "code",
   "execution_count": null,
   "id": "painful-clock",
   "metadata": {},
   "outputs": [],
   "source": [
    "with rio.open(path) as src:\n",
    "    rio.plot.show(src)"
   ]
  },
  {
   "cell_type": "code",
   "execution_count": null,
   "id": "valued-airfare",
   "metadata": {},
   "outputs": [],
   "source": [
    "url = 'https://prd-tnm.s3.amazonaws.com/StagedProducts/Elevation/1m/Projects/CO_MesaCo_QL2_UTM12_2016/TIFF/USGS_one_meter_x74y433_CO_MesaCo_QL2_UTM12_2016.tif'"
   ]
  },
  {
   "cell_type": "code",
   "execution_count": null,
   "id": "impossible-bread",
   "metadata": {},
   "outputs": [],
   "source": [
    "path = f'/vsicurl/{url}'"
   ]
  },
  {
   "cell_type": "code",
   "execution_count": null,
   "id": "black-symphony",
   "metadata": {},
   "outputs": [],
   "source": [
    "with rio.open(path) as src:\n",
    "    rio.plot.show(src)"
   ]
  },
  {
   "cell_type": "code",
   "execution_count": null,
   "id": "existing-northern",
   "metadata": {},
   "outputs": [],
   "source": [
    "vrt_fn = os.path.splitext(url_fn_3DEP)[0]+'.vrt'\n",
    "tif_fn = os.path.splitext(url_fn_3DEP)[0]+'.tif'\n",
    "hs_fn = os.path.splitext(tif_fn)[0]+'_hs.tif'"
   ]
  },
  {
   "cell_type": "code",
   "execution_count": null,
   "id": "marine-communist",
   "metadata": {},
   "outputs": [],
   "source": [
    "#This actually takes some time as file must be downloaded and unzipped to read img header\n",
    "!gdalbuildvrt $vrt_fn $path_list_str"
   ]
  },
  {
   "cell_type": "code",
   "execution_count": null,
   "id": "functioning-lightning",
   "metadata": {},
   "outputs": [],
   "source": [
    "dst_crs = 'EPSG:32612'"
   ]
  },
  {
   "cell_type": "code",
   "execution_count": null,
   "id": "veterinary-transcription",
   "metadata": {},
   "outputs": [],
   "source": [
    "#Since these tiles are mixed projection, can download, reproject and mosaic in one go\n",
    "!gdalwarp -r cubic -tr 3.0 3.0 -dstnodata -9999 -t_srs $dst_crs \\\n",
    "-co COMPRESS=LZW -co TILED=YES -co BIGTIFF=IF_SAFER \\\n",
    "$path_list_str $tif_fn"
   ]
  },
  {
   "cell_type": "code",
   "execution_count": null,
   "id": "specialized-edgar",
   "metadata": {},
   "outputs": [],
   "source": [
    "!gdaldem hillshade -co COMPRESS=LZW -co TILED=YES -co BIGTIFF=IF_SAFER $tif_fn $hs_fn"
   ]
  },
  {
   "cell_type": "code",
   "execution_count": null,
   "id": "aging-submission",
   "metadata": {},
   "outputs": [],
   "source": [
    "!gdaladdo -r gauss $hs_fn"
   ]
  },
  {
   "cell_type": "code",
   "execution_count": null,
   "id": "hourly-fruit",
   "metadata": {},
   "outputs": [],
   "source": [
    "src = rio.open(hs_fn, overview_level=1)"
   ]
  },
  {
   "cell_type": "code",
   "execution_count": null,
   "id": "structural-demographic",
   "metadata": {},
   "outputs": [],
   "source": [
    "src.profile"
   ]
  },
  {
   "cell_type": "code",
   "execution_count": null,
   "id": "expired-leather",
   "metadata": {},
   "outputs": [],
   "source": [
    "rio.plot.show(src, cmap='gray')"
   ]
  },
  {
   "cell_type": "markdown",
   "id": "flying-analysis",
   "metadata": {},
   "source": [
    "# Retrieve Preliminary Feb 2017 Grand Mesa WorldView Stereo Snow Depth data product from Zenodo repository\n",
    "* Snow depth raster derived from WorldView-3 DEMs for comparisons in McGrath et al. (2019) against ASO lidar snow depth, GPR snow depth and snow pit data\n",
    "* https://doi.org/10.5281/zenodo.3381652"
   ]
  },
  {
   "cell_type": "code",
   "execution_count": null,
   "id": "prime-latex",
   "metadata": {},
   "outputs": [],
   "source": [
    "# https://zenodo.org/record/3381653\n",
    "url = 'https://zenodo.org/record/3381653/files/20160925_gm_8m_trans-tile-0_20170201_gm_8m_trans-tile-0_dz_eul.tif'"
   ]
  },
  {
   "cell_type": "code",
   "execution_count": null,
   "id": "wooden-species",
   "metadata": {},
   "outputs": [],
   "source": [
    "#This uses the GDAL /vsicurl_streaming approach\n",
    "test_fn = f'/vsicurl_streaming/{url}'"
   ]
  },
  {
   "cell_type": "code",
   "execution_count": null,
   "id": "embedded-folder",
   "metadata": {},
   "outputs": [],
   "source": [
    "src = rio.open(test_fn)"
   ]
  },
  {
   "cell_type": "code",
   "execution_count": null,
   "id": "fallen-torture",
   "metadata": {},
   "outputs": [],
   "source": [
    "src.profile"
   ]
  },
  {
   "cell_type": "code",
   "execution_count": null,
   "id": "great-destiny",
   "metadata": {},
   "outputs": [],
   "source": [
    "a = src.read(1, masked=True)"
   ]
  },
  {
   "cell_type": "code",
   "execution_count": null,
   "id": "surgical-pantyhose",
   "metadata": {},
   "outputs": [],
   "source": [
    "f, ax = plt.subplots(figsize=(10,10))\n",
    "ax.imshow(a, cmap='inferno', clim=(0, 2), interpolation='none', extent=rio.plot.plotting_extent(src))"
   ]
  },
  {
   "cell_type": "markdown",
   "id": "formed-leeds",
   "metadata": {},
   "source": [
    "## Function to add day of year and day of water year to dataframe"
   ]
  },
  {
   "cell_type": "code",
   "execution_count": null,
   "id": "organic-coalition",
   "metadata": {},
   "outputs": [],
   "source": [
    "#Add DOY and DOWY column\n",
    "def add_dowy(df, col=None):\n",
    "    print(\"Adding Day of Water Year (DOWY)\")\n",
    "    if col is None:\n",
    "        df['doy'] = df.index.dayofyear\n",
    "    else:\n",
    "        df['doy'] = pd.to_datetime(df[col]).dt.dayofyear\n",
    "    \n",
    "    #df['dowy'] = (df['doy'].index - pd.DateOffset(months=9)).dayofyear\n",
    "    # Sept 30 is doy 273\n",
    "    df['dowy'] = df['doy'] - 273\n",
    "    df.loc[df['dowy'] <= 0, 'dowy'] += 365\n",
    "    df['decyear'] = Time(pd.to_datetime(df[col])).decimalyear"
   ]
  },
  {
   "cell_type": "markdown",
   "id": "further-climb",
   "metadata": {},
   "source": [
    "## Clean up ASO DTM and Snow Depth data from NSIDC"
   ]
  },
  {
   "cell_type": "code",
   "execution_count": null,
   "id": "together-montgomery",
   "metadata": {},
   "outputs": [],
   "source": [
    "aso_dir = '/nobackupp8/deshean/data/ASO'\n",
    "aso_fn_list = !ls $aso_dir/ASO*SD*tif $aso_dir/ASO*DTM*tif\n",
    "aso_fn_list"
   ]
  },
  {
   "cell_type": "markdown",
   "id": "accompanied-annotation",
   "metadata": {},
   "source": [
    "## Prepare polygon masks around valid data in raster\n",
    "* This is a common task to generate polygons around valid pixels in a raster\n",
    "* Can do this on a low-resolution overview (8x subsampling) for efficiency"
   ]
  },
  {
   "cell_type": "code",
   "execution_count": null,
   "id": "talented-masters",
   "metadata": {},
   "outputs": [],
   "source": [
    "aso_feat_list = []\n",
    "ovr_scale = 8\n",
    "for fn in aso_fn_list:\n",
    "    src = rio.open(fn)\n",
    "    a = src.read(1, masked=True, out_shape=(src.count, int(src.height / ovr_scale), int(src.width / ovr_scale)))\n",
    "    ovr_transform = src.transform * src.transform.scale(src.width / a.shape[-1], src.height / a.shape[-2])\n",
    "    mask = np.ma.getmaskarray(a).astype(np.uint8) - 1\n",
    "    shapes = features.shapes(mask, mask=mask, transform=ovr_transform)\n",
    "    geom_list = list(shapes)\n",
    "    dt = os.path.splitext(os.path.split(fn)[-1])[0].split('_')[-1]\n",
    "    aso_feat_list.extend([{'properties':{'fn':fn, 'date':dt}, 'geometry':i[0]} for i in geom_list])"
   ]
  },
  {
   "cell_type": "code",
   "execution_count": null,
   "id": "consistent-thought",
   "metadata": {},
   "outputs": [],
   "source": [
    "aso_gdf = gpd.GeoDataFrame.from_features(aso_feat_list, crs=src.crs)\n",
    "aso_gdf = aso_gdf.to_crs(crs)"
   ]
  },
  {
   "cell_type": "code",
   "execution_count": null,
   "id": "cooked-interference",
   "metadata": {},
   "outputs": [],
   "source": [
    "aso_gdf.plot(alpha=0.1)"
   ]
  },
  {
   "cell_type": "code",
   "execution_count": null,
   "id": "economic-davis",
   "metadata": {},
   "outputs": [],
   "source": [
    "#remove tiny polygons\n",
    "area_thresh = 1e8\n",
    "aso_gdf = aso_gdf.loc[aso_gdf.area > area_thresh]"
   ]
  },
  {
   "cell_type": "code",
   "execution_count": null,
   "id": "basic-training",
   "metadata": {},
   "outputs": [],
   "source": [
    "aso_gdf.plot(alpha=0.1, edgecolor='k', legend=True)"
   ]
  },
  {
   "cell_type": "code",
   "execution_count": null,
   "id": "architectural-census",
   "metadata": {},
   "outputs": [],
   "source": [
    "#Should simplify and sieve\n",
    "#aso.geometry.simplify(tolerance=100)"
   ]
  },
  {
   "cell_type": "code",
   "execution_count": null,
   "id": "surrounded-double",
   "metadata": {},
   "outputs": [],
   "source": [
    "aso_gdf['date'] = pd.to_datetime(aso_gdf['date'])"
   ]
  },
  {
   "cell_type": "code",
   "execution_count": null,
   "id": "residential-logic",
   "metadata": {},
   "outputs": [],
   "source": [
    "add_dowy(aso_gdf, col='date')"
   ]
  },
  {
   "cell_type": "code",
   "execution_count": null,
   "id": "wooden-sixth",
   "metadata": {},
   "outputs": [],
   "source": [
    "aso_gdf['platform'] = 'ASO'\n",
    "aso_gdf['acqdate'] = aso_gdf['date']"
   ]
  },
  {
   "cell_type": "code",
   "execution_count": null,
   "id": "agricultural-third",
   "metadata": {},
   "outputs": [],
   "source": [
    "aso_gdf.set_index('date', inplace=True)"
   ]
  },
  {
   "cell_type": "code",
   "execution_count": null,
   "id": "cellular-queens",
   "metadata": {},
   "outputs": [],
   "source": [
    "aso_gdf"
   ]
  },
  {
   "cell_type": "markdown",
   "id": "working-timing",
   "metadata": {},
   "source": [
    "# Strategies for Dynamic DEM Data Download and Processing"
   ]
  },
  {
   "cell_type": "code",
   "execution_count": null,
   "id": "quick-cedar",
   "metadata": {},
   "outputs": [],
   "source": [
    "import os\n",
    "import requests\n",
    "import rasterio as rio\n",
    "from rasterio import plot, mask"
   ]
  },
  {
   "cell_type": "code",
   "execution_count": null,
   "id": "sensitive-liquid",
   "metadata": {},
   "outputs": [],
   "source": [
    "gm_bounds = [-108.34115668,   38.82320553, -107.72839859,   39.19563035]"
   ]
  },
  {
   "cell_type": "markdown",
   "id": "asian-third",
   "metadata": {},
   "source": [
    "## Use OpenTopography GlobalDEM API to fetch clipped DEM\n",
    "* OpenTopgraphy is a fantastic organization that \"facilitates community access to high-resolution, Earth science-oriented, topography data, and related tools and resources.\"\n",
    "    * https://opentopography.org/about\n",
    "* One of the many services they provide is an API for several popular Global DEM datasets, with simple subsetting and delivery: https://opentopography.org/developers\n",
    "* Latest list of available DEM: https://portal.opentopography.org/apidocs/#/Public/getGlobalDem\n",
    "* We'll use this service to extract a small portion of the SRTM-GL3 DEM"
   ]
  },
  {
   "cell_type": "code",
   "execution_count": null,
   "id": "mechanical-formula",
   "metadata": {},
   "outputs": [],
   "source": [
    "#List of all products hosted by OpenTopography GlobalDEM API\n",
    "demtype_list = [\"SRTMGL3\", \"SRTMGL1\", \"SRTMGL1_E\", \"AW3D30\", \"AW3D30_E\", \"SRTM15Plus\"]"
   ]
  },
  {
   "cell_type": "code",
   "execution_count": null,
   "id": "funny-moisture",
   "metadata": {},
   "outputs": [],
   "source": [
    "#1 arcsec\n",
    "demtype = \"SRTMGL1_E\""
   ]
  },
  {
   "cell_type": "code",
   "execution_count": null,
   "id": "comparative-encounter",
   "metadata": {},
   "outputs": [],
   "source": [
    "base_url=\"https://portal.opentopography.org/API/globaldem?demtype={}&west={}&south={}&east={}&north={}&outputFormat=GTiff\""
   ]
  },
  {
   "cell_type": "code",
   "execution_count": null,
   "id": "retired-allen",
   "metadata": {},
   "outputs": [],
   "source": [
    "base_url.format(demtype, *gm_bounds)"
   ]
  },
  {
   "cell_type": "markdown",
   "id": "dominant-olive",
   "metadata": {},
   "source": [
    "### Optional: set up API key to access Copernicus DEM and NASADEM\n",
    "* This will enable access to NASADEM and Compernicus DEM (30 and 90 m)\n",
    "* https://portal.opentopography.org/myopentopo"
   ]
  },
  {
   "cell_type": "code",
   "execution_count": null,
   "id": "sixth-manitoba",
   "metadata": {},
   "outputs": [],
   "source": [
    "#Paste API key below\n",
    "api_key = None\n",
    "if api_key:\n",
    "    demtype_list.extend(['NASADEM', 'COP30', 'COP90'])\n",
    "    demtype = 'COP30'"
   ]
  },
  {
   "cell_type": "code",
   "execution_count": null,
   "id": "continuing-thomas",
   "metadata": {},
   "outputs": [],
   "source": [
    "def get_OT_GlobalDEM(demtype, bounds, out_fn=None, api_key=None):\n",
    "    if out_fn is None:\n",
    "        out_fn = '{}.tif'.format(demtype)\n",
    "    \n",
    "    if not os.path.exists(out_fn):\n",
    "        #Prepare API request url\n",
    "        #Bounds should be [minlon, minlat, maxlon, maxlat]\n",
    "        url = base_url.format(demtype, *bounds)\n",
    "        if api_key is not None:\n",
    "            url = f'{url}&API_Key={api_key}'\n",
    "        print(url)\n",
    "        #Get\n",
    "        response = requests.get(url)\n",
    "        #Should check for 200\n",
    "        #Write to disk\n",
    "        open(out_fn, 'wb').write(response.content)"
   ]
  },
  {
   "cell_type": "code",
   "execution_count": null,
   "id": "waiting-chassis",
   "metadata": {},
   "outputs": [],
   "source": [
    "out_fn = f\"GM_{demtype}.tif\"\n",
    "out_fn"
   ]
  },
  {
   "cell_type": "code",
   "execution_count": null,
   "id": "attempted-vegetarian",
   "metadata": {},
   "outputs": [],
   "source": [
    "get_OT_GlobalDEM(demtype, gm_bounds, out_fn, api_key)"
   ]
  },
  {
   "cell_type": "code",
   "execution_count": null,
   "id": "junior-meaning",
   "metadata": {},
   "outputs": [],
   "source": [
    "!ls -lh $out_fn"
   ]
  },
  {
   "cell_type": "code",
   "execution_count": null,
   "id": "knowing-indonesia",
   "metadata": {},
   "outputs": [],
   "source": [
    "with rio.open(out_fn) as src:\n",
    "    rio.plot.show(src)"
   ]
  },
  {
   "cell_type": "markdown",
   "id": "limited-torture",
   "metadata": {},
   "source": [
    "### Reproject points to match raster"
   ]
  },
  {
   "cell_type": "code",
   "execution_count": null,
   "id": "bound-editing",
   "metadata": {},
   "outputs": [],
   "source": [
    "glas_gdf_srtm = glas_gdf_aea.to_crs(srtm_src.crs)"
   ]
  },
  {
   "cell_type": "markdown",
   "id": "scientific-madrid",
   "metadata": {},
   "source": [
    "### Prepare the coordinate arrays to pass to rio `sample` function\n",
    "* The `sample` function expects a list of (x,y) tuples: https://rasterio.readthedocs.io/en/latest/api/rasterio.sample.html\n",
    "    * Need to create this from the `geometry` objects in your GeoDataFrame\n",
    "    * You want a list of the form [(x1,y1),(x2,y2),…]\n",
    "* Pass to `sample`\n",
    "* Note that the `sample` function returns a `generator` object, and it doesn't actually evaluate the call!\n",
    "* Can wrap this in a `np.array(list())` to evaluate, or use `np.fromiter()`\n",
    "* This operation may take ~10-20 seconds to complete"
   ]
  },
  {
   "cell_type": "code",
   "execution_count": null,
   "id": "indoor-priest",
   "metadata": {},
   "outputs": [],
   "source": [
    "glas_coord = [(pt.x, pt.y) for pt in glas_gdf_srtm.geometry]\n",
    "#glas_coord = np.vstack((glas_gdf_srtm.geometry.x.values, glas_gdf_srtm.geometry.y.values)).T"
   ]
  },
  {
   "cell_type": "markdown",
   "id": "surrounded-aquatic",
   "metadata": {},
   "source": [
    "### Sample with rasterio"
   ]
  },
  {
   "cell_type": "code",
   "execution_count": null,
   "id": "swiss-cisco",
   "metadata": {},
   "outputs": [],
   "source": [
    "glas_srtm_sample = srtm_src.sample(glas_coord)\n",
    "glas_srtm_sample"
   ]
  },
  {
   "cell_type": "markdown",
   "id": "earned-philip",
   "metadata": {},
   "source": [
    "### This is a generator, so we actually need to evaluate"
   ]
  },
  {
   "cell_type": "code",
   "execution_count": null,
   "id": "expected-thumb",
   "metadata": {},
   "outputs": [],
   "source": [
    "glas_srtm_elev = np.fromiter(glas_srtm_sample, dtype=srtm.dtype)\n",
    "glas_srtm_elev"
   ]
  },
  {
   "cell_type": "markdown",
   "id": "equal-cursor",
   "metadata": {},
   "source": [
    "### Deal with nodata\n",
    "* Some of our GLAS points are located over areas where we don't have valid DEM pixels\n",
    "* These will be assigned the raster nodata value (-32768 in this case)"
   ]
  },
  {
   "cell_type": "code",
   "execution_count": null,
   "id": "third-removal",
   "metadata": {},
   "outputs": [],
   "source": [
    "glas_srtm_elev_ma = np.ma.masked_equal(glas_srtm_elev, srtm_src.nodata)\n",
    "glas_srtm_elev_ma"
   ]
  },
  {
   "cell_type": "markdown",
   "id": "thirty-graph",
   "metadata": {},
   "source": [
    "### Add new column to the GeoDataFrame\n",
    "* Set masked values to `np.nan` (which requires a conversion to float)"
   ]
  },
  {
   "cell_type": "code",
   "execution_count": null,
   "id": "mexican-supervisor",
   "metadata": {},
   "outputs": [],
   "source": [
    "glas_gdf_srtm['srtm_90m_z_rio'] = glas_srtm_elev_ma.astype(float).filled(np.nan)"
   ]
  },
  {
   "cell_type": "code",
   "execution_count": null,
   "id": "herbal-machinery",
   "metadata": {},
   "outputs": [],
   "source": [
    "glas_gdf_srtm.dropna().head()"
   ]
  },
  {
   "cell_type": "code",
   "execution_count": null,
   "id": "apparent-characteristic",
   "metadata": {},
   "outputs": [],
   "source": [
    "f, ax = plt.subplots()\n",
    "ax.imshow(hs, cmap='gray', extent=rio.plot.plotting_extent(srtm_hs_src))\n",
    "#ax.imshow(srtm, extent=srtm_extent, alpha=0.5);\n",
    "glas_gdf_srtm.dropna().plot('srtm_90m_z_rio', ax=ax, markersize=1);"
   ]
  },
  {
   "cell_type": "markdown",
   "id": "imperial-billy",
   "metadata": {},
   "source": [
    "*Note: the SRTM elevation values are height above the EGM96 geoid*"
   ]
  },
  {
   "cell_type": "markdown",
   "id": "daily-canyon",
   "metadata": {},
   "source": [
    "### Notes on sampling coarse rasters or noisy rasters at integer pixel locations\n",
    "* The rasterio approach is efficient, but it uses a nearest neighbor algorithm to extract the elevation value for the grid cell that contains the point, regardless of where the point falls within the grid cell (center vs. corner)\n",
    "* But the DEM grid cells can be big (~90x90 m for the SRTM3 data), so if point is near the corner of a pixel on steep slope, the pixel value might not be representative.\n",
    "* A better approach is to use bilinear or bicubic sampling, to interpolate the elevation value at the point coordinate using pixel values within some neighborhood around the point, (e.g. 2x2 window for bilinear, 4x4 window for cubic)\n",
    "* Other approaches involve computing zonal stats within some radius of the point location (e.g., median elevation of pixels within 300 m of the point, using buffer to create polygons)\n",
    "    * https://www.earthdatascience.org/courses/earth-analytics-python/lidar-remote-sensing-uncertainty/extract-data-from-raster/\n",
    "    * https://pysal.org/scipy2019-intermediate-gds/deterministic/gds2-rasters.html#getting-values-at-cells\n",
    "    * https://github.com/dshean/pygeotools/blob/master/pygeotools/lib/geolib.py#L1019"
   ]
  },
  {
   "cell_type": "markdown",
   "id": "united-motorcycle",
   "metadata": {},
   "source": [
    "## 2. Local window sample\n",
    "\n",
    "https://github.com/dshean/demcoreg/blob/master/demcoreg/sample_raster_at_pts.py\n",
    "\n",
    "https://github.com/dshean/pygeotools/blob/master/pygeotools/lib/geolib.py#L1019"
   ]
  },
  {
   "cell_type": "markdown",
   "id": "sound-cookie",
   "metadata": {},
   "source": [
    "## 3. Scipy ndimage: n-order polynomial\n",
    "* Good option for regular grids (i.e., DEMs)\n",
    "* Propagates nan, issues when DEM has missing data"
   ]
  },
  {
   "cell_type": "code",
   "execution_count": null,
   "id": "optimum-orbit",
   "metadata": {},
   "outputs": [],
   "source": [
    "import scipy.ndimage\n",
    "#Should dropna here\n",
    "yx = np.array([glas_gdf_srtm.geometry.y, glas_gdf_srtm.geometry.x])\n",
    "#Convert map coordinates to array coordinates (want float, not whole integer indices)\n",
    "#See functions here\n",
    "#https://rasterio.readthedocs.io/en/latest/api/rasterio.transform.html\n",
    "#Need to revisit\n",
    "#Use bilinear resampling here (order=1)\n",
    "ndimage_samp = scipy.ndimage.map_coordinates(srtm, yx, order=1, mode='nearest')\n",
    "ndimage_samp = np.ma.masked_equal(ndimage_samp, srtm_src.nodata)"
   ]
  },
  {
   "cell_type": "code",
   "execution_count": null,
   "id": "disabled-hobby",
   "metadata": {},
   "outputs": [],
   "source": [
    "srtm_src.transform"
   ]
  },
  {
   "cell_type": "code",
   "execution_count": null,
   "id": "functional-painting",
   "metadata": {},
   "outputs": [],
   "source": [
    "glas_gdf_srtm['srtm_90m_z_ndimage'] = ndimage_samp.astype(float).filled(np.nan)"
   ]
  },
  {
   "cell_type": "code",
   "execution_count": null,
   "id": "actual-courage",
   "metadata": {},
   "outputs": [],
   "source": [
    "glas_gdf_srtm.dropna().head()"
   ]
  },
  {
   "cell_type": "markdown",
   "id": "intellectual-delivery",
   "metadata": {},
   "source": [
    "## Handling complex horizontal and vertical datum transformations\n",
    "* https://pyproj4.github.io/pyproj/stable/build_crs.html"
   ]
  },
  {
   "cell_type": "code",
   "execution_count": null,
   "id": "alternative-surface",
   "metadata": {},
   "outputs": [],
   "source": [
    "import pyproj\n",
    "from pyproj.crs import CRS, CompoundCRS"
   ]
  },
  {
   "cell_type": "markdown",
   "id": "incorrect-republic",
   "metadata": {},
   "source": [
    "## 2D WGS84 coordinates (lat, lon)"
   ]
  },
  {
   "cell_type": "code",
   "execution_count": null,
   "id": "decent-index",
   "metadata": {},
   "outputs": [],
   "source": [
    "CRS(4326)"
   ]
  },
  {
   "cell_type": "markdown",
   "id": "interim-marks",
   "metadata": {},
   "source": [
    "## 3D WGS84 coordinates (lat, lon, height above ellipsoid)"
   ]
  },
  {
   "cell_type": "code",
   "execution_count": null,
   "id": "later-pipeline",
   "metadata": {},
   "outputs": [],
   "source": [
    "CRS(4979)"
   ]
  },
  {
   "cell_type": "code",
   "execution_count": null,
   "id": "engaging-hawaiian",
   "metadata": {},
   "outputs": [],
   "source": [
    "CRS(7789)"
   ]
  },
  {
   "cell_type": "code",
   "execution_count": null,
   "id": "pacific-photography",
   "metadata": {},
   "outputs": [],
   "source": [
    "CRS(\"EPSG:32610\").to_3d()"
   ]
  },
  {
   "cell_type": "code",
   "execution_count": null,
   "id": "dedicated-oxygen",
   "metadata": {},
   "outputs": [],
   "source": [
    "CRS(\"EPSG:32610\").to_3d()"
   ]
  },
  {
   "cell_type": "code",
   "execution_count": null,
   "id": "competitive-pricing",
   "metadata": {},
   "outputs": [],
   "source": [
    "cmpd_crs = CompoundCRS(name=\"NAD83 + NAVD88\", components=[\"EPSG:4269\", \"EPSG:5703\"])\n",
    "cmpd_crs = CRS(\"EPSG:4269+5703\")\n",
    "#cmpd_crs = CompoundCRS(name=\"WGS 84 + EGM96\", components=[\"EPSG:4326\", \"EPSG:5773\"])\n",
    "#cmpd_crs = CRS(\"EPSG:4326+5773\")"
   ]
  },
  {
   "cell_type": "code",
   "execution_count": null,
   "id": "given-tension",
   "metadata": {},
   "outputs": [],
   "source": [
    "cmpd_crs"
   ]
  },
  {
   "cell_type": "code",
   "execution_count": null,
   "id": "atomic-shuttle",
   "metadata": {},
   "outputs": [],
   "source": [
    "gm_centroid = (39.02687, -108.06352, 0)"
   ]
  },
  {
   "cell_type": "code",
   "execution_count": null,
   "id": "regulation-chosen",
   "metadata": {},
   "outputs": [],
   "source": [
    "#(y, x, z, t)\n",
    "snotel_coord = (39.05831, -108.05835, 3048, 2010.0)"
   ]
  },
  {
   "cell_type": "code",
   "execution_count": null,
   "id": "crazy-irish",
   "metadata": {},
   "outputs": [],
   "source": [
    "trans = pyproj.Transformer.from_crs(cmpd_crs, \"EPSG:4979\")\n",
    "trans.transform(*snotel_coord)"
   ]
  },
  {
   "cell_type": "code",
   "execution_count": null,
   "id": "round-culture",
   "metadata": {},
   "outputs": [],
   "source": [
    "trans = pyproj.Transformer.from_crs(cmpd_crs, \"EPSG:4979\")\n",
    "trans.transform(*snotel_coord)"
   ]
  },
  {
   "cell_type": "code",
   "execution_count": null,
   "id": "german-session",
   "metadata": {},
   "outputs": [],
   "source": [
    "trans = pyproj.Transformer.from_crs(cmpd_crs, \"EPSG:32612\")\n",
    "trans.transform(*snotel_coord)"
   ]
  },
  {
   "cell_type": "code",
   "execution_count": null,
   "id": "median-theorem",
   "metadata": {},
   "outputs": [],
   "source": [
    "trans = pyproj.Transformer.from_crs(cmpd_crs, \"EPSG:26912\")\n",
    "trans.transform(*snotel_coord)"
   ]
  },
  {
   "cell_type": "code",
   "execution_count": null,
   "id": "partial-update",
   "metadata": {},
   "outputs": [],
   "source": [
    "trans = pyproj.Transformer.from_crs(cmpd_crs, \"EPSG:26912+5703\")\n",
    "trans.transform(*snotel_coord)"
   ]
  },
  {
   "cell_type": "code",
   "execution_count": null,
   "id": "loaded-verification",
   "metadata": {},
   "outputs": [],
   "source": [
    "CRS(26912)"
   ]
  },
  {
   "cell_type": "code",
   "execution_count": null,
   "id": "heated-grove",
   "metadata": {},
   "outputs": [],
   "source": [
    "from pyproj import CRS\n",
    "from pyproj.aoi import AreaOfInterest\n",
    "from pyproj.database import query_utm_crs_info\n",
    "\n",
    "aoi = AreaOfInterest(west_lon_degree=gm_centroid[1], \n",
    "                     south_lat_degree=gm_centroid[0],\n",
    "                     east_lon_degree=gm_centroid[1],\n",
    "                     north_lat_degree=gm_centroid[0])\n",
    "\n",
    "utm_crs_list = query_utm_crs_info(datum_name=\"NAD83\", area_of_interest=aoi)\n",
    "\n",
    "utm_crs = CRS.from_epsg(utm_crs_list[0].code)"
   ]
  },
  {
   "cell_type": "code",
   "execution_count": null,
   "id": "satisfied-detroit",
   "metadata": {},
   "outputs": [],
   "source": [
    "utm_crs"
   ]
  },
  {
   "cell_type": "markdown",
   "id": "ignored-growth",
   "metadata": {},
   "source": [
    "## Vertical conversion using PROJ and GDAL"
   ]
  },
  {
   "cell_type": "code",
   "execution_count": null,
   "id": "subject-blade",
   "metadata": {},
   "outputs": [],
   "source": [
    "Attempts to convert from NAD83+NAVD88 to WGS84+ellipsoid"
   ]
  },
  {
   "cell_type": "code",
   "execution_count": null,
   "id": "white-fellow",
   "metadata": {},
   "outputs": [],
   "source": [
    "gdalwarp -overwrite -s_srs EPSG:26912+5703 -t_srs '+proj=utm +zone=12 +datum=WGS84 +units=m +no_defs +type=crs +grids=us_noaa_g2018u0.tif' USGS_one_meter_\n",
    "x74y432_CO_MesaCo_QL2_UTM12_2016.tif test.tif"
   ]
  },
  {
   "cell_type": "code",
   "execution_count": null,
   "id": "about-volunteer",
   "metadata": {},
   "outputs": [],
   "source": [
    "gdalwarp -overwrite -s_srs 'EPSG:26912+5703' -t_srs 'EPSG:32612+4979' USGS_one_meter_x74y432_CO_MesaCo_QL2_UTM12_2016.tif test3.tif"
   ]
  }
 ],
 "metadata": {
  "kernelspec": {
   "display_name": "Python 3",
   "language": "python",
   "name": "python3"
  },
  "language_info": {
   "codemirror_mode": {
    "name": "ipython",
    "version": 3
   },
   "file_extension": ".py",
   "mimetype": "text/x-python",
   "name": "python",
   "nbconvert_exporter": "python",
   "pygments_lexer": "ipython3",
   "version": "3.8.8"
  }
 },
 "nbformat": 4,
 "nbformat_minor": 5
}

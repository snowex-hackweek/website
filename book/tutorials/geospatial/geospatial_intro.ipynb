{
 "cells": [
  {
   "cell_type": "markdown",
   "id": "approved-stopping",
   "metadata": {},
   "source": [
    "# Geospatial Data Analysis: Vector data  \n",
    "\n",
    "SnowEx Hackweek  \n",
    "July 14, 2021"
   ]
  },
  {
   "cell_type": "markdown",
   "id": "ceramic-conservation",
   "metadata": {},
   "source": [
    "### Scratch notes\n",
    "* Philosophy for this tutorial\n",
    "    * Here's what will work, simple, classic examples\n",
    "    * Try to avoid overwhelming, but give basic resources\n",
    "    * Try to provide cookbook examples for plug and play \n",
    "        * Read code/comments/doc\n",
    "    * Highlighting caveats:\n",
    "        * Always more complex\n",
    "        * Look at the code\n",
    "    * Scaling issues\n",
    "    * Command line, Python script or Notebook?\n",
    "    * No \"right\" way\n",
    "* Core properties:\n",
    "    * Coordinate systems, datums\n",
    "        * Common options, gotchas (if you see a 30 m vertical offset, don't panic)\n",
    "        * Can use common, predefined coordinate systems (preferable) or define yur own\n",
    "    * Projections\n",
    "        * Micah's don't the hard work to prepare common projection for DB\n",
    "        * Inevitably you will integrate other data here and in the future\n",
    "        * Reprojection\n",
    "            * to_crs\n",
    "        * Key takeaway - plotting, sampling, datasets must have common projection\n",
    "            * Raster affine/geotransform?\n",
    "        * How to choose a projection?\n",
    "            * https://projectionwizard.org/\n",
    "* DataFrame analysis\n",
    "    * Filtering\n",
    "    * Calculating new fields\n",
    "    * Spatial analysis\n",
    "        * Buffer, intersect?\n",
    "* Combining vector and raster data\n",
    "    * Sampling raster or ndarray at points\n",
    "        * https://github.com/uw-cryo/raster_sampling\n",
    "    * Zonal statistics for polygons\n",
    "    * Hypsometry and statistics for elevation bands - binning one raster/vector dataset by another, snow depth elevation, snow depth vs. slope\n",
    "    * Clipping a raster by a polygon"
   ]
  },
  {
   "cell_type": "markdown",
   "id": "normal-helmet",
   "metadata": {},
   "source": [
    "## Introduction\n",
    "This tutorial will attempt to cover key fundamentals of geospatial data analysis with Python, with emphasis on vector datasets"
   ]
  },
  {
   "cell_type": "markdown",
   "id": "pointed-wisconsin",
   "metadata": {},
   "source": [
    "# Objectives\n",
    "\n",
    "* Review fundamental concepts in geospatial analysis (e.g. coordinate systems, projections, geometry types)\n",
    "* Learn basic geospatial data manipulation, exploration, and visualization using common tools\n",
    "* Explore different approaches for spatial filtering and aggregation"
   ]
  },
  {
   "cell_type": "markdown",
   "id": "attempted-bikini",
   "metadata": {},
   "source": [
    "# Introduction"
   ]
  },
  {
   "cell_type": "markdown",
   "id": "satisfied-property",
   "metadata": {},
   "source": [
    "## Quick Zoom poll:\n",
    "In the Zoom Participants panel, use the Yes (green) or No (red) response to answer the following question: \n",
    "\n",
    "**Have you ever taken a GIS course?**"
   ]
  },
  {
   "cell_type": "markdown",
   "id": "lasting-blond",
   "metadata": {},
   "source": [
    "## GIS Basics\n",
    ">A geographic information system (GIS) is a framework for gathering, managing, and analyzing data. Rooted in the science of geography, GIS integrates many types of data. It analyzes spatial location and organizes layers of information into visualizations using maps and 3D scenes. ​With this unique capability, GIS reveals deeper insights into data, such as patterns, relationships, and situations—helping users make smarter decisions.\n",
    "\n",
    "https://www.esri.com/en-us/what-is-gis/overview"
   ]
  },
  {
   "cell_type": "markdown",
   "id": "choice-break",
   "metadata": {},
   "source": [
    "### Primary data types\n",
    "* Vector - points, lines, polygons\n",
    "    * File types: shapefiles, csv, geojson, geopackage\n",
    "    * https://automating-gis-processes.github.io/site/notebooks/L1/geometric-objects.html\n",
    "* Raster - gridded data, images\n",
    "    * File types: GeoTiff"
   ]
  },
  {
   "cell_type": "markdown",
   "id": "present-dating",
   "metadata": {},
   "source": [
    "### Common Concepts:\n",
    "* Extent - bounding box or envelope of dataset (xmin, ymin, xmax, ymax)\n",
    "* Coordinate Systems - map projection and datum: https://geopandas.org/projections.html\n",
    "* Geometry manipulation/operations: \n",
    "    * https://geopandas.org/docs/user_guide/geometric_manipulations.html\n",
    "    * https://geopandas.org/docs/user_guide/set_operations.html"
   ]
  },
  {
   "cell_type": "markdown",
   "id": "popular-arabic",
   "metadata": {},
   "source": [
    "## Common data types, examples, and packages\n",
    "* static vector data\n",
    "    * e.g., point data for snow pit locations and attributes\n",
    "    * (geopandas, ogr)\n",
    "* static raster data\n",
    "    * e.g, DEM, multispectral image data from Landsat-8\n",
    "    * rasterio, gdal\n",
    "* vector time series\n",
    "    * e.g., flight trajectory data (x,y,z,time)\n",
    "    * (geopandas, xarray)\n",
    "* raster time series \n",
    "    * Sentinel-1 SAR backscatter time series\n",
    "    * (xarray, rioxarray, xarray-spatial)"
   ]
  },
  {
   "cell_type": "markdown",
   "id": "loose-dubai",
   "metadata": {},
   "source": [
    "## The Scientific Python landscape\n",
    "\n",
    "* Python\n",
    "* Jupyter/iPython\n",
    "* NumPy, Pandas, Matplotlib, SciPy\n",
    "* xarray, scikit-learn\n",
    "\n",
    "One interpretation of this stack:\n",
    "\n",
    "![2017 Scientific Python Stack](https://devopedia.org/images/article/60/7938.1587985662.jpg)  \n",
    "Slide from Jake VanderPlas’s presentation at PyCon 2017, entitled “The Unexpected Effectiveness of Python in Science.”"
   ]
  },
  {
   "cell_type": "markdown",
   "id": "insured-greek",
   "metadata": {},
   "source": [
    "## The Geospatial Python landscape\n",
    "* GDAL/OGR, GEOS, PROJ\n",
    "* rasterio, fiona, shapely, pyproj\n",
    "* geopandas, cartopy, xarray\n",
    "* rioxarray, PDAL\n",
    "\n",
    "[Insert shiny new figure here]"
   ]
  },
  {
   "cell_type": "markdown",
   "id": "tender-bleeding",
   "metadata": {},
   "source": [
    "## Many excellent resources available\n",
    "Here are a few...\n",
    "\n",
    "#### Full courses:\n",
    "* https://www.earthdatascience.org/courses/\n",
    "* https://automating-gis-processes.github.io\n",
    "* https://github.com/UW-GDA/gda_course_2021\n",
    "\n",
    "#### Pangeo:\n",
    "* http://gallery.pangeo.io/\n",
    "\n",
    "#### Geohackweek: \n",
    "* https://geohackweek.github.io/"
   ]
  },
  {
   "cell_type": "markdown",
   "id": "every-diary",
   "metadata": {},
   "source": [
    "## Complementary approaches for geospatial data\n",
    "\n",
    "1. Higher-level data science - *rapid analysis, interpetation, and visualization*\n",
    "    * Short, easy-to-understand code\n",
    "    * Convenience and flexibility comes with small performance hit\n",
    "    * Memory (RAM) limitations\n",
    "    * Geopandas\n",
    "1. Efficient, scalable processing of huge datasets\n",
    "    * Parallel operations\n",
    "    * Lazy evaluation\n",
    "    * PostGIS database\n",
    "    * Dask\n",
    "\n",
    "Here, we're going to explore #1, which is sufficient for scientific analysis.\n",
    "\n",
    "As with all things in the *nix/open-source/Python world, there are always multiple approaches that can be used to accomplish the same goals.  You, the user, will decide on the best approach based on complexity, time constraints, etc."
   ]
  },
  {
   "cell_type": "markdown",
   "id": "grave-detector",
   "metadata": {},
   "source": [
    "## Coordinate Reference Systems (CRS)\n",
    "* https://docs.qgis.org/3.16/en/docs/gentle_gis_introduction/coordinate_reference_systems.html\n",
    "> The topic map projection is very complex and even professionals who have studied geography, geodetics or any other GIS related science, often have problems with the correct definition of map projections and coordinate reference systems. Usually when you work with GIS, you already have projected data to start with. In most cases these data will be projected in a certain CRS, so you don’t have to create a new CRS or even re project the data from one CRS to another. That said, it is always useful to have an idea about what map projection and CRS means.\n",
    "\n",
    "## EPSG codes\n",
    "* European Petroleum Survey Group\n",
    "* https://en.wikipedia.org/wiki/EPSG_Geodetic_Parameter_Dataset"
   ]
  },
  {
   "cell_type": "markdown",
   "id": "excessive-microphone",
   "metadata": {},
   "source": [
    "### Notes\n",
    "* Proj, why so complicated?\n",
    "* Early survey, level, local geodetic - relative to gravitational equipotential surface (bubble level, water)\n",
    "* Satellite era\n",
    "* Geopandas (and most GIS operations) operate on 2D cartesian coordinate systems\n",
    "    * Don't account for curvature of the Earth\n",
    "    * Distortion increases with distance from projection center or standard parallels\n",
    "* How to check crs of dataset\n",
    "* GIS will dynamically reproject all layers to match the \"project CRS\"\n",
    "\n",
    "### Projections\n",
    "* Need a way to represent 3D surface of the Earth on a 2D surface (paper map, computer screen)\n",
    "* Why don't we just do everything in lat/lon?\n",
    "    * geodetic calculations are expensive, require iteration to solve nonlinear differntial equations\n",
    "    * 2D cartesian calculations (e.g., Pythagorean theorem for distance) much simpler, faster\n",
    "\n",
    "### Horizontal CRS and Vertical CRS\n",
    "* Ellipsoid and geoid\n",
    "* Simple shape model for the Earth\n",
    "* Gravitational equipotential surface\n",
    "    * Gravitational vector is normal to this surface everywhere, magnitude is identical\n",
    "    * Define 0 at \"sea level\" if there were no continents\n",
    "\n",
    "### Add figure comparing ECEF, geodetic and projected coordinate systems for Earth\n",
    "\n",
    "### Common CRS\n",
    "* EPSG:4326 - WGS84, geodetic latitude and longitude\n",
    "* EPSG:3857 - web mercator, https://en.wikipedia.org/wiki/Web_Mercator_projection\n",
    "* UTM zones (North)\n",
    "    * EPSG:326XX - where XX is zone number (e.g., 12), WGS84 ellipsoid\n",
    "    * EPSG:269XX - NAD83(2011) ellipsoid\n",
    "\n",
    "### How to choose a projection\n",
    "* https://projectionwizard.org/\n",
    "* Global datasets\n",
    "* Different types of distortion (distance, directions) for the different projections.\n",
    "* It's important to pick a projection that is well-suited for your application.  If you care about accurate representation of distances, you should use an equidistant projection.  If you care about accurate representation of areas, use an equal-area projection.\n",
    "* Remember, there's no \"perfect\" projection. Always some compromise\n",
    "* You would be surprised at how often errors due to projection decisions end up in published literature.\n",
    "\n",
    "### How to tell if you have a coordinate system and/or vertical datum problem\n",
    "* Difference DEMs - Hmm, offset of 20-30 m\n",
    "    * Vertical datum, likely height above ellipsoid vs. height above geoid\n",
    "* Errors during sampling at points (\"out of bounds\")\n",
    "    * Check to make sure projections are the same, mixing lat/lon (decimal degrees) and projected coords (UTM in meters), using pixel/array coords vs. map coords\n",
    "\n",
    "### General Words of Wisdom\n",
    "* Always sanity check - does your dataset have a CRS defined?\n",
    "* Subsample or subset large datasets for your project, don't load 1 m lidar for everything\n",
    "* Avoid unnecessary reprojection and resampling is possible - introducing uncertainty with each transformation, degradation of quality due to interpolation\n",
    "* When plotting and doing anlaysis, all of your input datasets must share the same coordinate system, which may require reprojecting one (or more) datasets to match.  You can then plot them on the same axes.  We will do more of this in coming weeks to create plots of both raster and vector data sources.\n",
    "    * For most applications, best to avoid using a geographic projection (lat/lon) for analysis (or visualization) due to scaling issues\n",
    "    * In general, for local studies or smaller areas (<500x500 km), you can use the appropriate UTM zone, which has acceptable distortion in terms of distance, angles and areas\n",
    "    * For larger areas, probably want to define a custom projection or use common regional projection designed for your intended purpose\n",
    "    * Be careful with the common Web Mercator projection - in the coming weeks we'll be using public tile datasets prepared with this projection, so try to remember some of the issues highlighted here"
   ]
  },
  {
   "cell_type": "markdown",
   "id": "unique-judgment",
   "metadata": {},
   "source": [
    "## Summary\n",
    "\n",
    "OK, we covered a lot of ground with this one. These concepts are fundemental to all aspects of geospatial data analysis, and you will see them again. So if some aspects are still a bit fuzzy, know that there will be more opportunities to revisit and discuss.\n",
    "\n",
    "* We covered basic operations, plotting, Geopandas GeoDataFrames and associated methods/attributes - these are great for most geospatial vector data and analysis. \n",
    "    * Note that standard GeoPandas operations may not be well-suited for workflows involving billions of points - these cases will require optimization (e.g., https://github.com/geopandas/dask-geopandas) and/or databases.\n",
    "* Hopefully you got a sense of the most common approaches to define projections (EPSG codes, proj strings), and now understand some of the tradeoffs between different projections for different objectives involving visualization or quantitative analysis."
   ]
  },
  {
   "cell_type": "markdown",
   "id": "interracial-rubber",
   "metadata": {},
   "source": [
    "### Geometry objects\n",
    "* POINT, LINE, POLYGON\n",
    "* Polygon vs. MultiPolygon\n",
    "* https://automating-gis-processes.github.io/site/notebooks/L1/geometric-objects.html"
   ]
  },
  {
   "cell_type": "markdown",
   "id": "psychological-three",
   "metadata": {},
   "source": [
    "![Geometry types](https://datacarpentry.org/organization-geospatial/fig/dc-spatial-vector/pnt_line_poly.png)"
   ]
  },
  {
   "cell_type": "markdown",
   "id": "studied-spider",
   "metadata": {},
   "source": [
    "### Geometry operations\n",
    "* GEOS https://trac.osgeo.org/geos/, exposed by Shapely\n",
    "    * 2D cartesian geometry operations - no knowledge of CRS\n",
    "* https://geopandas.org/geometric_manipulations.html\n",
    "    * Intersection\n",
    "    * Union\n",
    "    * Buffer"
   ]
  },
  {
   "cell_type": "markdown",
   "id": "stable-price",
   "metadata": {},
   "source": [
    "### Visualization: Chloropleth and Heatmap\n",
    "* https://geopandas.org/docs/user_guide/mapping.html"
   ]
  },
  {
   "cell_type": "markdown",
   "id": "sorted-subsection",
   "metadata": {},
   "source": [
    "### Plotting\n",
    "* matplotlib\n",
    "* holoviews/geoviews\n",
    "* ipyleaflet, folium\n",
    "* Basemap tiles with contextily"
   ]
  },
  {
   "cell_type": "markdown",
   "id": "boring-workstation",
   "metadata": {},
   "source": [
    "# Pandas\n",
    "\n",
    "Trust me, you should learn how to use `Pandas`, regardless of your application.  \n",
    "\n",
    "A significant portion of the Python data science ecosystem is based on Pandas and/or Pandas data models.\n",
    "\n",
    ">pandas is a Python package providing fast, flexible, and expressive data structures designed to make working with \"relational\" or \"labeled\" data both easy and intuitive. It aims to be the fundamental high-level building block for doing practical, real world data analysis in Python. Additionally, it has the broader goal of becoming the most powerful and flexible open source data analysis / manipulation tool available in any language. It is already well on its way towards this goal.\n",
    "\n",
    "https://github.com/pandas-dev/pandas#main-features\n",
    "\n",
    "If you are working with tabular data (rows and columns, like a csv or spreadsheet), especially time series data, please use pandas.\n",
    "* A better way to deal with tabular data, built on top of NumPy arrays\n",
    "* With NumPy, we had to remember which column number (e.g., 3, 4) represented each variable in an array\n",
    "* Pandas allows you to store data with different types, and then reference using more meaningful labels\n",
    "    * NumPy: `glas_np[:,4]`\n",
    "    * Pandas: `glas_df['glas_z']`\n",
    "* A good \"10-minute\" reference with examples: https://pandas.pydata.org/pandas-docs/stable/getting_started/10min.html\n",
    "\n",
    "If you are working with more complex data, like collections of tabular time series data from 100s of met stations or netCDF model output, you can use [`xarray` package](http://xarray.pydata.org/en/stable/), which extends the `pandas` data model to n-dimensions."
   ]
  },
  {
   "cell_type": "markdown",
   "id": "adapted-stroke",
   "metadata": {},
   "source": [
    "# GeoPandas\n",
    "\n",
    "pandas is great, but what if we want to do some geospatial operations - like reproject our vector data or compute the intersection between Point and Polygon features?\n",
    "\n",
    "Enter Geopandas - all the great things about pandas, plus geo! (http://geopandas.org/).\n",
    "\n",
    ">\"GeoPandas is an open source project to make working with geospatial data in python easier. GeoPandas extends the datatypes used by pandas to allow spatial operations on geometric types. Geometric operations are performed by shapely. Geopandas further depends on fiona for file access and descartes and matplotlib for plotting.\"\n",
    "\n",
    ">\"GeoPandas enables you to easily do operations in python that would otherwise require a spatial database such as PostGIS.\"\n",
    "\n",
    "Under the hood, GeoPandas is `pandas` plus some other core geospatial packages:\n",
    "* `shapely` for geometry operations (https://shapely.readthedocs.io/en/stable/manual.html)\n",
    "* `fiona` for reading/writing GIS file formats (https://fiona.readthedocs.io/en/latest/manual.html)\n",
    "* `pyproj` for projections and coordinate system transformations (http://pyproj4.github.io/pyproj/stable/)\n",
    "\n",
    "Under those hoods are lower-level geospatial libraries (GEOS, GDAL/OGR, PROJ4) that provide a foundation for most GIS software (open-source and commercial).  I encourage you to explore these - I guarantee you will learn something valuable.\n",
    "\n",
    "* `GEOS` https://trac.osgeo.org/geos/\n",
    "* `GDAL/OGR` https://gdal.org/\n",
    "* `PROJ` https://proj.org/\n",
    "\n",
    "For now, let's explore some basic geopandas functionality."
   ]
  },
  {
   "cell_type": "code",
   "execution_count": null,
   "id": "functional-disney",
   "metadata": {},
   "outputs": [],
   "source": [
    "import geopandas as gpd"
   ]
  },
  {
   "cell_type": "code",
   "execution_count": null,
   "id": "separated-active",
   "metadata": {},
   "outputs": [],
   "source": [
    "import hvplot.pandas\n",
    "import holoviews as hv"
   ]
  },
  {
   "cell_type": "markdown",
   "id": "athletic-mozambique",
   "metadata": {},
   "source": [
    "### GeoDataFrame vs. GeoSeries\n",
    "* https://geopandas.org/data_structures.html\n",
    "* Indexing and selection - `iloc`, `loc`\n",
    "* Pandas `squeeze`: https://pandas.pydata.org/pandas-docs/stable/reference/api/pandas.DataFrame.squeeze.html"
   ]
  },
  {
   "cell_type": "code",
   "execution_count": null,
   "id": "desirable-sarah",
   "metadata": {},
   "outputs": [],
   "source": [
    "gpd.GeoDataFrame?"
   ]
  },
  {
   "cell_type": "markdown",
   "id": "satisfactory-journal",
   "metadata": {},
   "source": [
    "## Let's use some Polygons for US States\n",
    "\n",
    "Hmmm, let's see.  Two choices:\n",
    "1. We could go to ESRI or the U.S. Census website, identify and download a shapefile, unzip 4+ files, copy/paste the appropriate \\*.shp filename into the notebook.  Wait, how can I download on a remote server?  OK, maybe run something like `wget http://...`, unzip, provide absolute path  \n",
    "*- OR -*\n",
    "2. Give geopandas a url string that points to a GeoJSON file somewhere on the web, and read dynamically\n",
    "\n",
    "Yeah, let's go with #2"
   ]
  },
  {
   "cell_type": "markdown",
   "id": "skilled-turkish",
   "metadata": {},
   "source": [
    "Let's use the US States 5M GeoJSON here: http://eric.clst.org/tech/usgeojson/\n",
    "\n",
    "* JSON (JavaScript Object Notation) is a structured text-based data format. A Jupyter notebook is a json text file. \n",
    "* GeoJSON extends this format to include geospatial information. It's pretty great. If you are unfamiliar, take a moment to read about GeoJSON: https://en.wikipedia.org/wiki/GeoJSON\n",
    "\n",
    "Take a look at the 5M file contents in your browser or download and open with a text editor.  Note organization structure.  How does this compare to, say, a Python dictionary object? \n",
    "\n",
    "This is a GeoJSON file!\n",
    "\n",
    "Read the file using GeoPandas by passing the url to `gpd.read_file()`."
   ]
  },
  {
   "cell_type": "code",
   "execution_count": null,
   "id": "quiet-ensemble",
   "metadata": {},
   "outputs": [],
   "source": [
    "states_url = 'http://eric.clst.org/assets/wiki/uploads/Stuff/gz_2010_us_040_00_5m.json'\n",
    "#states_url = 'http://eric.clst.org/assets/wiki/uploads/Stuff/gz_2010_us_040_00_500k.json'\n",
    "states_gdf = gpd.read_file(states_url)"
   ]
  },
  {
   "cell_type": "code",
   "execution_count": null,
   "id": "industrial-wrapping",
   "metadata": {},
   "outputs": [],
   "source": [
    "states_gdf.head()"
   ]
  },
  {
   "cell_type": "code",
   "execution_count": null,
   "id": "elementary-syndrome",
   "metadata": {},
   "outputs": [],
   "source": [
    "states_gdf.plot()"
   ]
  },
  {
   "cell_type": "markdown",
   "id": "conceptual-matthew",
   "metadata": {},
   "source": [
    "### Check the CRS\n",
    "* Note that this was defined when we opened the file with GeoPandas - by default, a GeoJSON is assumed to use EPSG:4326 coordinate system for geodetic latitude and longitude"
   ]
  },
  {
   "cell_type": "code",
   "execution_count": null,
   "id": "unlike-constitutional",
   "metadata": {},
   "outputs": [],
   "source": [
    "states_gdf.crs"
   ]
  },
  {
   "cell_type": "code",
   "execution_count": null,
   "id": "recognized-development",
   "metadata": {},
   "outputs": [],
   "source": [
    "states_gdf.hvplot()"
   ]
  },
  {
   "cell_type": "code",
   "execution_count": null,
   "id": "casual-announcement",
   "metadata": {},
   "outputs": [],
   "source": [
    "states_gdf.hvplot(geo=True)"
   ]
  },
  {
   "cell_type": "markdown",
   "id": "seeing-identifier",
   "metadata": {},
   "source": [
    "# Part 4: Reprojection and Coordinate Systems"
   ]
  },
  {
   "cell_type": "markdown",
   "id": "alleged-cutting",
   "metadata": {},
   "source": [
    "All of the above examples used standard geodetic lat/lon coordinate system (EPSG:4326).  This is fine for global analyses and basic visualization.  But remember that the width of a degree of longitude varies with latitude (~111 km near equator, ~0 m near pole), so our plots have scaling and aspect ratio issues.\n",
    "\n",
    "We need to choose a map projection that is appropriate for our data. This decision is important for visualization, but is also critical for precise quantitative analysis. For example, if you want to compute area or volume change, you should use an equal-area projection. If you want to calculate distances between two points, you should use an equidistant projection.\n",
    "\n",
    "https://www.axismaps.com/guide/general/map-projections/\n",
    "\n",
    "Sadly, there is no \"perfect\" projection. You, as the mapmaker or data analyst, are responsible for choosing a projection with the right characteristics for your purposes. Let's explore a bit further, and we'll revisit some general guidelines later."
   ]
  },
  {
   "cell_type": "markdown",
   "id": "affiliated-knowing",
   "metadata": {},
   "source": [
    "## Use GeoPandas to reproject your GeoDataFrame\n",
    "* Use the very convenient `to_crs()` method to reproject: https://geopandas.org/projections.html\n",
    "* Start by reprojecting the points to a Universal Transverse Mercator (UTM), Zone 11N (EPSG:32611)\n",
    "* Store the output as a new GeoDataFrame\n",
    "* Do a quick `head()` and note the new values in the `geometry` column"
   ]
  },
  {
   "cell_type": "code",
   "execution_count": null,
   "id": "prime-halifax",
   "metadata": {},
   "outputs": [],
   "source": [
    "states_gdf_utm = states_gdf.to_crs('EPSG:26912')"
   ]
  },
  {
   "cell_type": "markdown",
   "id": "strategic-iceland",
   "metadata": {},
   "source": [
    "#### Note geometry difference"
   ]
  },
  {
   "cell_type": "code",
   "execution_count": null,
   "id": "otherwise-writing",
   "metadata": {},
   "outputs": [],
   "source": [
    "states_gdf.head()"
   ]
  },
  {
   "cell_type": "code",
   "execution_count": null,
   "id": "mineral-hamilton",
   "metadata": {},
   "outputs": [],
   "source": [
    "states_gdf_utm.head()"
   ]
  },
  {
   "cell_type": "code",
   "execution_count": null,
   "id": "funny-quantum",
   "metadata": {},
   "outputs": [],
   "source": [
    "states_gdf.crs"
   ]
  },
  {
   "cell_type": "code",
   "execution_count": null,
   "id": "devoted-courage",
   "metadata": {},
   "outputs": [],
   "source": [
    "states_gdf_utm.crs"
   ]
  },
  {
   "cell_type": "code",
   "execution_count": null,
   "id": "declared-holder",
   "metadata": {},
   "outputs": [],
   "source": [
    "states_gdf_utm.hvplot(aspect='equal') * hv.VLine(0).opts(color='k', line_width=0.5)"
   ]
  },
  {
   "cell_type": "code",
   "execution_count": null,
   "id": "continuing-portable",
   "metadata": {},
   "outputs": [],
   "source": [
    "states_gdf.to_crs('EPSG:26913').hvplot(aspect='equal') * hv.VLine(0).opts(color='k', line_width=0.5)"
   ]
  },
  {
   "cell_type": "markdown",
   "id": "difficult-swedish",
   "metadata": {},
   "source": [
    "## Excellent, but what did we just do?\n",
    "\n",
    "Under the hood, GeoPandas used the `pyproj` library (a Python API for PROJ) to transform each point from one coordinate system to another coordinate system.  \n",
    "\n",
    "I guarantee that you've all done this kind of thing before, you may just not remember it or recognize it in this context. See: https://en.wikipedia.org/wiki/List_of_common_coordinate_transformations\n",
    "\n",
    "In 2D, transforming (x,y) coordinates between different projections (e.g., WGS84 vs. UTM) on the same reference ellipsoid is pretty straightforward.  Things start to get more complicated when you include different ellipsoid models, horizontal/vertical datums, etc.  Oh, also the Earth's surface is not static - plate tectonics make everything more complicated, as time becomes important, and transformations must include a \"kinematic\" component.  \n",
    "\n",
    "Fortunately, the `PROJ` library (https://proj.org/about.html) has generalized much of the complicated math for geodetic coordinate transformations.  It's been under development since the 1980s, and our understanding of the Earth's shape and plate motions has changed dramatically in that time period.  So, still pretty complicated, and there are different levels of support/sophistication in the tools/libraries that use `PROJ`.\n",
    "\n",
    "We aren't going to get into the details here, but feel free to take a look at the Transformations section here to get a sense of how this is actually accomplished: https://proj.org/operations/index.html"
   ]
  },
  {
   "cell_type": "markdown",
   "id": "atlantic-medicare",
   "metadata": {},
   "source": [
    "The UTM projection we used above is not the best choice for our data extent, which span several UTM zones:\n",
    "https://en.wikipedia.org/wiki/Universal_Transverse_Mercator_coordinate_system#/media/File:Utm-zones-USA.svg. \n",
    "\n",
    "We used Zone 12N, which means that our map will have limited distortion within that zone centered on -111°W.  But distortion will increase beyond the width of the -114° to -108°W zone definition."
   ]
  }
 ],
 "metadata": {
  "kernelspec": {
   "display_name": "Python 3",
   "language": "python",
   "name": "python3"
  },
  "language_info": {
   "codemirror_mode": {
    "name": "ipython",
    "version": 3
   },
   "file_extension": ".py",
   "mimetype": "text/x-python",
   "name": "python",
   "nbconvert_exporter": "python",
   "pygments_lexer": "ipython3",
   "version": "3.8.8"
  }
 },
 "nbformat": 4,
 "nbformat_minor": 5
}

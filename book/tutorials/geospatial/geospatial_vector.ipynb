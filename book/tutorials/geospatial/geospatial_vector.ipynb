{
 "cells": [
  {
   "cell_type": "markdown",
   "id": "regular-ordinance",
   "metadata": {},
   "source": [
    "# Geospatial Data Analysis: Vector data\n",
    "SnowEx Hackweek  \n",
    "July 14, 2021"
   ]
  },
  {
   "cell_type": "markdown",
   "id": "loaded-teens",
   "metadata": {},
   "source": [
    "## Introduction\n",
    "This tutorial will attempt to cover key fundamentals of geospatial data analysis with Python, with emphasis on vector datasets"
   ]
  },
  {
   "cell_type": "markdown",
   "id": "challenging-immunology",
   "metadata": {},
   "source": [
    "## Objectives\n",
    "By the end of this tutorial, the participant should be able to:\n",
    "* ..."
   ]
  },
  {
   "cell_type": "markdown",
   "id": "ceramic-newton",
   "metadata": {},
   "source": [
    "## Potential Topics\n",
    "* Vector data types: points, lines, polygons\n",
    "* Vector data formats: shapefiles, geojson, geopackage, csv\n",
    "* Geometry\n",
    "* Coordinate systems\n",
    "* Projections\n",
    "* GeoPandas\n",
    "* DataFrame analysis\n",
    "    * Filtering\n",
    "    * Calculating new fields\n",
    "    * Spatial analysis\n",
    "        * Buffer, intersect?\n",
    "* SNOTEL data\n",
    "    * 3D spatial coordinates and time\n",
    "* Combining vector and raster data\n",
    "    * Sampling raster or ndarray at points\n",
    "    * Zonal statistics for polygons\n",
    "    * Clipping a raster by a polygon"
   ]
  },
  {
   "cell_type": "markdown",
   "id": "improving-worship",
   "metadata": {},
   "source": [
    "## Vector cookbook\n",
    "These are some common operations that you may need for your projects. We hope that you can review this code, and copy/paste to use in a modular fashion for your projects, so you don't have to reinvent the wheel when time is limited"
   ]
  },
  {
   "cell_type": "code",
   "execution_count": null,
   "id": "accessible-seminar",
   "metadata": {},
   "outputs": [],
   "source": []
  }
 ],
 "metadata": {
  "kernelspec": {
   "display_name": "Python 3",
   "language": "python",
   "name": "python3"
  },
  "language_info": {
   "codemirror_mode": {
    "name": "ipython",
    "version": 3
   },
   "file_extension": ".py",
   "mimetype": "text/x-python",
   "name": "python",
   "nbconvert_exporter": "python",
   "pygments_lexer": "ipython3",
   "version": "3.8.8"
  }
 },
 "nbformat": 4,
 "nbformat_minor": 5
}

{
 "cells": [
  {
   "cell_type": "markdown",
   "id": "designed-beatles",
   "metadata": {},
   "source": [
    "# Vector data\n",
    "\n",
    "```{admonition} Learning Objectives\n",
    "*A 30 minute guide to vector data for SnowEX Hackweek*\n",
    "- find, visualize, interpret vector data formats\n",
    "- use Python raster libraries [geopandas](https://geopandas.readthedocs.io/en/stable/)\n",
    "```"
   ]
  },
  {
   "cell_type": "code",
   "execution_count": null,
   "id": "abroad-audio",
   "metadata": {},
   "outputs": [],
   "source": []
  }
 ],
 "metadata": {
  "kernelspec": {
   "display_name": "Python 3",
   "language": "python",
   "name": "python3"
  },
  "language_info": {
   "codemirror_mode": {
    "name": "ipython",
    "version": 3
   },
   "file_extension": ".py",
   "mimetype": "text/x-python",
   "name": "python",
   "nbconvert_exporter": "python",
   "pygments_lexer": "ipython3",
   "version": "3.8.8"
  }
 },
 "nbformat": 4,
 "nbformat_minor": 5
}

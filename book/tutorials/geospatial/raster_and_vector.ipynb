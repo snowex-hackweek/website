{
 "cells": [
  {
   "cell_type": "markdown",
   "id": "warming-tradition",
   "metadata": {},
   "source": [
    "# Combined raster + vector workflows\n",
    "\n",
    "```{admonition} Learning Objectives\n",
    "*A 30 minute guide to combining raster and vector data for SnowEX*\n",
    "- perform commmon workflows that combine raster and vector data\n",
    "    - Clip a raster by a polygon\n",
    "    - Sampling raster or ndarray at points\n",
    "    - Zonal statistics\n",
    "```"
   ]
  },
  {
   "cell_type": "code",
   "execution_count": null,
   "id": "pharmaceutical-memorabilia",
   "metadata": {},
   "outputs": [],
   "source": []
  }
 ],
 "metadata": {
  "kernelspec": {
   "display_name": "Python 3",
   "language": "python",
   "name": "python3"
  },
  "language_info": {
   "codemirror_mode": {
    "name": "ipython",
    "version": 3
   },
   "file_extension": ".py",
   "mimetype": "text/x-python",
   "name": "python",
   "nbconvert_exporter": "python",
   "pygments_lexer": "ipython3",
   "version": "3.8.8"
  }
 },
 "nbformat": 4,
 "nbformat_minor": 5
}

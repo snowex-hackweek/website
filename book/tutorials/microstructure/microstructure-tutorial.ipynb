{
 "cells": [
  {
   "cell_type": "markdown",
   "metadata": {},
   "source": [
    "# Microstructure Tutorial\n",
    "\n",
    "Contributors: Mike Durand, HP Marshall, Micah Johnson, Tate Meehan... (not sure this should be there? I feel weird stealing other folks' code otherwise!)\n",
    "\n",
    "Snow microstructure is important - it governs both visible and radar remote sensing to snow cover. \n",
    "\n",
    "(Show a graphic of sigma0 vs SWE as a function of grain size)\n",
    "\n",
    "(talk about need for priors for inversino)\n",
    "\n",
    "Snow microstructure is controlled by other snow properties, such as snow temperature, snow height and snow liquid water content. \n",
    "\n",
    "## SnowEx Microstructure Measurement Background\n",
    "\n",
    "### Basic Microstructure Definitions\n",
    "\n",
    "(graphic of CT image)\n",
    "\n",
    "Specific surface area (SSA)...\n",
    "\n",
    "Autocorrelation length (L)...\n",
    "\n",
    "Geometric grain size measurements (D)\n",
    "\n",
    "### Microstructure Instruments\n",
    "\n",
    "Micro-computed tomography (microCT)...\n",
    "\n",
    "Integrating Spheres...\n",
    "\n",
    "Snow micropenetrometers... Note micropine module used to estimate SSA ... note that SMP includes the raw data... so need to add micropine library... Mike will ask Tate to send a comparison between SMP and SSA.\n",
    "\n",
    "## SnowEx Microstructure Measurement Data Overview\n",
    "\n",
    "Number of measurements made by various instruments. Sampling strategy. King's Cross.\n"
   ]
  },
  {
   "cell_type": "markdown",
   "metadata": {},
   "source": [
    "## Working with the data"
   ]
  },
  {
   "cell_type": "markdown",
   "metadata": {},
   "source": [
    "### 1. Load needed modules"
   ]
  },
  {
   "cell_type": "code",
   "execution_count": null,
   "metadata": {},
   "outputs": [],
   "source": [
    "# Modules needed to access snowexsql: SnowEx field data database\n",
    "from snowexsql.db import get_db\n",
    "from snowexsql.data import LayerData, PointData\n",
    "from snowexsql.conversions import points_to_geopandas, query_to_geopandas\n",
    "\n",
    "# Modules needed to work with data\n",
    "import geoalchemy2.functions as gfunc\n",
    "import geopandas as gpd\n",
    "import matplotlib.pyplot as plt\n",
    "import pandas as pd"
   ]
  },
  {
   "cell_type": "markdown",
   "metadata": {},
   "source": [
    "### 2. Import Database"
   ]
  },
  {
   "cell_type": "code",
   "execution_count": null,
   "metadata": {},
   "outputs": [],
   "source": [
    "db_name = 'snow:hackweek@52.32.183.144/snowex'\n",
    "engine, session = get_db(db_name)\n",
    "\n",
    "# Grab all the equivalent diameter profiles\n",
    "q = session.query(LayerData).filter(LayerData.type == 'specific_surface_area')\n",
    "\n",
    "df = query_to_geopandas(q, engine)\n",
    "\n",
    "# End our database session to avoid hanging transactions\n",
    "session.close()\n",
    "\n",
    "# Grab all the sites with equivalent diameter data (set reduces a list to only its unique entries)\n",
    "sites = df['site_id'].unique()"
   ]
  },
  {
   "cell_type": "markdown",
   "metadata": {},
   "source": [
    "### 3. Isolate all the Sites with Multiple SSA Instruments"
   ]
  },
  {
   "cell_type": "code",
   "execution_count": null,
   "metadata": {},
   "outputs": [],
   "source": [
    "# Store all site names that have mulitple SSA instruments\n",
    "multi_instr_sites = []\n",
    "instruments = []\n",
    "\n",
    "for site in sites:\n",
    "\n",
    "    # Grab all the layers associated to this site\n",
    "    site_data = df.loc[df['site_id'] == site]\n",
    "\n",
    "    # Do a set on all the instruments used here\n",
    "    instruments_used = site_data['instrument'].unique()\n",
    "\n",
    "    if len(instruments_used) > 1:\n",
    "        multi_instr_sites.append(site)\n",
    "\n",
    "# Get a unqique list of SSA instruments that were colocated\n",
    "instruments = df['instrument'].unique()"
   ]
  },
  {
   "cell_type": "markdown",
   "metadata": {},
   "source": [
    "### 4. Plot all Integrating Sphere SSA profiles at all Multi-Instrumented Sites"
   ]
  },
  {
   "cell_type": "code",
   "execution_count": null,
   "metadata": {},
   "outputs": [],
   "source": [
    "# Setup the subplot for each site for each instrument\n",
    "fig, axes = plt.subplots(1, len(multi_instr_sites), figsize=(4*len(multi_instr_sites), 8))\n",
    "\n",
    "# Establish plot colors unique to the instrument\n",
    "c = ['k', 'm', 'c']\n",
    "colors = {inst:c[i] for i,inst in enumerate(instruments)}\n",
    "\n",
    "# Loop over all the multi-instrument sites \n",
    "for i, site in enumerate(multi_instr_sites):\n",
    "    \n",
    "    # Grab the plot for this site\n",
    "    ax = axes[i]\n",
    "    \n",
    "    # Loop over all the instruments at this site\n",
    "    for instr in instruments:\n",
    "\n",
    "        # Grab our profile by site and instrument\n",
    "        ind = df['site_id'] == site \n",
    "        ind2 = df['instrument'] == instr\n",
    "        profile = df.loc[ind & ind2].copy()\n",
    "\n",
    "        # Don't plot it unless there is data\n",
    "        if len(profile.index) > 0:\n",
    "            \n",
    "            # Sort by depth so samples that are take out of order won't mess up the plot\n",
    "            profile = profile.sort_values(by='depth')\n",
    "            \n",
    "            # Layer profiles are always stored as strings. \n",
    "            profile['value'] = profile['value'].astype(float)\n",
    "            \n",
    "            # Plot our profile\n",
    "            ax.plot(profile['value'], profile['depth'], colors[instr], label=instr)\n",
    "   \n",
    "    # Labeling and plot style choices\n",
    "    ax.legend()\n",
    "    ax.set_xlabel('SSA [kg/m^2]')\n",
    "    ax.set_ylabel('Height above snow-soil interface [cm]')\n",
    "    ax.set_title('Site {}'.format(site.upper()))\n",
    "    \n",
    "    # Set the x limits to show more detail\n",
    "    ax.set_xlim((8, 75))\n",
    "    \n",
    "plt.tight_layout()\n",
    "plt.show()\n"
   ]
  },
  {
   "cell_type": "markdown",
   "metadata": {},
   "source": [
    "### 5. Compare integrating sphere with SMP"
   ]
  },
  {
   "cell_type": "markdown",
   "metadata": {},
   "source": [
    "### 6. Compare intergrating sphere, SMP and microCT"
   ]
  }
 ],
 "metadata": {
  "kernelspec": {
   "display_name": "Python 3",
   "language": "python",
   "name": "python3"
  },
  "language_info": {
   "codemirror_mode": {
    "name": "ipython",
    "version": 3
   },
   "file_extension": ".py",
   "mimetype": "text/x-python",
   "name": "python",
   "nbconvert_exporter": "python",
   "pygments_lexer": "ipython3",
   "version": "3.8.8"
  },
  "toc": {
   "base_numbering": 1,
   "nav_menu": {},
   "number_sections": false,
   "sideBar": true,
   "skip_h1_title": false,
   "title_cell": "Table of Contents",
   "title_sidebar": "Contents",
   "toc_cell": false,
   "toc_position": {},
   "toc_section_display": true,
   "toc_window_display": false
  }
 },
 "nbformat": 4,
 "nbformat_minor": 4
}

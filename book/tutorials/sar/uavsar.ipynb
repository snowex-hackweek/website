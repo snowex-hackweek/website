{
 "cells": [
  {
   "cell_type": "markdown",
   "id": "quality-anatomy",
   "metadata": {},
   "source": [
    "# Intro to UAVSAR\n",
    "\n",
    "```{admonition} Learning Objectives\n",
    "- find, visualize, analyze UAVSAR data\n",
    "```\n",
    "\n",
    "Intro slide deck: https://uavsar.jpl.nasa.gov/education/what-is-uavsar.html "
   ]
  },
  {
   "cell_type": "markdown",
   "id": "secret-guitar",
   "metadata": {},
   "source": [
    "## Quick facts\n",
    "\n",
    "| frequency | resolution (rng x azi m) | swath width (km) |\n",
    "| - | - | - | \n",
    "| L-band | 1.8 | 16 | \n",
    "\n",
    "Documentation:\n",
    "* https://uavsar.jpl.nasa.gov/science/documents.html\n",
    "* https://asf.alaska.edu/data-sets/sar-data-sets/uavsar/\n",
    "\n",
    "Data Access:\n",
    "\n",
    "* [NASA Earthdata Suborbital Search](https://search.earthdata.nasa.gov/portal/suborbital/search?fi=UAVSAR&as[instrument][0]=UAVSAR)\n",
    "* [ASF Vertex SnowEx Grand Mesa Campaign](https://search.asf.alaska.edu/#/?dataset=UAVSAR&mission=Grand%20Mesa,%20CO&resultsLoaded=true&granule=UA_grmesa_27416_21019-017_21021-005_0006d_s01_L090_01-AMPLITUDE_GRD&zoom=3&center=-92.747866,10.530273&productTypes=AMPLITUDE_GRD)"
   ]
  },
  {
   "cell_type": "markdown",
   "id": "beneficial-recommendation",
   "metadata": {},
   "source": [
    "## API data access"
   ]
  },
  {
   "cell_type": "code",
   "execution_count": null,
   "id": "functional-mistress",
   "metadata": {},
   "outputs": [],
   "source": [
    "## Glossary"
   ]
  }
 ],
 "metadata": {
  "kernelspec": {
   "display_name": "Python 3",
   "language": "python",
   "name": "python3"
  },
  "language_info": {
   "codemirror_mode": {
    "name": "ipython",
    "version": 3
   },
   "file_extension": ".py",
   "mimetype": "text/x-python",
   "name": "python",
   "nbconvert_exporter": "python",
   "pygments_lexer": "ipython3",
   "version": "3.8.8"
  }
 },
 "nbformat": 4,
 "nbformat_minor": 5
}

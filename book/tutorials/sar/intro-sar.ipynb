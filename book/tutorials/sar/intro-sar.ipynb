{
 "cells": [
  {
   "cell_type": "markdown",
   "id": "pending-consultancy",
   "metadata": {},
   "source": [
    "# Intro to SAR for SnowEX\n",
    "\n",
    "this tutorial has the following learning objects\n",
    "- find, open, visualize UAVSAR data"
   ]
  },
  {
   "cell_type": "code",
   "execution_count": 1,
   "id": "tired-brick",
   "metadata": {},
   "outputs": [
    {
     "data": {
      "text/plain": [
       "686"
      ]
     },
     "execution_count": 1,
     "metadata": {},
     "output_type": "execute_result"
    }
   ],
   "source": [
    "# test computation\n",
    "98 * 7 "
   ]
  },
  {
   "cell_type": "code",
   "execution_count": null,
   "id": "stock-bleeding",
   "metadata": {},
   "outputs": [],
   "source": []
  }
 ],
 "metadata": {
  "kernelspec": {
   "display_name": "Python 3",
   "language": "python",
   "name": "python3"
  },
  "language_info": {
   "codemirror_mode": {
    "name": "ipython",
    "version": 3
   },
   "file_extension": ".py",
   "mimetype": "text/x-python",
   "name": "python",
   "nbconvert_exporter": "python",
   "pygments_lexer": "ipython3",
   "version": "3.8.8"
  }
 },
 "nbformat": 4,
 "nbformat_minor": 5
}

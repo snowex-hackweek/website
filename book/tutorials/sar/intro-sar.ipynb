{
 "cells": [
  {
   "cell_type": "markdown",
   "id": "needed-deposit",
   "metadata": {},
   "source": [
    "# Intro to SAR Tutorial for SnowEX\n",
    "\n",
    "```{admonition} Learning Objectives\n",
    "- airborn versus satellite syntetic aperture radar\n",
    "- common data types and formats\n",
    "```"
   ]
  },
  {
   "cell_type": "code",
   "execution_count": null,
   "id": "controlled-error",
   "metadata": {},
   "outputs": [],
   "source": [
    "import rasterio"
   ]
  },
  {
   "cell_type": "markdown",
   "id": "dramatic-speed",
   "metadata": {},
   "source": []
  },
  {
   "cell_type": "markdown",
   "id": "underlying-ceramic",
   "metadata": {},
   "source": [
    "```{seealso}\n",
    "* https://github.com/isce-framework/isce2-docs\n",
    "```"
   ]
  }
 ],
 "metadata": {
  "kernelspec": {
   "display_name": "Python 3",
   "language": "python",
   "name": "python3"
  },
  "language_info": {
   "codemirror_mode": {
    "name": "ipython",
    "version": 3
   },
   "file_extension": ".py",
   "mimetype": "text/x-python",
   "name": "python",
   "nbconvert_exporter": "python",
   "pygments_lexer": "ipython3",
   "version": "3.8.8"
  }
 },
 "nbformat": 4,
 "nbformat_minor": 5
}

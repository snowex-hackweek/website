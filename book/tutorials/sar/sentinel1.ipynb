{
 "cells": [
  {
   "cell_type": "markdown",
   "id": "metallic-executive",
   "metadata": {},
   "source": [
    "# Intro to Sentinel-1\n",
    "\n",
    "```{admonition} Learning Objectives\n",
    "- find, visualize, analyze Sentinel-1 data\n",
    "```"
   ]
  },
  {
   "cell_type": "markdown",
   "id": "visible-greeting",
   "metadata": {},
   "source": [
    "## Quick facts\n",
    "\n",
    "| frequency | resolution (rng x azi m) | swath width (km) |\n",
    "| - | - | - | \n",
    "| C-band | 3x22 | 250 | \n",
    "\n",
    "Documentation:\n",
    "https://sentinel.esa.int/web/sentinel/missions/sentinel-1\n",
    "\n",
    "Data access:\n",
    "https://asf.alaska.edu/data-sets/sar-data-sets/uavsar/\n",
    "\n",
    "[NASA Earthdata Search](https://search.earthdata.nasa.gov/search?fi=SENTINEL-1A%20C-Band%20SAR!SENTINEL-1B%20C-Band%20SAR&as[instrument][0]=SENTINEL-1A%20C-Band%20SAR&as[instrument][1]=SENTINEL-1B%20C-Band%20SAR)"
   ]
  },
  {
   "cell_type": "code",
   "execution_count": null,
   "id": "instructional-afternoon",
   "metadata": {},
   "outputs": [],
   "source": []
  }
 ],
 "metadata": {
  "kernelspec": {
   "display_name": "Python 3",
   "language": "python",
   "name": "python3"
  },
  "language_info": {
   "codemirror_mode": {
    "name": "ipython",
    "version": 3
   },
   "file_extension": ".py",
   "mimetype": "text/x-python",
   "name": "python",
   "nbconvert_exporter": "python",
   "pygments_lexer": "ipython3",
   "version": "3.8.8"
  }
 },
 "nbformat": 4,
 "nbformat_minor": 5
}

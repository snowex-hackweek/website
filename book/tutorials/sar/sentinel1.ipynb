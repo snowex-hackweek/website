{
 "cells": [
  {
   "cell_type": "markdown",
   "id": "sharp-watch",
   "metadata": {},
   "source": [
    "# Intro to Sentinel-1\n",
    "\n",
    "*A 30 minute guide to Sentinel-1 data for SnowEX*\n",
    "\n",
    "![s1-artist-view](https://asf.alaska.edu/wp-content/uploads/2019/02/sentinel-1-1990x1119.jpg)\n",
    "\n",
    "```{admonition} Learning Objectives\n",
    "- understand key characteristics of Sentinel-1 InSAR and data products\n",
    "- find, visualize, interpret Sentinel-1 data products\n",
    "```\n",
    "\n",
    "```{seealso}\n",
    "this tutorial is a quick practical guide and will not cover InSAR processing, check out [UNAVCO InSAR Short Courses](https://www.unavco.org/education/professional-development/short-courses/short-courses.html) if you're interested in learning custom processing of SAR data.\n",
    "```"
   ]
  },
  {
   "cell_type": "markdown",
   "id": "loaded-benefit",
   "metadata": {},
   "source": [
    "## Quick facts\n",
    "\n",
    "Sentinel-1 is a constellation of two synthetic aperture radar (SAR) satellites operated by the European Space Agency (ESA). Sentinel-1 is the first SAR system with a global monitoring strategy and fully open data policy! S1A launched 3 April 2014, and S1B launched 25 April 2016. There are many observation modes for SAR, over land the most common mode is 'Interferometric Wideswath' (IW), which has the following characteristics:\n",
    "\n",
    "| frequency | resolution (rng x azi m) | swath width (km) | incidence (deg) |\n",
    "| - | - | - |  - |\n",
    "| C-band | 3x22 | 250 | 33-43 |\n",
    "\n",
    "Unlike most optical satellite observations, SAR antennas are pointed to either the right or left, resulting in an off-nadir incidence angle. \n",
    "\n",
    "The [global observation plan](https://sentinels.copernicus.eu/web/sentinel/missions/sentinel-1/observation-scenario) for Sentinel-1 has changed over time, but generally over Europe, you have repeat acquisitions every 6 days, and elsewhere every 12 or 24 days.\n",
    "\n",
    "Satellite radar intruments record the *amplitude* and *phase* of microwaves that bounce off Earth's surface. These values can be stored as a single complex number, so you'll often encounter SAR images that store complex-valued arrays. {term}`InSAR`, or 'Interferometric Synthetic Aperture Radar', is a common processing pipline to generate phase-change maps or 'interferograms' (which can be related to tectonic surface displacements or snow properties) using two different SAR acquisitions.\n",
    "\n",
    "The most common data products you'll encounter for Sentinel-1 are {term}`GRD` (just amplitude) and {term}`SLC` (amplitude+phase). These are [level-1](https://earthdata.nasa.gov/collaborate/open-data-services-and-software/data-information-policy/data-levels) that most scientific products are derived from. Level-1 data is typically stored in *radar* coordinates. At best you'll have ground control points (GCPs) stored in file metadata for approximate geocoding, but you need to use advanced processing pipelines to accurately geocode and generate higher level products {cite:p}`YagueMartinez2016`.\n",
    "\n",
    "\n",
    "\n",
    "Documentation:\n",
    "https://sentinel.esa.int/web/sentinel/missions/sentinel-1\n",
    "\n",
    "Data access:\n",
    "https://asf.alaska.edu/data-sets/sar-data-sets/sentinel-1/\n",
    "\n",
    "[Example NASA Earthdata Search](https://search.earthdata.nasa.gov/search?fi=SENTINEL-1A%20C-Band%20SAR!SENTINEL-1B%20C-Band%20SAR&as[instrument][0]=SENTINEL-1A%20C-Band%20SAR&as[instrument][1]=SENTINEL-1B%20C-Band%20SAR)"
   ]
  },
  {
   "cell_type": "code",
   "execution_count": null,
   "id": "bronze-objective",
   "metadata": {},
   "outputs": [],
   "source": [
    "# Search ASF Archive for scenes covering grand mesa\n",
    "import pystac"
   ]
  },
  {
   "cell_type": "markdown",
   "id": "fourth-venice",
   "metadata": {},
   "source": [
    "```{seealso}\n",
    "\n",
    "This tutorial just scratched the surface of SAR! Here are some other resources to explore:\n",
    "    - documentation for open source [ISCE2](https://github.com/isce-framework/isce2-docs) SAR processing software\n",
    "    - using Sentinel-1 polarized backscatter to extract snow properties {cite:p}`Lievens2019`\n",
    "    \n",
    "```"
   ]
  }
 ],
 "metadata": {
  "kernelspec": {
   "display_name": "Python 3",
   "language": "python",
   "name": "python3"
  },
  "language_info": {
   "codemirror_mode": {
    "name": "ipython",
    "version": 3
   },
   "file_extension": ".py",
   "mimetype": "text/x-python",
   "name": "python",
   "nbconvert_exporter": "python",
   "pygments_lexer": "ipython3",
   "version": "3.8.8"
  }
 },
 "nbformat": 4,
 "nbformat_minor": 5
}

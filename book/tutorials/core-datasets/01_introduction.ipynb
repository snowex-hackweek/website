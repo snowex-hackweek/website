{
 "cells": [
  {
   "cell_type": "markdown",
   "id": "announced-wagner",
   "metadata": {},
   "source": [
    "# SnowEx Mission and Core Data Sets\n",
    "\n",
    "<img src=\"images/cover.png\">\n",
    "\n",
    "Tutorial objectives: \n",
    "- Provide contextual background for the NASA SnowEx Mission\n",
    "- Distinguish the different components of the core data\n",
    "- Describe the sampling design and naming convention\n",
    "- Extract data of interest using the Database\n",
    "- Manipulate and plot data for data analysis and calibration/validation purposes"
   ]
  },
  {
   "cell_type": "markdown",
   "id": "hollywood-lighter",
   "metadata": {},
   "source": [
    "## SnowEx Background\n",
    "### What is the Mission of SnowEx?\n",
    "\n",
    "SnowEx is a multi-year program initiated and funded by the NASA Terrestrial Hydrology Program to address the most important gaps in snow remote sensing knowledge. It focuses on airborne campaigns and field work, and on comparing the various sensing technologies, from the mature to the more experimental, in globally-representative types of snow. The goal is to address the most important gaps in our snow remote sensing knowledge, and thus lay the groundwork for a future snow satellite mission.\n",
    "\n",
    "<img src=\"images/THProadmap.jpg\" style=\"width: 800px;\"/>\n",
    "\n",
    "### Where has SnowEx been? \n",
    "Campaign efforts are focused on various snow climates in the Western United States. SnowEx partnerships and expertise are spread across the US and international. \n",
    "<img src=\"images/WhereHasSnowExBeen.png\" style=\"width: 1100px;\"/>\n",
    "\n",
    "### What are the core data sets and what makes them different from other data?\n",
    "\n",
    "The core data sets are standarized manual ground observations collected by SnowEx participants. These observations provide a legacy data set for the purposes of calibration and validation efforts for the remote sensing instruments. \n",
    "\n",
    "\n",
    "<img src=\"images/pits_and_depths.png\" style=\"width: 1100px;\"/>\n",
    "\n"
   ]
  },
  {
   "cell_type": "markdown",
   "id": "absolute-parcel",
   "metadata": {},
   "source": [
    "### What is a snow pit? = 'Layer' data in teh SnowEx database \n",
    "A snow pit is a vertical profile of snow from the surface to the ground. This is where we collect a suite of ground observations that aid instrument and model development.\n",
    "\n",
    "### What are depth transects? or simply depths = 'Point' data in the SnowEx database\n",
    "These are point meausurements that tell you how deep the snow is at georeferenced locations. There are several instruments available to capture snow depth, some of which are an avalanche probe, MagnaProbe, or Mesa2.   \n",
    "\n",
    "### What is an interval board? \n",
    "An interval board is a 2x2\" board with a vertical pole attached at the center. The board surface tracks the amount of new snow that falls between field visits. \n"
   ]
  },
  {
   "cell_type": "code",
   "execution_count": null,
   "id": "robust-samuel",
   "metadata": {},
   "outputs": [],
   "source": []
  },
  {
   "cell_type": "markdown",
   "id": "soviet-deputy",
   "metadata": {},
   "source": [
    "Table. List of Core Data Sets\n",
    "<table id=\"t01\">\n",
    "<tbody>\n",
    "<tr>\n",
    "<th>Core Data Sets</th>\n",
    "<th>Parameters Available</th>\n",
    "<th>Instruments</th>\n",
    "<th>NSIDC DOI</th>\n",
    "</tr>\n",
    "<tr>\n",
    "<td>Snow Pits</td>\n",
    "<td>Depth, Density, Temp., LWC, Stratigraphy,<br>Grain Size, Wetness, Hand Hardness,<br>Qualitative Environment, SWE</td>\n",
    "<td>Standard pit kit</td>\n",
    "<td><a href='https://nsidc.org/data/SNEX17_SnowPits/versions/1'>SNEX17_SnowPits_GMIOP</a> \n",
    "<br>\n",
    "<a href='https://nsidc.org/data/SNEX20_GM_SP/versions/1'>SNEX20_SnowPits_GMIOP</a>\n",
    "<br>\n",
    "SNEX20_TS_SP (in prep.)\n",
    "<br>\n",
    "SNEX21_TS_SP (future pub.)<td>\n",
    "</tr>\n",
    "<tr>\n",
    "<td>Depth Transects</td>\n",
    "<td>Snow Depth - various sampling designs</td>\n",
    "<td>Probe, MagnaProbe, Mesa2, Pit Ruler</td>\n",
    "<td><a href='https://nsidc.org/data/SNEX17_SD/versions/1'>SNEX17_SD</a> \n",
    "<br>\n",
    "<a href='https://nsidc.org/data/SNEX20_SD/versions/1'>SNEX20_SD</a>\n",
    "<br>\n",
    "SNEX20_TS_SD (future pub.)\n",
    "<br>\n",
    "SNEX21_TS_SD (future pub.)<td>\n",
    "</tr>\n",
    "<tr>\n",
    "<td>Interval Boards</td>\n",
    "<td>New snow, SWE, density</td>\n",
    "<td>Ruler and spring scale</td>\n",
    "<td>SNEX20_TS_IB (future pub.)\n",
    "<br>\n",
    "SNEX21_TS_IB (future pub.)<td></td>\n",
    "</tr>\n",
    "<tr>\n",
    "</tr>\n",
    "<tbody>\n",
    "<table> \n",
    "\n",
    "Visit [NSIDC's SnowEx Overview page](https://nsidc.org/data/snowex) to see a full table of all available [2017](https://nsidc.org/data/snowex/data_summaries) and [2020](https://nsidc.org/data/snowex/data_summaries) products."
   ]
  },
  {
   "cell_type": "markdown",
   "id": "demanding-snapshot",
   "metadata": {},
   "source": [
    "\n",
    "\n",
    "### What data are assoicated with a snow pit? \n",
    "*Photos of measurements taking place*\n",
    "- depth\n",
    "- density\n",
    "- etc...\n",
    "\n",
    "### How are data collected? \n",
    "*raw pit book image here*\n",
    "\n",
    "### What format are the data in?\n",
    "*slide of \"data package\" image here*\n"
   ]
  },
  {
   "cell_type": "markdown",
   "id": "suburban-rebound",
   "metadata": {},
   "source": [
    "### How do I go about accessing data??\n",
    "See tutorials: \n",
    "    SQL database, (Micah Johnson)\n",
    "    Earth Data, (Amy at NSIDC)"
   ]
  },
  {
   "cell_type": "code",
   "execution_count": 1,
   "id": "sweet-collaboration",
   "metadata": {},
   "outputs": [],
   "source": [
    "# show table of all 150+ snowpits --> pit-ID's, lat/lon, datetime, etc."
   ]
  },
  {
   "cell_type": "code",
   "execution_count": 2,
   "id": "statistical-terrorism",
   "metadata": {},
   "outputs": [],
   "source": [
    "# image of pit/veg matrix and flight lines (use C.Hiemstra's image or maybe Micah has something in the db?)"
   ]
  },
  {
   "cell_type": "markdown",
   "id": "crucial-defendant",
   "metadata": {},
   "source": [
    "### What are some resouces I can use to know more about the available and antipicated data sets? \n",
    "[link some resources here (ex. map of time series locations and sites codes)]\n",
    "\n",
    "Database Structure: https://snowexsql.readthedocs.io/en/latest/database_structure.html#sites-table"
   ]
  },
  {
   "cell_type": "markdown",
   "id": "educational-entry",
   "metadata": {},
   "source": [
    "## structure "
   ]
  },
  {
   "cell_type": "code",
   "execution_count": 3,
   "id": "meaningful-pointer",
   "metadata": {},
   "outputs": [],
   "source": [
    "# show NSIDC download files (show csv outputs...)"
   ]
  },
  {
   "cell_type": "markdown",
   "id": "fallen-disability",
   "metadata": {},
   "source": [
    "(most of everything below here is part of the other two notebooks...delete soon)\n",
    "## Tutorial Example\n",
    "\n",
    "As a first stab at working with SnowEx data, let's work with the snow pit *[hyperlink nsidc DOI]* and depth *[hyperlink nsidc DOI]* data from the Grand Mesa 2020 Campaign. "
   ]
  },
  {
   "cell_type": "code",
   "execution_count": 4,
   "id": "actual-cursor",
   "metadata": {},
   "outputs": [],
   "source": [
    "# come up with some topics to suggest for an interactive demo\n",
    "    # sort pits by dry or wet (use manual wetness)\n",
    "    # find the graupel layer! or other crusts\n",
    "    # sort pits by large or small temp gradients (set a gradient threshold)\n",
    "    # categorize pits by shallow, medium, and deep zones (use the pit ID)"
   ]
  },
  {
   "cell_type": "markdown",
   "id": "uniform-yemen",
   "metadata": {},
   "source": [
    "### recap"
   ]
  },
  {
   "cell_type": "code",
   "execution_count": null,
   "id": "rotary-class",
   "metadata": {},
   "outputs": [],
   "source": []
  },
  {
   "cell_type": "markdown",
   "id": "blocked-coral",
   "metadata": {},
   "source": [
    "<img src=\"images/field-mouse.JPG\" style=\"width: 400px;\"/>>"
   ]
  },
  {
   "cell_type": "code",
   "execution_count": null,
   "id": "moral-recycling",
   "metadata": {},
   "outputs": [],
   "source": []
  }
 ],
 "metadata": {
  "kernelspec": {
   "display_name": "Python 3",
   "language": "python",
   "name": "python3"
  },
  "language_info": {
   "codemirror_mode": {
    "name": "ipython",
    "version": 3
   },
   "file_extension": ".py",
   "mimetype": "text/x-python",
   "name": "python",
   "nbconvert_exporter": "python",
   "pygments_lexer": "ipython3",
   "version": "3.8.8"
  }
 },
 "nbformat": 4,
 "nbformat_minor": 5
}

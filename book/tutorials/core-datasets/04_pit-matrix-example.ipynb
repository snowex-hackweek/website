{
 "cells": [
  {
   "cell_type": "markdown",
   "id": "distinct-butterfly",
   "metadata": {},
   "source": [
    "# Pit Matrix Example"
   ]
  },
  {
   "cell_type": "code",
   "execution_count": 1,
   "id": "homeless-durham",
   "metadata": {},
   "outputs": [],
   "source": [
    "# imports here\n",
    "from snowexsql.db import get_db\n",
    "from snowexsql.data import SiteData, ImageData, LayerData, PointData\n",
    "from snowexsql.conversions import query_to_geopandas\n",
    "import datetime"
   ]
  },
  {
   "cell_type": "markdown",
   "id": "adverse-wells",
   "metadata": {},
   "source": [
    "## Distinguish pits by vegetation coverage: \n",
    "- treeless (0% tree cover)\n",
    "- sparse (1-30% tree cover)\n",
    "- dense (31-100% tree cover)\n",
    "\n",
    "*vegetation classes assigned based on optical imagery: tree density map, Nov. 2010 WorldView-2 Imagery"
   ]
  },
  {
   "cell_type": "code",
   "execution_count": null,
   "id": "manual-intelligence",
   "metadata": {},
   "outputs": [],
   "source": [
    "def parse_veg_class(site_id):\n",
    "    # Classifying by vegetation coverage \n",
    "    veg_class = {'treeless':[1, 3], 'sparse':[4, 6], 'dense':[7, 9]}\n",
    "   \n",
    "    vclass = None \n",
    "    \n",
    "    class_id = site_id[0]\n",
    "    \n",
    "    if class_id.isnumeric():\n",
    "        class_id = int(class_id)\n",
    "\n",
    "        for k,v in veg_class.items():\n",
    "\n",
    "            if class_id >= v[0] and class_id <= v[1]:\n",
    "                vclass = k \n",
    "                break\n",
    "\n",
    "    return vclass "
   ]
  },
  {
   "cell_type": "markdown",
   "id": "framed-guest",
   "metadata": {},
   "source": [
    "### Distinguish pits by snow depth classes: \n",
    "- shallow\n",
    "- medium\n",
    "- deep\n",
    "\n",
    "*depth classes assigned based on 2017 snow depth lidar data"
   ]
  },
  {
   "cell_type": "code",
   "execution_count": null,
   "id": "promising-excuse",
   "metadata": {},
   "outputs": [],
   "source": [
    "# def parse_depth_class(site_id):\n",
    "#     # Classifying by expected depth \n",
    "#     depth_class = {'shallow':[1, 4, 7], 'medium':[2, 5, 8], 'deep':[3, 6, 9]} #[1:3:9]\n",
    "   \n",
    "#     dclass = None \n",
    "    \n",
    "#     class_id = site_id[0]\n",
    "    \n",
    "#     if class_id.isnumeric(): #for the outlier TS site\n",
    "#         class_id = int(class_id) #cast as integer\n",
    "\n",
    "#         for k,v in depth_class.items(): #for the key, value pairs in the dict listed above:\n",
    "\n",
    "#             if class_id = v[0] or v[1] or v[2]:\n",
    "#                 dclass = k \n",
    "#                 break\n",
    "\n",
    "#     return dclass \n",
    "\n",
    "\n"
   ]
  },
  {
   "cell_type": "code",
   "execution_count": null,
   "id": "mineral-retention",
   "metadata": {},
   "outputs": [],
   "source": [
    "# site_id = '5N34'\n",
    "# dclass = None \n",
    "# class_id = site_id[0]\n",
    "\n",
    "# # (k for k,v in dict.iteritems() if v == value)\n",
    "\n",
    "# for k,v in depth_class.items():\n",
    "#     (k for k,v in class_id)\n",
    "    \n",
    "    \n",
    "#     print(k)\n",
    "# #     print('v:', v)\n",
    "# # #     if class_id = v\n",
    "# # #     dclass = k\n",
    "# # #     print(dclass)\n",
    "# # print(class_id)"
   ]
  },
  {
   "cell_type": "code",
   "execution_count": null,
   "id": "dimensional-empire",
   "metadata": {},
   "outputs": [],
   "source": [
    "# # load the database\n",
    "# db_name = 'snow:hackweek@52.32.183.144/snowex'\n",
    "# engine, session = get_db(db_name)\n",
    "\n",
    "# result = session.query(LayerData.type).distinct().all()\n",
    "# print(result)\n",
    "\n",
    "# qry = session.query(LayerData).filter(LayerData.type=='density')\n",
    "\n",
    "# # Form our dataframe from the query \n",
    "# df = query_to_geopandas(qry, engine)\n",
    "\n",
    "# # Form a handy lambda for performant ops in df's\n",
    "# veg_class_lambda = lambda row: parse_veg_class(row['site_id'])\n",
    "# df['veg_class'] = df.apply(veg_class_lambda, axis=1)\n",
    "\n",
    "# # Show off our df \n",
    "# df.plot()\n"
   ]
  },
  {
   "cell_type": "markdown",
   "id": "polished-chosen",
   "metadata": {},
   "source": [
    "PLOT: #1 Density\n",
    "\n",
    "  - depth (cm) vs. density (kg/m3) for snow depth classes\n",
    "  - 3 colors: shallow (r), medium (g), deep (b)\n",
    "  - vertical bars to show the 10cm measurement increments (see ../images)  \n",
    "  - time period -- (hmm, all? single day? 1 week avg?)"
   ]
  },
  {
   "cell_type": "code",
   "execution_count": null,
   "id": "drawn-distributor",
   "metadata": {},
   "outputs": [],
   "source": []
  },
  {
   "cell_type": "markdown",
   "id": "exciting-samoa",
   "metadata": {},
   "source": [
    "PLOT: #2 Temperature\n",
    "\n",
    "  - depth (cm) vs. temperature (C) for snow depth classes\n",
    "  - 3 colors: shallow (r), medium (g), deep (b)\n",
    "  - x-axis is -10 to 0 (see ../images)  \n",
    "  - time period -- (hmm, all? single day? 1 week avg?)\n",
    "  - could plot all pits with light gray line (or group by depth classes in a light/transparent color) and then take the avg. of 'shallow', 'medium', 'deep' and plot with a bold color line"
   ]
  },
  {
   "cell_type": "markdown",
   "id": "personal-crazy",
   "metadata": {},
   "source": [
    "PLOT: #3\n",
    "  - do something with stratigraphy here....still thinking on that..."
   ]
  },
  {
   "cell_type": "code",
   "execution_count": null,
   "id": "piano-mailman",
   "metadata": {},
   "outputs": [],
   "source": []
  },
  {
   "cell_type": "code",
   "execution_count": null,
   "id": "dependent-western",
   "metadata": {},
   "outputs": [],
   "source": []
  }
 ],
 "metadata": {
  "kernelspec": {
   "display_name": "Python 3",
   "language": "python",
   "name": "python3"
  },
  "language_info": {
   "codemirror_mode": {
    "name": "ipython",
    "version": 3
   },
   "file_extension": ".py",
   "mimetype": "text/x-python",
   "name": "python",
   "nbconvert_exporter": "python",
   "pygments_lexer": "ipython3",
   "version": "3.8.8"
  }
 },
 "nbformat": 4,
 "nbformat_minor": 5
}

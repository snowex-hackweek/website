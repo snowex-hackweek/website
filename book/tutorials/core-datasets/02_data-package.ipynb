{
 "cells": [
  {
   "cell_type": "markdown",
   "id": "nominated-dictionary",
   "metadata": {},
   "source": [
    "# Depths and Snow Pit Data Package Contents\n",
    "\n",
    "(12 minutes)\n",
    "\n",
    "Learning Objectives:\n",
    "- Tools to access data.\n",
    "- Code snippets to extract and prep data."
   ]
  },
  {
   "cell_type": "code",
   "execution_count": 1,
   "id": "increasing-campaign",
   "metadata": {},
   "outputs": [],
   "source": [
    "# standard imports\n",
    "import os\n",
    "from pathlib import Path\n",
    "import glob\n",
    "import pandas as pd\n",
    "import numpy as np\n",
    "\n",
    "#plotting imports\n",
    "import matplotlib as mpl\n",
    "import matplotlib.pyplot as plt\n",
    "plt.style.use(['seaborn-notebook'])\n",
    "\n",
    "# unique imports\n",
    "import s3fs #access data from the AWS s3 bucket"
   ]
  },
  {
   "cell_type": "markdown",
   "id": "bizarre-partnership",
   "metadata": {},
   "source": [
    "## Download snow depth data from NSIDC\n",
    "From the SnowEx20 [Depth Probe Landing Page](https://nsidc.org/data/SNEX20_SD/versions/1), you can download data and access the [User's Guide](https://nsidc.org/sites/nsidc.org/files/SNEX20_SD-V001-UserGuide_1.pdf)\n",
    "<img src=\"images/SD-landingPage.png\">\n",
    "\n",
    "The Community Snow Depth Probe data package is a single CSV with over 36,000 geolocated snow depths! Three different instrument types were used to measure depths and are recorded in the Measurement Tool column."
   ]
  },
  {
   "cell_type": "markdown",
   "id": "documentary-concept",
   "metadata": {},
   "source": [
    "## Method 1: Programmatically download snow depth data from NSIDC"
   ]
  },
  {
   "cell_type": "code",
   "execution_count": null,
   "id": "rational-front",
   "metadata": {},
   "outputs": [],
   "source": [
    "%run './scripts/nsidc-download_SNEX20_SD.001.py' \n",
    "print('Grand Mesa 2020 Snow Depth data download complete') "
   ]
  },
  {
   "cell_type": "code",
   "execution_count": null,
   "id": "controlling-pastor",
   "metadata": {},
   "outputs": [],
   "source": [
    "# show filename:\n",
    "path = Path('./data/depths/')\n",
    "\n",
    "for filename in path.glob('*.csv'):\n",
    "    print(filename.name)"
   ]
  },
  {
   "cell_type": "markdown",
   "id": "thirty-determination",
   "metadata": {},
   "source": [
    "## Method 2: Access data from our shared resources server\n",
    "Quick and easy access for hackweek or if you haven't gone through the steps to [configure programmatic access](https://snowex-hackweek.github.io/website/preliminary/earthdata.html#configure-programmatic-access-to-nasa-servers) to NASA servers yet. This pulls data from our AWS, S3 bucket"
   ]
  },
  {
   "cell_type": "code",
   "execution_count": 2,
   "id": "spread-planet",
   "metadata": {},
   "outputs": [
    {
     "name": "stdout",
     "output_type": "stream",
     "text": [
      "File list is:  ['snowex-data/tutorial-data/core-datasets/depths/SnowEx2020_SnowDepths_COGM_alldepths_v01.csv']\n"
     ]
    }
   ],
   "source": [
    "# Uses AWS credentials on machine\n",
    "fs = s3fs.S3FileSystem() \n",
    "\n",
    "# which data bucket?\n",
    "bucket = 'snowex-data'  \n",
    "      \n",
    "# contents inside /depths     \n",
    "flist = fs.ls(f'{bucket}/tutorial-data/core-datasets/depths') \n",
    "\n",
    "# show list of files\n",
    "print('File list is: ', flist)"
   ]
  },
  {
   "cell_type": "markdown",
   "id": "honey-angola",
   "metadata": {},
   "source": [
    "### Read the Depth File"
   ]
  },
  {
   "cell_type": "code",
   "execution_count": 3,
   "id": "southwest-rainbow",
   "metadata": {},
   "outputs": [
    {
     "name": "stdout",
     "output_type": "stream",
     "text": [
      "file has been read, and is ready to use.\n"
     ]
    }
   ],
   "source": [
    "# open depth data file, and create pandas dataframe\n",
    "with fs.open(flist[0], 'rb') as f: \n",
    "    \n",
    "    df = pd.read_csv(f, sep=',', header=0, parse_dates=[[2,3]]) #parse the date[2] and time[3] columns such that they are read in as datetime dtypes\n",
    "    \n",
    "print('file has been read, and is ready to use.')"
   ]
  },
  {
   "cell_type": "code",
   "execution_count": 4,
   "id": "present-slope",
   "metadata": {},
   "outputs": [
    {
     "data": {
      "text/plain": [
       "Date (yyyymmdd)_Time (hh:mm, local, MST)                           datetime64[ns]\n",
       "Measurement Tool (MP = Magnaprobe; M2 = Mesa 2; PR = Pit Ruler)            object\n",
       "ID                                                                          int64\n",
       "PitID                                                                      object\n",
       "Longitude                                                                 float64\n",
       "Latitude                                                                  float64\n",
       "Easting                                                                   float64\n",
       "Northing                                                                  float64\n",
       "Depth (cm)                                                                  int64\n",
       "elevation (m)                                                             float64\n",
       "equipment                                                                  object\n",
       "Version Number                                                              int64\n",
       "dtype: object"
      ]
     },
     "execution_count": 4,
     "metadata": {},
     "output_type": "execute_result"
    }
   ],
   "source": [
    "# check data types for each column\n",
    "df.dtypes"
   ]
  },
  {
   "cell_type": "markdown",
   "id": "strategic-oklahoma",
   "metadata": {},
   "source": [
    "### Prep for Data Analysis"
   ]
  },
  {
   "cell_type": "code",
   "execution_count": 5,
   "id": "auburn-trading",
   "metadata": {},
   "outputs": [
    {
     "name": "stdout",
     "output_type": "stream",
     "text": [
      "DataFrame shape is:  (36388, 12)\n"
     ]
    },
    {
     "data": {
      "text/html": [
       "<div>\n",
       "<style scoped>\n",
       "    .dataframe tbody tr th:only-of-type {\n",
       "        vertical-align: middle;\n",
       "    }\n",
       "\n",
       "    .dataframe tbody tr th {\n",
       "        vertical-align: top;\n",
       "    }\n",
       "\n",
       "    .dataframe thead th {\n",
       "        text-align: right;\n",
       "    }\n",
       "</style>\n",
       "<table border=\"1\" class=\"dataframe\">\n",
       "  <thead>\n",
       "    <tr style=\"text-align: right;\">\n",
       "      <th></th>\n",
       "      <th>Datetime</th>\n",
       "      <th>Measurement Tool</th>\n",
       "      <th>ID</th>\n",
       "      <th>PitID</th>\n",
       "      <th>Longitude</th>\n",
       "      <th>Latitude</th>\n",
       "      <th>Easting</th>\n",
       "      <th>Northing</th>\n",
       "      <th>Depth (cm)</th>\n",
       "      <th>elevation (m)</th>\n",
       "      <th>equipment</th>\n",
       "      <th>Version Number</th>\n",
       "    </tr>\n",
       "  </thead>\n",
       "  <tbody>\n",
       "    <tr>\n",
       "      <th>0</th>\n",
       "      <td>2020-01-28 11:48:00</td>\n",
       "      <td>MP</td>\n",
       "      <td>100000</td>\n",
       "      <td>8N58</td>\n",
       "      <td>-108.13515</td>\n",
       "      <td>39.03045</td>\n",
       "      <td>747987.62</td>\n",
       "      <td>4324061.71</td>\n",
       "      <td>94</td>\n",
       "      <td>3148.2</td>\n",
       "      <td>CRREL_B</td>\n",
       "      <td>1</td>\n",
       "    </tr>\n",
       "    <tr>\n",
       "      <th>1</th>\n",
       "      <td>2020-01-28 11:48:00</td>\n",
       "      <td>MP</td>\n",
       "      <td>100001</td>\n",
       "      <td>8N58</td>\n",
       "      <td>-108.13516</td>\n",
       "      <td>39.03045</td>\n",
       "      <td>747986.75</td>\n",
       "      <td>4324061.68</td>\n",
       "      <td>74</td>\n",
       "      <td>3148.3</td>\n",
       "      <td>CRREL_B</td>\n",
       "      <td>1</td>\n",
       "    </tr>\n",
       "    <tr>\n",
       "      <th>2</th>\n",
       "      <td>2020-01-28 11:48:00</td>\n",
       "      <td>MP</td>\n",
       "      <td>100002</td>\n",
       "      <td>8N58</td>\n",
       "      <td>-108.13517</td>\n",
       "      <td>39.03045</td>\n",
       "      <td>747985.89</td>\n",
       "      <td>4324061.65</td>\n",
       "      <td>90</td>\n",
       "      <td>3148.2</td>\n",
       "      <td>CRREL_B</td>\n",
       "      <td>1</td>\n",
       "    </tr>\n",
       "    <tr>\n",
       "      <th>3</th>\n",
       "      <td>2020-01-28 11:48:00</td>\n",
       "      <td>MP</td>\n",
       "      <td>100003</td>\n",
       "      <td>8N58</td>\n",
       "      <td>-108.13519</td>\n",
       "      <td>39.03044</td>\n",
       "      <td>747984.19</td>\n",
       "      <td>4324060.49</td>\n",
       "      <td>87</td>\n",
       "      <td>3148.6</td>\n",
       "      <td>CRREL_B</td>\n",
       "      <td>1</td>\n",
       "    </tr>\n",
       "    <tr>\n",
       "      <th>4</th>\n",
       "      <td>2020-01-28 11:48:00</td>\n",
       "      <td>MP</td>\n",
       "      <td>100004</td>\n",
       "      <td>8N58</td>\n",
       "      <td>-108.13519</td>\n",
       "      <td>39.03042</td>\n",
       "      <td>747984.26</td>\n",
       "      <td>4324058.27</td>\n",
       "      <td>90</td>\n",
       "      <td>3150.1</td>\n",
       "      <td>CRREL_B</td>\n",
       "      <td>1</td>\n",
       "    </tr>\n",
       "  </tbody>\n",
       "</table>\n",
       "</div>"
      ],
      "text/plain": [
       "             Datetime Measurement Tool      ID PitID  Longitude  Latitude  \\\n",
       "0 2020-01-28 11:48:00               MP  100000  8N58 -108.13515  39.03045   \n",
       "1 2020-01-28 11:48:00               MP  100001  8N58 -108.13516  39.03045   \n",
       "2 2020-01-28 11:48:00               MP  100002  8N58 -108.13517  39.03045   \n",
       "3 2020-01-28 11:48:00               MP  100003  8N58 -108.13519  39.03044   \n",
       "4 2020-01-28 11:48:00               MP  100004  8N58 -108.13519  39.03042   \n",
       "\n",
       "     Easting    Northing  Depth (cm)  elevation (m) equipment  Version Number  \n",
       "0  747987.62  4324061.71          94         3148.2   CRREL_B               1  \n",
       "1  747986.75  4324061.68          74         3148.3   CRREL_B               1  \n",
       "2  747985.89  4324061.65          90         3148.2   CRREL_B               1  \n",
       "3  747984.19  4324060.49          87         3148.6   CRREL_B               1  \n",
       "4  747984.26  4324058.27          90         3150.1   CRREL_B               1  "
      ]
     },
     "execution_count": 5,
     "metadata": {},
     "output_type": "execute_result"
    }
   ],
   "source": [
    "# rename some columns for ease further down\n",
    "df.rename(columns = {\n",
    "    'Measurement Tool (MP = Magnaprobe; M2 = Mesa 2; PR = Pit Ruler)':'Measurement Tool', \n",
    "    'Date (yyyymmdd)_Time (hh:mm, local, MST)': \"Datetime\"},\n",
    "          inplace = True)\n",
    "\n",
    "# set up filter for IOP date range\n",
    "start = pd.to_datetime('1/28/2020') #first day of GM IOP campaign\n",
    "end   = pd.to_datetime('2/12/2020') #last day of GM IOP campaign\n",
    "\n",
    "# filter the IOP date range\n",
    "df = df[(df['Datetime'] >= start) & (df['Datetime'] <= end)]\n",
    "\n",
    "print('DataFrame shape is: ', df.shape)\n",
    "df.head()"
   ]
  },
  {
   "cell_type": "markdown",
   "id": "mounted-particular",
   "metadata": {},
   "source": [
    "#### Use .groupby() to sort the data set"
   ]
  },
  {
   "cell_type": "code",
   "execution_count": 7,
   "id": "thorough-burst",
   "metadata": {},
   "outputs": [
    {
     "data": {
      "text/html": [
       "<div>\n",
       "<style scoped>\n",
       "    .dataframe tbody tr th:only-of-type {\n",
       "        vertical-align: middle;\n",
       "    }\n",
       "\n",
       "    .dataframe tbody tr th {\n",
       "        vertical-align: top;\n",
       "    }\n",
       "\n",
       "    .dataframe thead th {\n",
       "        text-align: right;\n",
       "    }\n",
       "</style>\n",
       "<table border=\"1\" class=\"dataframe\">\n",
       "  <thead>\n",
       "    <tr style=\"text-align: right;\">\n",
       "      <th></th>\n",
       "      <th>Measurement Tool</th>\n",
       "      <th>Depth (cm)</th>\n",
       "    </tr>\n",
       "  </thead>\n",
       "  <tbody>\n",
       "    <tr>\n",
       "      <th>count</th>\n",
       "      <td>3</td>\n",
       "      <td>3</td>\n",
       "    </tr>\n",
       "  </tbody>\n",
       "</table>\n",
       "</div>"
      ],
      "text/plain": [
       "       Measurement Tool  Depth (cm)\n",
       "count                 3           3"
      ]
     },
     "execution_count": 7,
     "metadata": {},
     "output_type": "execute_result"
    }
   ],
   "source": [
    "# group data by the measurement tool \n",
    "# gb = df.groupby('Measurement Tool', as_index=False).mean().round(1)\n",
    "\n",
    "gb = df.groupby('Measurement Tool', as_index=False).mean().agg(['count'])\n",
    "\n",
    "# show mean snow depth from each tool\n",
    "gb[['Measurement Tool', 'Depth (cm)']]"
   ]
  },
  {
   "cell_type": "markdown",
   "id": "significant-texas",
   "metadata": {},
   "source": [
    "#### ***Your turn***"
   ]
  },
  {
   "cell_type": "code",
   "execution_count": null,
   "id": "center-premises",
   "metadata": {},
   "outputs": [],
   "source": [
    "# group data by the snow pit ID\n",
    "\n",
    "\n",
    "# show mean snow depth around each snow pit\n",
    "\n",
    "\n",
    "#(hint: what is the pit id column called? If you're not sure you can use df.columns to see a list of column names. Consider using .head() to display only the first 5 returns)"
   ]
  },
  {
   "cell_type": "markdown",
   "id": "ultimate-hawaii",
   "metadata": {},
   "source": [
    "#### Find depths associated with a certain measurement tool"
   ]
  },
  {
   "cell_type": "code",
   "execution_count": null,
   "id": "defined-arabic",
   "metadata": {},
   "outputs": [],
   "source": [
    "print('List of Measurement Tools: ', df['Measurement Tool'].unique())"
   ]
  },
  {
   "cell_type": "markdown",
   "id": "dedicated-clinic",
   "metadata": {},
   "source": [
    "r = df.loc[df['Measurement Tool'] == 'PR']\n",
    "print('DataFrame shape is: ', r.shape)\n",
    "r.head()"
   ]
  },
  {
   "cell_type": "markdown",
   "id": "unlikely-pipeline",
   "metadata": {},
   "source": [
    "#### ***Your turn***"
   ]
  },
  {
   "cell_type": "code",
   "execution_count": null,
   "id": "sticky-flesh",
   "metadata": {},
   "outputs": [],
   "source": [
    "# find all depths recorded by the Mesa2\n",
    "\n",
    "\n",
    "# (hint: copy/paste is your friend)"
   ]
  },
  {
   "cell_type": "markdown",
   "id": "interracial-jumping",
   "metadata": {},
   "source": [
    "Let's make sure we all have the same pd.DataFrame() again"
   ]
  },
  {
   "cell_type": "code",
   "execution_count": null,
   "id": "recreational-finder",
   "metadata": {},
   "outputs": [],
   "source": [
    "# pit ruler snow depths from Grand Mesa IOP\n",
    "r = df.loc[df['Measurement Tool'] == 'PR'] \n",
    "print( 'here!!!')"
   ]
  },
  {
   "cell_type": "markdown",
   "id": "automatic-drinking",
   "metadata": {},
   "source": [
    "### Plotting"
   ]
  },
  {
   "cell_type": "code",
   "execution_count": null,
   "id": "marine-banking",
   "metadata": {},
   "outputs": [],
   "source": [
    "# plot pit ruler depths\n",
    "ax = r.plot(x='Easting', y='Northing', c='Depth (cm)', kind='scatter', alpha=0.7, colorbar=True, colormap='PuBu', legend=True)\n",
    "ax.set_title('Grand Mesa Pit Ruler Depths')\n",
    "ax.set_xlabel('Easting [m]')\n",
    "ax.set_ylabel('Northing [m]')\n",
    "plt.show()\n",
    "\n",
    "print('Notice the point on the far right - that is the \"GML\" or Grand Mesa Lodge pit where all instruments were deployed for a comparison study. pitID=GML')"
   ]
  },
  {
   "cell_type": "code",
   "execution_count": null,
   "id": "dimensional-guidance",
   "metadata": {},
   "outputs": [],
   "source": [
    "ax = r['Depth (cm)'].plot.hist(bins=25)\n",
    "ax.grid()\n",
    "ax.set_title('Grand Mesa Pit Ruler Depths')\n",
    "ax.set_xlabel('Snow Depth (cm)')\n",
    "ax.set_ylabel('Frequency')\n"
   ]
  },
  {
   "cell_type": "markdown",
   "id": "introductory-premises",
   "metadata": {},
   "source": [
    "## Download snow pit data from NSIDC\n",
    "From the SnowEx20 [Snow Pit Landing Page](https://nsidc.org/data/SNEX20_GM_SP/versions/1), you can download data and access the [User's Guide](https://nsidc.org/data/SNEX20_GM_SP/versions/1). \n",
    "\n",
    "<img src=\"images/SP-landingPage.png\">"
   ]
  },
  {
   "cell_type": "markdown",
   "id": "spread-secret",
   "metadata": {},
   "source": [
    "## Method 1: Programmatically download snow pit data from NSIDC"
   ]
  },
  {
   "cell_type": "code",
   "execution_count": null,
   "id": "sunrise-franklin",
   "metadata": {},
   "outputs": [],
   "source": [
    "# load snow pit data\n",
    "%run 'scripts/nsidc-download_SNEX20_GM_SP.001.py'\n",
    "print('Grand Mesa 2020 Snow Pit data download complete')"
   ]
  },
  {
   "cell_type": "code",
   "execution_count": null,
   "id": "polar-sandwich",
   "metadata": {},
   "outputs": [],
   "source": [
    "# show filenames\n",
    "path = Path('./data/pits/')\n",
    "\n",
    "for i, filename in enumerate(path.glob('*5N19*')):\n",
    "    print(i, filename.name)"
   ]
  },
  {
   "cell_type": "markdown",
   "id": "buried-shakespeare",
   "metadata": {},
   "source": [
    "## Method 2: Access data from our shared resources server\n",
    "Again, quick access for hackweek or if you haven't gone through the steps to [configure programmatic access](https://snowex-hackweek.github.io/website/preliminary/earthdata.html#configure-programmatic-access-to-nasa-servers) to NASA servers yet. This pulls data from our AWS, S3 bucket"
   ]
  },
  {
   "cell_type": "code",
   "execution_count": null,
   "id": "immediate-advertiser",
   "metadata": {},
   "outputs": [],
   "source": [
    "# Uses AWS credentials on machine\n",
    "fs = s3fs.S3FileSystem() \n",
    "\n",
    "# which data bucket?\n",
    "bucket = 'snowex-data'  \n",
    "      \n",
    "# contents inside /pits     \n",
    "flist = fs.ls(f'{bucket}/tutorial-data/core-datasets/pits/')\n",
    "\n",
    "# which files do we want?\n",
    "suffix='.csv'\n",
    "\n",
    "# list comprehension to get .csv files (not .xlsx or .jpgs)\n",
    "csv_files = [filename for filename in flist if filename.endswith(suffix)]\n",
    "csv_files[:5]"
   ]
  },
  {
   "cell_type": "markdown",
   "id": "canadian-bridge",
   "metadata": {},
   "source": [
    "### Don't want to work with all the files? Method to filter files"
   ]
  },
  {
   "cell_type": "code",
   "execution_count": null,
   "id": "toxic-buying",
   "metadata": {},
   "outputs": [],
   "source": [
    "# what files would you like to find?\n",
    "parameter = 'temperature'\n",
    "pitID = '5N19'\n",
    "date = '20200128'"
   ]
  },
  {
   "cell_type": "markdown",
   "id": "certain-characterization",
   "metadata": {},
   "source": [
    "### Read the Pit Parameter File"
   ]
  },
  {
   "cell_type": "code",
   "execution_count": null,
   "id": "animated-score",
   "metadata": {},
   "outputs": [],
   "source": [
    "with fs.open('/snowex-data/tutorial-data/core-datasets/pits/SnowEx20_SnowPits_GMIOP_{}_{}_{}_v01.csv'.format(date, pitID, parameter), 'rb') as f:\n",
    "    \n",
    "    t = pd.read_csv(f, header=7)\n",
    "t"
   ]
  },
  {
   "cell_type": "markdown",
   "id": "satellite-grove",
   "metadata": {},
   "source": [
    "### Plotting"
   ]
  },
  {
   "cell_type": "code",
   "execution_count": null,
   "id": "apart-boundary",
   "metadata": {},
   "outputs": [],
   "source": [
    "# plot temperature\n",
    "ax = t.plot(x='Temperature (deg C)',y='# Height (cm)', legend=False)\n",
    "ax.set_aspect(0.4)\n",
    "ax.grid()\n",
    "ax.set_title('pit {}: Temperature Profile'.format(pitID))\n",
    "ax.set_xlabel('Temperature (deg C)')\n",
    "ax.set_ylabel('Snow Depth (cm)')"
   ]
  },
  {
   "cell_type": "code",
   "execution_count": null,
   "id": "horizontal-pavilion",
   "metadata": {},
   "outputs": [],
   "source": [
    "# grab a different pit parameter file\n",
    "parameter = 'density'\n",
    "with fs.open('/snowex-data/tutorial-data/core-datasets/pits/SnowEx20_SnowPits_GMIOP_{}_{}_{}_v01.csv'.format(date, pitID, parameter), 'rb') as f:\n",
    "\n",
    "    d = pd.read_csv(f, header=7)\n",
    "d"
   ]
  },
  {
   "cell_type": "code",
   "execution_count": null,
   "id": "distant-technology",
   "metadata": {},
   "outputs": [],
   "source": [
    "# get the average density \n",
    "d['Avg Density (kg/m3)'] = d[['Density A (kg/m3)', 'Density B (kg/m3)', 'Density C (kg/m3)']].mean(axis=1, skipna=True)\n",
    "d"
   ]
  },
  {
   "cell_type": "code",
   "execution_count": null,
   "id": "described-attachment",
   "metadata": {},
   "outputs": [],
   "source": [
    "def plot_density(ax, dataframe):\n",
    "    \n",
    "    '''\n",
    "    This function helps you plot density profiles from snow pits. Use it to iterate through \n",
    "    DataFrame rows and plot the density for each top and bottom segment.\n",
    "    \n",
    "    '''\n",
    "    \n",
    "    for index, row in dataframe.iterrows():\n",
    "        # plot blue bars to represent 10cm density intervals\n",
    "        top = row['# Top (cm)']\n",
    "        bottom = row['Bottom (cm)']\n",
    "        dens = row[\"Avg Density (kg/m3)\"]\n",
    "        ax.plot([dens, dens],[bottom, top], color='blue', linewidth=4)\n",
    "\n",
    "        # plot a red cross to show the spread between A and B samples\n",
    "        densA = row[\"Density A (kg/m3)\"]\n",
    "        densB = row[\"Density B (kg/m3)\"]\n",
    "        middle = bottom + 5.\n",
    "        ax.plot([densA, densB],[middle,middle], color='red')\n",
    "        \n",
    "    return ax\n",
    "\n",
    "fig, ax = plt.subplots()\n",
    "ax = plot_density(ax, d)\n",
    "ax.set_xlim(50, 400)\n",
    "ax.set_ylim(0, 140)\n",
    "ax.grid(color='lightgray', alpha=.5)\n",
    "ax.set_aspect(2)\n",
    "ax.set_title('pit {}: Density Profile'.format(pitID))\n",
    "ax.set_xlabel('Density kg/m3')\n",
    "ax.set_ylabel('Snow Depth (cm)')   "
   ]
  },
  {
   "cell_type": "code",
   "execution_count": null,
   "id": "renewable-civilization",
   "metadata": {},
   "outputs": [],
   "source": []
  }
 ],
 "metadata": {
  "kernelspec": {
   "display_name": "Python 3",
   "language": "python",
   "name": "python3"
  },
  "language_info": {
   "codemirror_mode": {
    "name": "ipython",
    "version": 3
   },
   "file_extension": ".py",
   "mimetype": "text/x-python",
   "name": "python",
   "nbconvert_exporter": "python",
   "pygments_lexer": "ipython3",
   "version": "3.8.8"
  }
 },
 "nbformat": 4,
 "nbformat_minor": 5
}

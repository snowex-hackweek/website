{
 "cells": [
  {
   "cell_type": "markdown",
   "id": "taken-dinner",
   "metadata": {},
   "source": [
    "# Depths and Snow Pit Data Package Contents\n",
    "\n",
    "Learning Objectives:\n",
    "- Tools to access data\n",
    "- Code snippets to extract and prep data"
   ]
  },
  {
   "cell_type": "code",
   "execution_count": 31,
   "id": "immediate-calculator",
   "metadata": {},
   "outputs": [],
   "source": [
    "# standard imports\n",
    "import os\n",
    "from pathlib import Path\n",
    "import glob\n",
    "import pandas as pd\n",
    "import numpy as np\n",
    "\n",
    "#plotting imports\n",
    "import matplotlib as mpl\n",
    "import matplotlib.pyplot as plt\n",
    "plt.style.use(['seaborn-notebook'])\n",
    "\n",
    "# unique imports\n",
    "import s3fs #access data from the AWS s3 bucket"
   ]
  },
  {
   "cell_type": "markdown",
   "id": "knowing-singing",
   "metadata": {},
   "source": [
    "# Download snow depth data from NSIDC\n",
    "From the SnowEx20 [Depth Probe Landing Page](https://nsidc.org/data/SNEX20_SD/versions/1), you can download data and access the [User's Guide](https://nsidc.org/sites/nsidc.org/files/SNEX20_SD-V001-UserGuide_1.pdf)\n",
    "<img src=\"images/SD-landingPage.png\">\n",
    "\n",
    "The Community Snow Depth Probe data package is a single CSV with over 36,000 geolocated snow depths! Three different instrument types were used to measure depths and are recorded in the Measurement Tool column."
   ]
  },
  {
   "cell_type": "markdown",
   "id": "central-tokyo",
   "metadata": {},
   "source": [
    "## Method 1: Programmatically download snow depth data from NSIDC"
   ]
  },
  {
   "cell_type": "code",
   "execution_count": null,
   "id": "known-stadium",
   "metadata": {},
   "outputs": [],
   "source": [
    "%run './scripts/nsidc-download_SNEX20_SD.001.py' \n",
    "print('Grand Mesa 2020 Snow Depth data download complete') "
   ]
  },
  {
   "cell_type": "code",
   "execution_count": null,
   "id": "divided-mirror",
   "metadata": {},
   "outputs": [],
   "source": [
    "# show filename:\n",
    "path = Path('./data/depths/')\n",
    "\n",
    "for filename in path.glob('*.csv'):\n",
    "    print(filename.name)"
   ]
  },
  {
   "cell_type": "markdown",
   "id": "general-stroke",
   "metadata": {},
   "source": [
    "## Method 2: Access data from the S3 bucket\n",
    "Quick and easy access for hackweek or if you haven't gone through the steps to [configure programmatic access](https://snowex-hackweek.github.io/website/preliminary/earthdata.html#configure-programmatic-access-to-nasa-servers) to NASA servers yet. "
   ]
  },
  {
   "cell_type": "code",
   "execution_count": 2,
   "id": "future-recording",
   "metadata": {},
   "outputs": [
    {
     "name": "stdout",
     "output_type": "stream",
     "text": [
      "File list is:  ['snowex-data/tutorial-data/core-datasets/depths/SnowEx2020_SnowDepths_COGM_alldepths_v01.csv']\n"
     ]
    }
   ],
   "source": [
    "# Uses AWS credentials on machine\n",
    "fs = s3fs.S3FileSystem() \n",
    "\n",
    "# which data bucket?\n",
    "bucket = 'snowex-data'  \n",
    "      \n",
    "# contents inside /depths     \n",
    "flist = fs.ls(f'{bucket}/tutorial-data/core-datasets/depths') \n",
    "\n",
    "# show filename\n",
    "print('File list is: ', flist)"
   ]
  },
  {
   "cell_type": "markdown",
   "id": "ready-manner",
   "metadata": {},
   "source": [
    "## Read the Depth File"
   ]
  },
  {
   "cell_type": "code",
   "execution_count": 3,
   "id": "abstract-rings",
   "metadata": {},
   "outputs": [
    {
     "name": "stdout",
     "output_type": "stream",
     "text": [
      "file has been read, and is ready to use.\n"
     ]
    }
   ],
   "source": [
    "# open depth data file, and create pandas dataframe\n",
    "with fs.open(flist[0], 'rb') as f: \n",
    "    \n",
    "    df = pd.read_csv(f, sep=',', header=0, parse_dates=[[2,3]]) #parse the date[2] and time[3] columns such that they are read in as datetime dtypes\n",
    "    \n",
    "print('file has been read, and is ready to use.')"
   ]
  },
  {
   "cell_type": "code",
   "execution_count": 4,
   "id": "foreign-arkansas",
   "metadata": {},
   "outputs": [
    {
     "data": {
      "text/plain": [
       "Date (yyyymmdd)_Time (hh:mm, local, MST)                           datetime64[ns]\n",
       "Measurement Tool (MP = Magnaprobe; M2 = Mesa 2; PR = Pit Ruler)            object\n",
       "ID                                                                          int64\n",
       "PitID                                                                      object\n",
       "Longitude                                                                 float64\n",
       "Latitude                                                                  float64\n",
       "Easting                                                                   float64\n",
       "Northing                                                                  float64\n",
       "Depth (cm)                                                                  int64\n",
       "elevation (m)                                                             float64\n",
       "equipment                                                                  object\n",
       "Version Number                                                              int64\n",
       "dtype: object"
      ]
     },
     "execution_count": 4,
     "metadata": {},
     "output_type": "execute_result"
    }
   ],
   "source": [
    "# check data types for each column\n",
    "df.dtypes"
   ]
  },
  {
   "cell_type": "markdown",
   "id": "established-giant",
   "metadata": {},
   "source": [
    "## Prep for Data Analysis"
   ]
  },
  {
   "cell_type": "code",
   "execution_count": 5,
   "id": "labeled-monday",
   "metadata": {},
   "outputs": [
    {
     "name": "stdout",
     "output_type": "stream",
     "text": [
      "DataFrame shape is:  (36388, 12)\n"
     ]
    },
    {
     "data": {
      "text/html": [
       "<div>\n",
       "<style scoped>\n",
       "    .dataframe tbody tr th:only-of-type {\n",
       "        vertical-align: middle;\n",
       "    }\n",
       "\n",
       "    .dataframe tbody tr th {\n",
       "        vertical-align: top;\n",
       "    }\n",
       "\n",
       "    .dataframe thead th {\n",
       "        text-align: right;\n",
       "    }\n",
       "</style>\n",
       "<table border=\"1\" class=\"dataframe\">\n",
       "  <thead>\n",
       "    <tr style=\"text-align: right;\">\n",
       "      <th></th>\n",
       "      <th>Datetime</th>\n",
       "      <th>Measurement Tool</th>\n",
       "      <th>ID</th>\n",
       "      <th>PitID</th>\n",
       "      <th>Longitude</th>\n",
       "      <th>Latitude</th>\n",
       "      <th>Easting</th>\n",
       "      <th>Northing</th>\n",
       "      <th>Depth (cm)</th>\n",
       "      <th>elevation (m)</th>\n",
       "      <th>equipment</th>\n",
       "      <th>Version Number</th>\n",
       "    </tr>\n",
       "  </thead>\n",
       "  <tbody>\n",
       "    <tr>\n",
       "      <th>0</th>\n",
       "      <td>2020-01-28 11:48:00</td>\n",
       "      <td>MP</td>\n",
       "      <td>100000</td>\n",
       "      <td>8N58</td>\n",
       "      <td>-108.13515</td>\n",
       "      <td>39.03045</td>\n",
       "      <td>747987.62</td>\n",
       "      <td>4324061.71</td>\n",
       "      <td>94</td>\n",
       "      <td>3148.2</td>\n",
       "      <td>CRREL_B</td>\n",
       "      <td>1</td>\n",
       "    </tr>\n",
       "    <tr>\n",
       "      <th>1</th>\n",
       "      <td>2020-01-28 11:48:00</td>\n",
       "      <td>MP</td>\n",
       "      <td>100001</td>\n",
       "      <td>8N58</td>\n",
       "      <td>-108.13516</td>\n",
       "      <td>39.03045</td>\n",
       "      <td>747986.75</td>\n",
       "      <td>4324061.68</td>\n",
       "      <td>74</td>\n",
       "      <td>3148.3</td>\n",
       "      <td>CRREL_B</td>\n",
       "      <td>1</td>\n",
       "    </tr>\n",
       "    <tr>\n",
       "      <th>2</th>\n",
       "      <td>2020-01-28 11:48:00</td>\n",
       "      <td>MP</td>\n",
       "      <td>100002</td>\n",
       "      <td>8N58</td>\n",
       "      <td>-108.13517</td>\n",
       "      <td>39.03045</td>\n",
       "      <td>747985.89</td>\n",
       "      <td>4324061.65</td>\n",
       "      <td>90</td>\n",
       "      <td>3148.2</td>\n",
       "      <td>CRREL_B</td>\n",
       "      <td>1</td>\n",
       "    </tr>\n",
       "    <tr>\n",
       "      <th>3</th>\n",
       "      <td>2020-01-28 11:48:00</td>\n",
       "      <td>MP</td>\n",
       "      <td>100003</td>\n",
       "      <td>8N58</td>\n",
       "      <td>-108.13519</td>\n",
       "      <td>39.03044</td>\n",
       "      <td>747984.19</td>\n",
       "      <td>4324060.49</td>\n",
       "      <td>87</td>\n",
       "      <td>3148.6</td>\n",
       "      <td>CRREL_B</td>\n",
       "      <td>1</td>\n",
       "    </tr>\n",
       "    <tr>\n",
       "      <th>4</th>\n",
       "      <td>2020-01-28 11:48:00</td>\n",
       "      <td>MP</td>\n",
       "      <td>100004</td>\n",
       "      <td>8N58</td>\n",
       "      <td>-108.13519</td>\n",
       "      <td>39.03042</td>\n",
       "      <td>747984.26</td>\n",
       "      <td>4324058.27</td>\n",
       "      <td>90</td>\n",
       "      <td>3150.1</td>\n",
       "      <td>CRREL_B</td>\n",
       "      <td>1</td>\n",
       "    </tr>\n",
       "  </tbody>\n",
       "</table>\n",
       "</div>"
      ],
      "text/plain": [
       "             Datetime Measurement Tool      ID PitID  Longitude  Latitude  \\\n",
       "0 2020-01-28 11:48:00               MP  100000  8N58 -108.13515  39.03045   \n",
       "1 2020-01-28 11:48:00               MP  100001  8N58 -108.13516  39.03045   \n",
       "2 2020-01-28 11:48:00               MP  100002  8N58 -108.13517  39.03045   \n",
       "3 2020-01-28 11:48:00               MP  100003  8N58 -108.13519  39.03044   \n",
       "4 2020-01-28 11:48:00               MP  100004  8N58 -108.13519  39.03042   \n",
       "\n",
       "     Easting    Northing  Depth (cm)  elevation (m) equipment  Version Number  \n",
       "0  747987.62  4324061.71          94         3148.2   CRREL_B               1  \n",
       "1  747986.75  4324061.68          74         3148.3   CRREL_B               1  \n",
       "2  747985.89  4324061.65          90         3148.2   CRREL_B               1  \n",
       "3  747984.19  4324060.49          87         3148.6   CRREL_B               1  \n",
       "4  747984.26  4324058.27          90         3150.1   CRREL_B               1  "
      ]
     },
     "execution_count": 5,
     "metadata": {},
     "output_type": "execute_result"
    }
   ],
   "source": [
    "# rename some columns for ease further down\n",
    "df.rename(columns = {\n",
    "    'Measurement Tool (MP = Magnaprobe; M2 = Mesa 2; PR = Pit Ruler)':'Measurement Tool', \n",
    "    'Date (yyyymmdd)_Time (hh:mm, local, MST)': \"Datetime\"},\n",
    "          inplace = True)\n",
    "\n",
    "# set up filter for IOP date range\n",
    "start = pd.to_datetime('1/28/2020') #first day of GM IOP campaign\n",
    "end   = pd.to_datetime('2/12/2020') #last day of GM IOP campaign\n",
    "\n",
    "# filter the IOP date range\n",
    "df = df[(df['Datetime'] >= start) & (df['Datetime'] <= end)]\n",
    "\n",
    "print('DataFrame shape is: ', df.shape)\n",
    "df.head()"
   ]
  },
  {
   "cell_type": "markdown",
   "id": "alone-photography",
   "metadata": {},
   "source": [
    "## Use .groupby() to sort the data set"
   ]
  },
  {
   "cell_type": "code",
   "execution_count": 6,
   "id": "plastic-label",
   "metadata": {},
   "outputs": [
    {
     "data": {
      "text/html": [
       "<div>\n",
       "<style scoped>\n",
       "    .dataframe tbody tr th:only-of-type {\n",
       "        vertical-align: middle;\n",
       "    }\n",
       "\n",
       "    .dataframe tbody tr th {\n",
       "        vertical-align: top;\n",
       "    }\n",
       "\n",
       "    .dataframe thead th {\n",
       "        text-align: right;\n",
       "    }\n",
       "</style>\n",
       "<table border=\"1\" class=\"dataframe\">\n",
       "  <thead>\n",
       "    <tr style=\"text-align: right;\">\n",
       "      <th></th>\n",
       "      <th>Measurement Tool</th>\n",
       "      <th>Depth (cm)</th>\n",
       "    </tr>\n",
       "  </thead>\n",
       "  <tbody>\n",
       "    <tr>\n",
       "      <th>0</th>\n",
       "      <td>M2</td>\n",
       "      <td>97.0</td>\n",
       "    </tr>\n",
       "    <tr>\n",
       "      <th>1</th>\n",
       "      <td>MP</td>\n",
       "      <td>94.8</td>\n",
       "    </tr>\n",
       "    <tr>\n",
       "      <th>2</th>\n",
       "      <td>PR</td>\n",
       "      <td>94.6</td>\n",
       "    </tr>\n",
       "  </tbody>\n",
       "</table>\n",
       "</div>"
      ],
      "text/plain": [
       "  Measurement Tool  Depth (cm)\n",
       "0               M2        97.0\n",
       "1               MP        94.8\n",
       "2               PR        94.6"
      ]
     },
     "execution_count": 6,
     "metadata": {},
     "output_type": "execute_result"
    }
   ],
   "source": [
    "# group data by the measurement tool \n",
    "gb = df.groupby('Measurement Tool', as_index=False).mean().round(1)\n",
    "\n",
    "# show mean snow depth from each tool\n",
    "gb[['Measurement Tool', 'Depth (cm)']]"
   ]
  },
  {
   "cell_type": "markdown",
   "id": "incoming-confusion",
   "metadata": {},
   "source": [
    "## ***Your turn***"
   ]
  },
  {
   "cell_type": "code",
   "execution_count": 7,
   "id": "inappropriate-former",
   "metadata": {},
   "outputs": [],
   "source": [
    "# group data by the snow pit ID\n",
    "\n",
    "\n",
    "# show mean snow depth around each snow pit\n",
    "\n",
    "\n",
    "#(hint: what is the pit id column called? If you're not sure you can use df.columns to see a list of column names. Consider using .head() to display only the first 5 returns)"
   ]
  },
  {
   "cell_type": "markdown",
   "id": "upper-insight",
   "metadata": {},
   "source": [
    "## Find depths associated with a certain measurement tool"
   ]
  },
  {
   "cell_type": "code",
   "execution_count": 8,
   "id": "dress-register",
   "metadata": {},
   "outputs": [
    {
     "name": "stdout",
     "output_type": "stream",
     "text": [
      "List of Measurement Tools:  ['MP' 'M2' 'PR']\n"
     ]
    }
   ],
   "source": [
    "print('List of Measurement Tools: ', df['Measurement Tool'].unique())"
   ]
  },
  {
   "cell_type": "code",
   "execution_count": 9,
   "id": "mobile-attack",
   "metadata": {},
   "outputs": [
    {
     "name": "stdout",
     "output_type": "stream",
     "text": [
      "DataFrame shape is:  (148, 12)\n"
     ]
    },
    {
     "data": {
      "text/html": [
       "<div>\n",
       "<style scoped>\n",
       "    .dataframe tbody tr th:only-of-type {\n",
       "        vertical-align: middle;\n",
       "    }\n",
       "\n",
       "    .dataframe tbody tr th {\n",
       "        vertical-align: top;\n",
       "    }\n",
       "\n",
       "    .dataframe thead th {\n",
       "        text-align: right;\n",
       "    }\n",
       "</style>\n",
       "<table border=\"1\" class=\"dataframe\">\n",
       "  <thead>\n",
       "    <tr style=\"text-align: right;\">\n",
       "      <th></th>\n",
       "      <th>Datetime</th>\n",
       "      <th>Measurement Tool</th>\n",
       "      <th>ID</th>\n",
       "      <th>PitID</th>\n",
       "      <th>Longitude</th>\n",
       "      <th>Latitude</th>\n",
       "      <th>Easting</th>\n",
       "      <th>Northing</th>\n",
       "      <th>Depth (cm)</th>\n",
       "      <th>elevation (m)</th>\n",
       "      <th>equipment</th>\n",
       "      <th>Version Number</th>\n",
       "    </tr>\n",
       "  </thead>\n",
       "  <tbody>\n",
       "    <tr>\n",
       "      <th>37755</th>\n",
       "      <td>2020-01-30 11:24:00</td>\n",
       "      <td>PR</td>\n",
       "      <td>300001</td>\n",
       "      <td>7C15</td>\n",
       "      <td>-108.19593</td>\n",
       "      <td>39.04563</td>\n",
       "      <td>742673.94</td>\n",
       "      <td>4325582.37</td>\n",
       "      <td>100</td>\n",
       "      <td>3048.699951</td>\n",
       "      <td>ruler</td>\n",
       "      <td>1</td>\n",
       "    </tr>\n",
       "    <tr>\n",
       "      <th>37756</th>\n",
       "      <td>2020-01-29 15:00:00</td>\n",
       "      <td>PR</td>\n",
       "      <td>300002</td>\n",
       "      <td>6C37</td>\n",
       "      <td>-108.14791</td>\n",
       "      <td>39.00760</td>\n",
       "      <td>746962.00</td>\n",
       "      <td>4321491.00</td>\n",
       "      <td>117</td>\n",
       "      <td>3087.709961</td>\n",
       "      <td>ruler</td>\n",
       "      <td>1</td>\n",
       "    </tr>\n",
       "    <tr>\n",
       "      <th>37757</th>\n",
       "      <td>2020-02-09 12:30:00</td>\n",
       "      <td>PR</td>\n",
       "      <td>300003</td>\n",
       "      <td>8C31</td>\n",
       "      <td>-108.16401</td>\n",
       "      <td>39.02144</td>\n",
       "      <td>745520.00</td>\n",
       "      <td>4322983.00</td>\n",
       "      <td>98</td>\n",
       "      <td>3099.639893</td>\n",
       "      <td>ruler</td>\n",
       "      <td>1</td>\n",
       "    </tr>\n",
       "    <tr>\n",
       "      <th>37758</th>\n",
       "      <td>2020-01-28 09:13:00</td>\n",
       "      <td>PR</td>\n",
       "      <td>300004</td>\n",
       "      <td>6N18</td>\n",
       "      <td>-108.19103</td>\n",
       "      <td>39.03404</td>\n",
       "      <td>743137.23</td>\n",
       "      <td>4324309.43</td>\n",
       "      <td>92</td>\n",
       "      <td>3055.590088</td>\n",
       "      <td>ruler</td>\n",
       "      <td>1</td>\n",
       "    </tr>\n",
       "    <tr>\n",
       "      <th>37760</th>\n",
       "      <td>2020-02-10 10:30:00</td>\n",
       "      <td>PR</td>\n",
       "      <td>300006</td>\n",
       "      <td>8S41</td>\n",
       "      <td>-108.14962</td>\n",
       "      <td>39.01659</td>\n",
       "      <td>746783.00</td>\n",
       "      <td>4322484.00</td>\n",
       "      <td>95</td>\n",
       "      <td>3113.870117</td>\n",
       "      <td>ruler</td>\n",
       "      <td>1</td>\n",
       "    </tr>\n",
       "  </tbody>\n",
       "</table>\n",
       "</div>"
      ],
      "text/plain": [
       "                 Datetime Measurement Tool      ID PitID  Longitude  Latitude  \\\n",
       "37755 2020-01-30 11:24:00               PR  300001  7C15 -108.19593  39.04563   \n",
       "37756 2020-01-29 15:00:00               PR  300002  6C37 -108.14791  39.00760   \n",
       "37757 2020-02-09 12:30:00               PR  300003  8C31 -108.16401  39.02144   \n",
       "37758 2020-01-28 09:13:00               PR  300004  6N18 -108.19103  39.03404   \n",
       "37760 2020-02-10 10:30:00               PR  300006  8S41 -108.14962  39.01659   \n",
       "\n",
       "         Easting    Northing  Depth (cm)  elevation (m) equipment  \\\n",
       "37755  742673.94  4325582.37         100    3048.699951     ruler   \n",
       "37756  746962.00  4321491.00         117    3087.709961     ruler   \n",
       "37757  745520.00  4322983.00          98    3099.639893     ruler   \n",
       "37758  743137.23  4324309.43          92    3055.590088     ruler   \n",
       "37760  746783.00  4322484.00          95    3113.870117     ruler   \n",
       "\n",
       "       Version Number  \n",
       "37755               1  \n",
       "37756               1  \n",
       "37757               1  \n",
       "37758               1  \n",
       "37760               1  "
      ]
     },
     "execution_count": 9,
     "metadata": {},
     "output_type": "execute_result"
    }
   ],
   "source": [
    "r = df.loc[df['Measurement Tool'] == 'PR']\n",
    "print('DataFrame shape is: ', r.shape)\n",
    "r.head()"
   ]
  },
  {
   "cell_type": "markdown",
   "id": "progressive-munich",
   "metadata": {},
   "source": [
    "## ***Your turn***"
   ]
  },
  {
   "cell_type": "code",
   "execution_count": 10,
   "id": "beautiful-surname",
   "metadata": {},
   "outputs": [],
   "source": [
    "# find all depths recorded by the Mesa2\n",
    "\n",
    "\n",
    "# (hint: copy/paste is your friend)"
   ]
  },
  {
   "cell_type": "markdown",
   "id": "individual-eclipse",
   "metadata": {},
   "source": [
    "Let's make sure we all have the same pd.DataFrame() again"
   ]
  },
  {
   "cell_type": "code",
   "execution_count": 11,
   "id": "imposed-carry",
   "metadata": {},
   "outputs": [],
   "source": [
    "# pit ruler snow depths from Grand Mesa IOP\n",
    "r = df.loc[df['Measurement Tool'] == 'PR'] "
   ]
  },
  {
   "cell_type": "markdown",
   "id": "electronic-donna",
   "metadata": {},
   "source": [
    "## Plotting"
   ]
  },
  {
   "cell_type": "code",
   "execution_count": 12,
   "id": "framed-concern",
   "metadata": {},
   "outputs": [
    {
     "data": {
      "text/plain": [
       "Text(0, 0.5, 'Northing [m]')"
      ]
     },
     "execution_count": 12,
     "metadata": {},
     "output_type": "execute_result"
    },
    {
     "data": {
      "image/png": "[encoded data removed]",
      "text/plain": [
       "<Figure size 576x396 with 2 Axes>"
      ]
     },
     "metadata": {
      "needs_background": "light"
     },
     "output_type": "display_data"
    }
   ],
   "source": [
    "# plot pit ruler depths\n",
    "ax = r.plot(x='Easting', y='Northing', c='Depth (cm)', kind='scatter', alpha=0.7, colorbar=True, colormap='PuBu', legend=True)\n",
    "ax.set_title('Grand Mesa Pit Ruler Depths')\n",
    "ax.set_xlabel('Easting [m]')\n",
    "ax.set_ylabel('Northing [m]')"
   ]
  },
  {
   "cell_type": "code",
   "execution_count": 13,
   "id": "advance-sauce",
   "metadata": {},
   "outputs": [
    {
     "data": {
      "text/plain": [
       "Text(0, 0.5, 'Snow Depth (cm)')"
      ]
     },
     "execution_count": 13,
     "metadata": {},
     "output_type": "execute_result"
    },
    {
     "data": {
      "image/png": "[encoded data removed]",
      "text/plain": [
       "<Figure size 576x396 with 1 Axes>"
      ]
     },
     "metadata": {
      "needs_background": "light"
     },
     "output_type": "display_data"
    }
   ],
   "source": [
    "ax = r['Depth (cm)'].plot.hist(bins=25)\n",
    "ax.grid()\n",
    "ax.set_title('Grand Mesa Pit Ruler Depths')\n",
    "ax.set_xlabel('Frequency')\n",
    "ax.set_ylabel('Snow Depth (cm)')\n"
   ]
  },
  {
   "cell_type": "markdown",
   "id": "meaning-republic",
   "metadata": {},
   "source": [
    "# Download snow pit data from NSIDC\n",
    "From the SnowEx20 [Snow Pit Landing Page](https://nsidc.org/data/SNEX20_GM_SP/versions/1), you can download data and access the [User's Guide](https://nsidc.org/data/SNEX20_GM_SP/versions/1). \n",
    "\n",
    "<img src=\"images/SP-landingPage.png\">\n",
    "\n"
   ]
  },
  {
   "cell_type": "code",
   "execution_count": null,
   "id": "living-majority",
   "metadata": {},
   "outputs": [],
   "source": [
    "# load snow pit data\n",
    "%run 'scripts/nsidc-download_SNEX20_GM_SP.001.py'\n",
    "print('Grand Mesa 2020 Snow Pit data download complete')"
   ]
  },
  {
   "cell_type": "code",
   "execution_count": null,
   "id": "african-offer",
   "metadata": {},
   "outputs": [],
   "source": [
    "path = Path('./data/pits/')\n",
    "\n",
    "for i, filename in enumerate(path.glob('*5N19*')):\n",
    "    print(i, filename.name)"
   ]
  },
  {
   "cell_type": "code",
   "execution_count": 187,
   "id": "little-copyright",
   "metadata": {},
   "outputs": [],
   "source": [
    "# Uses AWS credentials on machine\n",
    "fs = s3fs.S3FileSystem() \n",
    "\n",
    "# which data bucket?\n",
    "bucket = 'snowex-data'  \n",
    "      \n",
    "# contents inside /pits     \n",
    "flist = fs.ls(f'{bucket}/tutorial-data/core-datasets/pits/')\n",
    "\n",
    "# which files do we want?\n",
    "suffix='.csv'\n",
    "\n",
    "# list comprehension to get .csv files (not .xlsx or .jpgs)\n",
    "csv_files = [filename for filename in flist if filename.endswith(suffix)]"
   ]
  },
  {
   "cell_type": "code",
   "execution_count": 188,
   "id": "silent-calibration",
   "metadata": {},
   "outputs": [
    {
     "data": {
      "text/plain": [
       "['snowex-data/tutorial-data/core-datasets/pits/SnowEx20_SnowPits_GMIOP_20200128_1N6_LWC_v01.csv',\n",
       " 'snowex-data/tutorial-data/core-datasets/pits/SnowEx20_SnowPits_GMIOP_20200128_1N6_density_v01.csv',\n",
       " 'snowex-data/tutorial-data/core-datasets/pits/SnowEx20_SnowPits_GMIOP_20200128_1N6_siteDetails_v01.csv',\n",
       " 'snowex-data/tutorial-data/core-datasets/pits/SnowEx20_SnowPits_GMIOP_20200128_1N6_stratigraphy_v01.csv',\n",
       " 'snowex-data/tutorial-data/core-datasets/pits/SnowEx20_SnowPits_GMIOP_20200128_1N6_temperature_v01.csv']"
      ]
     },
     "execution_count": 188,
     "metadata": {},
     "output_type": "execute_result"
    }
   ],
   "source": [
    "csv_files[:5]"
   ]
  },
  {
   "cell_type": "code",
   "execution_count": 189,
   "id": "powered-success",
   "metadata": {},
   "outputs": [],
   "source": [
    "# what files would you like to find?\n",
    "parameter = 'temperature'\n",
    "pitID = '5N19'\n",
    "date = '20200128'"
   ]
  },
  {
   "cell_type": "code",
   "execution_count": 190,
   "id": "blond-designer",
   "metadata": {},
   "outputs": [
    {
     "data": {
      "text/html": [
       "<div>\n",
       "<style scoped>\n",
       "    .dataframe tbody tr th:only-of-type {\n",
       "        vertical-align: middle;\n",
       "    }\n",
       "\n",
       "    .dataframe tbody tr th {\n",
       "        vertical-align: top;\n",
       "    }\n",
       "\n",
       "    .dataframe thead th {\n",
       "        text-align: right;\n",
       "    }\n",
       "</style>\n",
       "<table border=\"1\" class=\"dataframe\">\n",
       "  <thead>\n",
       "    <tr style=\"text-align: right;\">\n",
       "      <th></th>\n",
       "      <th># Height (cm)</th>\n",
       "      <th>Temperature (deg C)</th>\n",
       "    </tr>\n",
       "  </thead>\n",
       "  <tbody>\n",
       "    <tr>\n",
       "      <th>0</th>\n",
       "      <td>102</td>\n",
       "      <td>-9.5</td>\n",
       "    </tr>\n",
       "    <tr>\n",
       "      <th>1</th>\n",
       "      <td>100</td>\n",
       "      <td>-9.4</td>\n",
       "    </tr>\n",
       "    <tr>\n",
       "      <th>2</th>\n",
       "      <td>90</td>\n",
       "      <td>-11.5</td>\n",
       "    </tr>\n",
       "    <tr>\n",
       "      <th>3</th>\n",
       "      <td>80</td>\n",
       "      <td>-7.5</td>\n",
       "    </tr>\n",
       "    <tr>\n",
       "      <th>4</th>\n",
       "      <td>70</td>\n",
       "      <td>-5.2</td>\n",
       "    </tr>\n",
       "    <tr>\n",
       "      <th>5</th>\n",
       "      <td>60</td>\n",
       "      <td>-4.1</td>\n",
       "    </tr>\n",
       "    <tr>\n",
       "      <th>6</th>\n",
       "      <td>50</td>\n",
       "      <td>-3.5</td>\n",
       "    </tr>\n",
       "    <tr>\n",
       "      <th>7</th>\n",
       "      <td>40</td>\n",
       "      <td>-3.0</td>\n",
       "    </tr>\n",
       "    <tr>\n",
       "      <th>8</th>\n",
       "      <td>30</td>\n",
       "      <td>-2.5</td>\n",
       "    </tr>\n",
       "    <tr>\n",
       "      <th>9</th>\n",
       "      <td>20</td>\n",
       "      <td>-2.1</td>\n",
       "    </tr>\n",
       "    <tr>\n",
       "      <th>10</th>\n",
       "      <td>10</td>\n",
       "      <td>-1.5</td>\n",
       "    </tr>\n",
       "    <tr>\n",
       "      <th>11</th>\n",
       "      <td>0</td>\n",
       "      <td>-0.8</td>\n",
       "    </tr>\n",
       "  </tbody>\n",
       "</table>\n",
       "</div>"
      ],
      "text/plain": [
       "    # Height (cm)  Temperature (deg C)\n",
       "0             102                 -9.5\n",
       "1             100                 -9.4\n",
       "2              90                -11.5\n",
       "3              80                 -7.5\n",
       "4              70                 -5.2\n",
       "5              60                 -4.1\n",
       "6              50                 -3.5\n",
       "7              40                 -3.0\n",
       "8              30                 -2.5\n",
       "9              20                 -2.1\n",
       "10             10                 -1.5\n",
       "11              0                 -0.8"
      ]
     },
     "execution_count": 190,
     "metadata": {},
     "output_type": "execute_result"
    }
   ],
   "source": [
    "# with fs.open('/snowex-data/tutorial-data/core-datasets/pits/SnowEx20_SnowPits_GMIOP_20200128_5N19_temperature_v01.csv', 'rb') as f:\n",
    "with fs.open('/snowex-data/tutorial-data/core-datasets/pits/SnowEx20_SnowPits_GMIOP_{}_{}_{}_v01.csv'.format(date, pitID, parameter), 'rb') as f:\n",
    "    \n",
    "    t = pd.read_csv(f, header=7)\n",
    "t"
   ]
  },
  {
   "cell_type": "code",
   "execution_count": 191,
   "id": "closing-output",
   "metadata": {},
   "outputs": [
    {
     "data": {
      "text/plain": [
       "Text(0, 0.5, 'Snow Depth (cm)')"
      ]
     },
     "execution_count": 191,
     "metadata": {},
     "output_type": "execute_result"
    },
    {
     "data": {
      "image/png": "[encoded data removed]",
      "text/plain": [
       "<Figure size 576x396 with 1 Axes>"
      ]
     },
     "metadata": {
      "needs_background": "light"
     },
     "output_type": "display_data"
    }
   ],
   "source": [
    "# plot temperature\n",
    "t['Temperature (deg C)'].max()\n",
    "\n",
    "ax = t.plot(x='Temperature (deg C)',y='# Height (cm)', legend=False)\n",
    "ax.set_aspect(0.4)\n",
    "ax.grid()\n",
    "ax.set_title('pit {}: Temperature Profile'.format(pitID))\n",
    "ax.set_xlabel('Temperature (deg C)')\n",
    "ax.set_ylabel('Snow Depth (cm)')"
   ]
  },
  {
   "cell_type": "code",
   "execution_count": 192,
   "id": "offshore-blast",
   "metadata": {},
   "outputs": [
    {
     "data": {
      "text/html": [
       "<div>\n",
       "<style scoped>\n",
       "    .dataframe tbody tr th:only-of-type {\n",
       "        vertical-align: middle;\n",
       "    }\n",
       "\n",
       "    .dataframe tbody tr th {\n",
       "        vertical-align: top;\n",
       "    }\n",
       "\n",
       "    .dataframe thead th {\n",
       "        text-align: right;\n",
       "    }\n",
       "</style>\n",
       "<table border=\"1\" class=\"dataframe\">\n",
       "  <thead>\n",
       "    <tr style=\"text-align: right;\">\n",
       "      <th></th>\n",
       "      <th># Top (cm)</th>\n",
       "      <th>Bottom (cm)</th>\n",
       "      <th>Density A (kg/m3)</th>\n",
       "      <th>Density B (kg/m3)</th>\n",
       "      <th>Density C (kg/m3)</th>\n",
       "    </tr>\n",
       "  </thead>\n",
       "  <tbody>\n",
       "    <tr>\n",
       "      <th>0</th>\n",
       "      <td>102.0</td>\n",
       "      <td>92.0</td>\n",
       "      <td>136.0</td>\n",
       "      <td>138.0</td>\n",
       "      <td>NaN</td>\n",
       "    </tr>\n",
       "    <tr>\n",
       "      <th>1</th>\n",
       "      <td>92.0</td>\n",
       "      <td>82.0</td>\n",
       "      <td>193.0</td>\n",
       "      <td>192.0</td>\n",
       "      <td>NaN</td>\n",
       "    </tr>\n",
       "    <tr>\n",
       "      <th>2</th>\n",
       "      <td>82.0</td>\n",
       "      <td>72.0</td>\n",
       "      <td>232.0</td>\n",
       "      <td>221.0</td>\n",
       "      <td>NaN</td>\n",
       "    </tr>\n",
       "    <tr>\n",
       "      <th>3</th>\n",
       "      <td>72.0</td>\n",
       "      <td>62.0</td>\n",
       "      <td>262.0</td>\n",
       "      <td>260.0</td>\n",
       "      <td>NaN</td>\n",
       "    </tr>\n",
       "    <tr>\n",
       "      <th>4</th>\n",
       "      <td>62.0</td>\n",
       "      <td>52.0</td>\n",
       "      <td>275.0</td>\n",
       "      <td>278.0</td>\n",
       "      <td>NaN</td>\n",
       "    </tr>\n",
       "    <tr>\n",
       "      <th>5</th>\n",
       "      <td>52.0</td>\n",
       "      <td>42.0</td>\n",
       "      <td>261.0</td>\n",
       "      <td>252.0</td>\n",
       "      <td>NaN</td>\n",
       "    </tr>\n",
       "    <tr>\n",
       "      <th>6</th>\n",
       "      <td>42.0</td>\n",
       "      <td>32.0</td>\n",
       "      <td>267.0</td>\n",
       "      <td>269.0</td>\n",
       "      <td>NaN</td>\n",
       "    </tr>\n",
       "    <tr>\n",
       "      <th>7</th>\n",
       "      <td>32.0</td>\n",
       "      <td>22.0</td>\n",
       "      <td>336.0</td>\n",
       "      <td>367.0</td>\n",
       "      <td>NaN</td>\n",
       "    </tr>\n",
       "    <tr>\n",
       "      <th>8</th>\n",
       "      <td>22.0</td>\n",
       "      <td>12.0</td>\n",
       "      <td>268.0</td>\n",
       "      <td>246.0</td>\n",
       "      <td>NaN</td>\n",
       "    </tr>\n",
       "    <tr>\n",
       "      <th>9</th>\n",
       "      <td>12.0</td>\n",
       "      <td>2.0</td>\n",
       "      <td>262.0</td>\n",
       "      <td>271.0</td>\n",
       "      <td>NaN</td>\n",
       "    </tr>\n",
       "  </tbody>\n",
       "</table>\n",
       "</div>"
      ],
      "text/plain": [
       "   # Top (cm)  Bottom (cm)  Density A (kg/m3)  Density B (kg/m3)  \\\n",
       "0       102.0         92.0              136.0              138.0   \n",
       "1        92.0         82.0              193.0              192.0   \n",
       "2        82.0         72.0              232.0              221.0   \n",
       "3        72.0         62.0              262.0              260.0   \n",
       "4        62.0         52.0              275.0              278.0   \n",
       "5        52.0         42.0              261.0              252.0   \n",
       "6        42.0         32.0              267.0              269.0   \n",
       "7        32.0         22.0              336.0              367.0   \n",
       "8        22.0         12.0              268.0              246.0   \n",
       "9        12.0          2.0              262.0              271.0   \n",
       "\n",
       "   Density C (kg/m3)  \n",
       "0                NaN  \n",
       "1                NaN  \n",
       "2                NaN  \n",
       "3                NaN  \n",
       "4                NaN  \n",
       "5                NaN  \n",
       "6                NaN  \n",
       "7                NaN  \n",
       "8                NaN  \n",
       "9                NaN  "
      ]
     },
     "execution_count": 192,
     "metadata": {},
     "output_type": "execute_result"
    }
   ],
   "source": [
    "parameter = 'density'\n",
    "with fs.open('/snowex-data/tutorial-data/core-datasets/pits/SnowEx20_SnowPits_GMIOP_{}_{}_{}_v01.csv'.format(date, pitID, parameter), 'rb') as f:\n",
    "\n",
    "    d = pd.read_csv(f, header=7)\n",
    "d"
   ]
  },
  {
   "cell_type": "code",
   "execution_count": 193,
   "id": "waiting-closer",
   "metadata": {},
   "outputs": [
    {
     "data": {
      "text/html": [
       "<div>\n",
       "<style scoped>\n",
       "    .dataframe tbody tr th:only-of-type {\n",
       "        vertical-align: middle;\n",
       "    }\n",
       "\n",
       "    .dataframe tbody tr th {\n",
       "        vertical-align: top;\n",
       "    }\n",
       "\n",
       "    .dataframe thead th {\n",
       "        text-align: right;\n",
       "    }\n",
       "</style>\n",
       "<table border=\"1\" class=\"dataframe\">\n",
       "  <thead>\n",
       "    <tr style=\"text-align: right;\">\n",
       "      <th></th>\n",
       "      <th># Top (cm)</th>\n",
       "      <th>Bottom (cm)</th>\n",
       "      <th>Density A (kg/m3)</th>\n",
       "      <th>Density B (kg/m3)</th>\n",
       "      <th>Density C (kg/m3)</th>\n",
       "      <th>Avg Density (kg/m3)</th>\n",
       "    </tr>\n",
       "  </thead>\n",
       "  <tbody>\n",
       "    <tr>\n",
       "      <th>0</th>\n",
       "      <td>102.0</td>\n",
       "      <td>92.0</td>\n",
       "      <td>136.0</td>\n",
       "      <td>138.0</td>\n",
       "      <td>NaN</td>\n",
       "      <td>137.0</td>\n",
       "    </tr>\n",
       "    <tr>\n",
       "      <th>1</th>\n",
       "      <td>92.0</td>\n",
       "      <td>82.0</td>\n",
       "      <td>193.0</td>\n",
       "      <td>192.0</td>\n",
       "      <td>NaN</td>\n",
       "      <td>192.5</td>\n",
       "    </tr>\n",
       "    <tr>\n",
       "      <th>2</th>\n",
       "      <td>82.0</td>\n",
       "      <td>72.0</td>\n",
       "      <td>232.0</td>\n",
       "      <td>221.0</td>\n",
       "      <td>NaN</td>\n",
       "      <td>226.5</td>\n",
       "    </tr>\n",
       "    <tr>\n",
       "      <th>3</th>\n",
       "      <td>72.0</td>\n",
       "      <td>62.0</td>\n",
       "      <td>262.0</td>\n",
       "      <td>260.0</td>\n",
       "      <td>NaN</td>\n",
       "      <td>261.0</td>\n",
       "    </tr>\n",
       "    <tr>\n",
       "      <th>4</th>\n",
       "      <td>62.0</td>\n",
       "      <td>52.0</td>\n",
       "      <td>275.0</td>\n",
       "      <td>278.0</td>\n",
       "      <td>NaN</td>\n",
       "      <td>276.5</td>\n",
       "    </tr>\n",
       "    <tr>\n",
       "      <th>5</th>\n",
       "      <td>52.0</td>\n",
       "      <td>42.0</td>\n",
       "      <td>261.0</td>\n",
       "      <td>252.0</td>\n",
       "      <td>NaN</td>\n",
       "      <td>256.5</td>\n",
       "    </tr>\n",
       "    <tr>\n",
       "      <th>6</th>\n",
       "      <td>42.0</td>\n",
       "      <td>32.0</td>\n",
       "      <td>267.0</td>\n",
       "      <td>269.0</td>\n",
       "      <td>NaN</td>\n",
       "      <td>268.0</td>\n",
       "    </tr>\n",
       "    <tr>\n",
       "      <th>7</th>\n",
       "      <td>32.0</td>\n",
       "      <td>22.0</td>\n",
       "      <td>336.0</td>\n",
       "      <td>367.0</td>\n",
       "      <td>NaN</td>\n",
       "      <td>351.5</td>\n",
       "    </tr>\n",
       "    <tr>\n",
       "      <th>8</th>\n",
       "      <td>22.0</td>\n",
       "      <td>12.0</td>\n",
       "      <td>268.0</td>\n",
       "      <td>246.0</td>\n",
       "      <td>NaN</td>\n",
       "      <td>257.0</td>\n",
       "    </tr>\n",
       "    <tr>\n",
       "      <th>9</th>\n",
       "      <td>12.0</td>\n",
       "      <td>2.0</td>\n",
       "      <td>262.0</td>\n",
       "      <td>271.0</td>\n",
       "      <td>NaN</td>\n",
       "      <td>266.5</td>\n",
       "    </tr>\n",
       "  </tbody>\n",
       "</table>\n",
       "</div>"
      ],
      "text/plain": [
       "   # Top (cm)  Bottom (cm)  Density A (kg/m3)  Density B (kg/m3)  \\\n",
       "0       102.0         92.0              136.0              138.0   \n",
       "1        92.0         82.0              193.0              192.0   \n",
       "2        82.0         72.0              232.0              221.0   \n",
       "3        72.0         62.0              262.0              260.0   \n",
       "4        62.0         52.0              275.0              278.0   \n",
       "5        52.0         42.0              261.0              252.0   \n",
       "6        42.0         32.0              267.0              269.0   \n",
       "7        32.0         22.0              336.0              367.0   \n",
       "8        22.0         12.0              268.0              246.0   \n",
       "9        12.0          2.0              262.0              271.0   \n",
       "\n",
       "   Density C (kg/m3)  Avg Density (kg/m3)  \n",
       "0                NaN                137.0  \n",
       "1                NaN                192.5  \n",
       "2                NaN                226.5  \n",
       "3                NaN                261.0  \n",
       "4                NaN                276.5  \n",
       "5                NaN                256.5  \n",
       "6                NaN                268.0  \n",
       "7                NaN                351.5  \n",
       "8                NaN                257.0  \n",
       "9                NaN                266.5  "
      ]
     },
     "execution_count": 193,
     "metadata": {},
     "output_type": "execute_result"
    }
   ],
   "source": [
    "#average density columns\n",
    "d['Avg Density (kg/m3)'] = d[['Density A (kg/m3)', 'Density B (kg/m3)']].mean(axis=1)\n",
    "d"
   ]
  },
  {
   "cell_type": "code",
   "execution_count": 194,
   "id": "limiting-attachment",
   "metadata": {},
   "outputs": [
    {
     "data": {
      "text/plain": [
       "Text(0, 0.5, 'Snow Depth (cm)')"
      ]
     },
     "execution_count": 194,
     "metadata": {},
     "output_type": "execute_result"
    },
    {
     "data": {
      "image/png": "[encoded data removed]",
      "text/plain": [
       "<Figure size 576x396 with 1 Axes>"
      ]
     },
     "metadata": {
      "needs_background": "light"
     },
     "output_type": "display_data"
    }
   ],
   "source": [
    "\n",
    "def plot_density(ax, dataframe):\n",
    "    for index, row in dataframe.iterrows():\n",
    "        top = row['# Top (cm)']\n",
    "        bottom = row['Bottom (cm)']\n",
    "        dens = row[\"Avg Density (kg/m3)\"]\n",
    "        ax.plot([dens, dens],[bottom,top], color='blue', linewidth=4)\n",
    "\n",
    "        # plot a little cross\n",
    "        densA = row[\"Density A (kg/m3)\"]\n",
    "        densB = row[\"Density B (kg/m3)\"]\n",
    "        middle = bottom + 5.\n",
    "        ax.plot([densA, densB],[middle,middle], color='red')\n",
    "        \n",
    "    return ax\n",
    "\n",
    "fig, ax = plt.subplots()\n",
    "ax = plot_density(ax, d)\n",
    "ax.set_xlim(50, 400)\n",
    "ax.set_ylim(0, 140)\n",
    "ax.grid(color='lightgray', alpha=.5)\n",
    "ax.set_aspect(2)\n",
    "ax.set_title('pit {}: Density Profile'.format(pitID))\n",
    "ax.set_xlabel('Density kg/m3')\n",
    "ax.set_ylabel('Snow Depth (cm)')   "
   ]
  },
  {
   "cell_type": "code",
   "execution_count": null,
   "id": "graphic-amplifier",
   "metadata": {},
   "outputs": [],
   "source": []
  }
 ],
 "metadata": {
  "kernelspec": {
   "display_name": "Python 3",
   "language": "python",
   "name": "python3"
  },
  "language_info": {
   "codemirror_mode": {
    "name": "ipython",
    "version": 3
   },
   "file_extension": ".py",
   "mimetype": "text/x-python",
   "name": "python",
   "nbconvert_exporter": "python",
   "pygments_lexer": "ipython3",
   "version": "3.8.8"
  }
 },
 "nbformat": 4,
 "nbformat_minor": 5
}

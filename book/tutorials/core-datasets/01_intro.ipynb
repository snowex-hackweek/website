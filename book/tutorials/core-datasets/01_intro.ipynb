{
 "cells": [
  {
   "cell_type": "markdown",
   "id": "relevant-livestock",
   "metadata": {},
   "source": [
    "# SnowEx Mission and Core Data Sets Tutorial\n",
    "\n",
    "Tutorial objectives are: \n",
    "- Distinguish the different components of the core data\n",
    "- Describe the sampling design and naming convention\n",
    "- Extract datasets and/or locations of interest\n",
    "- Manipulate the data for use in analysis and cal/val\n",
    "- Create plots using the core ground data sets\n",
    "\n",
    "*add a nice image here, so people remember your topic!*\n",
    "TEST IMAGE BELOW\n",
    "<img src=\"images/COCPCP_density_temperature.png\">"
   ]
  },
  {
   "cell_type": "markdown",
   "id": "embedded-sunglasses",
   "metadata": {},
   "source": [
    "## SnowEx Background\n",
    "### What is the Mission of {SnowEx}'GRD'?\n",
    "\n",
    "The SnowEx mission aims to estimating snow water equivalent (SWE) globally from space. From a suite of remote sensing instrumentation over different snow classes the SnowEx community is working to develop retrevial algorithms to quantify SWE.\n",
    "\n",
    "### What are the CORE data sets and what makes them different from other data?\n",
    "\n",
    "The core data sets are standarized manual ground observations collected by SnowEx participants. These observations provide a legacy data set for the purposes of calibration and validation efforts for the remote sensing instruments. \n",
    "\n",
    "The Core Data Sets are: \n",
    "\n",
    "| Core Data Set Name | Parameters Available                                                                                                | Instruments                     |\n",
    "|--------------------|---------------------------------------------------------------------------------------------------------------------|---------------------------------|\n",
    "| Snow Pits          | Depth, Density, Liquid Water Content (LWC),  Temperature, Stratigraphy, Grain Size,  Hand Hardness, Manual Wetness  | Standard pit kit           |\n",
    "| Depth Transects    | Snow Depths - various sampling designs                                                                              | Depth probes, MagnaProbe, Mesa2 |\n",
    "| Interval Boards    | New snow, SWE                                                                                                       | Ruler and spring scale          |\n",
    "| Federal Sampler    | SWE                                                                                                                 | Federal Sampler                 |\n",
    "\n",
    "\n",
    "*add more here and improve the table (SSA, SMP, whatelse?)...*\n",
    "*add a photo of a snow pit!*\n"
   ]
  },
  {
   "cell_type": "markdown",
   "id": "laughing-practice",
   "metadata": {},
   "source": [
    "### What Locations have Core Data Sets? \n",
    "\n",
    "[add description here - tell everyone about Grand Mesa and the Time Series]"
   ]
  },
  {
   "cell_type": "markdown",
   "id": "continental-blanket",
   "metadata": {},
   "source": [
    "### What are some resouces I can use to know more about the available and antipicated core data sets? \n",
    "[link some resources here (ex. map of time series locations and sites codes)]"
   ]
  },
  {
   "cell_type": "markdown",
   "id": "stuffed-calvin",
   "metadata": {},
   "source": [
    "### How do I go about accessing data??\n",
    "See tutorials: \n",
    "    SQL data base, (Micah Johnson)\n",
    "    Earth Data, (Amy at NSIDC)"
   ]
  },
  {
   "cell_type": "markdown",
   "id": "radical-capital",
   "metadata": {},
   "source": [
    "## Intro"
   ]
  },
  {
   "cell_type": "code",
   "execution_count": null,
   "id": "final-feeling",
   "metadata": {},
   "outputs": [],
   "source": [
    "# show table of all 150+ snowpits --> pit-ID's, lat/lon, datetime, etc."
   ]
  },
  {
   "cell_type": "code",
   "execution_count": null,
   "id": "cognitive-joyce",
   "metadata": {},
   "outputs": [],
   "source": [
    "# image of pit/veg matrix and flight lines (use C.Hiemstra's image or maybe Micah has something in the db?)"
   ]
  },
  {
   "cell_type": "markdown",
   "id": "reliable-polish",
   "metadata": {},
   "source": [
    "(most of everything below here is part of the other two notebooks...delete soon)\n",
    "## Tutorial Example\n",
    "\n",
    "As a first stab at working with SnowEx data, let's work with the snow pit *[hyperlink nsidc DOI]* and depth *[hyperlink nsidc DOI]* data from the Grand Mesa 2020 Campaign. "
   ]
  },
  {
   "cell_type": "code",
   "execution_count": null,
   "id": "acoustic-concord",
   "metadata": {},
   "outputs": [],
   "source": [
    "# come up with some topics to suggest for an interactive demo\n",
    "    # sort pits by dry or wet (use manual wetness)\n",
    "    # find the graupel layer! or other crusts\n",
    "    # sort pits by large or small temp gradients (set a gradient threshold)\n",
    "    # categorize pits by shallow, medium, and deep zones (use the pit ID)"
   ]
  },
  {
   "cell_type": "code",
   "execution_count": null,
   "id": "adopted-conjunction",
   "metadata": {},
   "outputs": [],
   "source": [
    "#test code block here\n",
    "a = 'SnowEx'\n",
    "b = 'is'\n",
    "c = 'AWESOME!!'\n",
    "\n",
    "equ = a + b + c\n",
    "print(equ)"
   ]
  },
  {
   "cell_type": "code",
   "execution_count": null,
   "id": "environmental-annex",
   "metadata": {},
   "outputs": [],
   "source": [
    "#....consider breaking up into multiple notebooks\n",
    "    # intro, background, some images\n",
    "    # example to select, plot, query data (grand mesa)\n",
    "    # example to select, plot, query data (time series)\n",
    "    # ...etc...\n",
    "    \n",
    "# this might make more managable chunks for people to work through instead of scrolling 1 massive jbook."
   ]
  },
  {
   "cell_type": "code",
   "execution_count": null,
   "id": "soviet-kenya",
   "metadata": {},
   "outputs": [],
   "source": []
  }
 ],
 "metadata": {
  "kernelspec": {
   "display_name": "Python 3",
   "language": "python",
   "name": "python3"
  },
  "language_info": {
   "codemirror_mode": {
    "name": "ipython",
    "version": 3
   },
   "file_extension": ".py",
   "mimetype": "text/x-python",
   "name": "python",
   "nbconvert_exporter": "python",
   "pygments_lexer": "ipython3",
   "version": "3.8.8"
  }
 },
 "nbformat": 4,
 "nbformat_minor": 5
}

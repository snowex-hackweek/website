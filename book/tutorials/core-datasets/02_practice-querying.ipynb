{
 "cells": [
  {
   "cell_type": "code",
   "execution_count": null,
   "id": "threaded-retro",
   "metadata": {},
   "outputs": [],
   "source": [
    "# imports here\n",
    "\n",
    "# from snowsql.db import get_db\n",
    "# from snowxsql.data import SiteData, PointData\n",
    "# from snowxsql.conversions import query_to_geopandas"
   ]
  },
  {
   "cell_type": "code",
   "execution_count": null,
   "id": "adequate-astronomy",
   "metadata": {},
   "outputs": [],
   "source": [
    "# load the database\n",
    "\n",
    "# db_name = 'snowex'\n",
    "# engine, session = get_db(db_name)\n",
    "\n",
    "# sites = session.query(SiteData).limit(150)\n",
    "# layers = session.query(LayerData).limit(150)\n",
    "\n",
    "# df = query_to_geopandas(sites, engine)\n",
    "# df"
   ]
  },
  {
   "cell_type": "code",
   "execution_count": null,
   "id": "charitable-peninsula",
   "metadata": {},
   "outputs": [],
   "source": []
  },
  {
   "cell_type": "markdown",
   "id": "meaningful-tablet",
   "metadata": {},
   "source": [
    "### Example 1: \n",
    "grab all pits that overlap with lidar day(s)\n",
    "\n",
    "1). Have a known date in mind that you wish to select, here's how:\n",
    "\n",
    "2). Unsure of the date, but know which instrument you'd like to overlap with, here's how:"
   ]
  },
  {
   "cell_type": "code",
   "execution_count": null,
   "id": "labeled-cement",
   "metadata": {},
   "outputs": [],
   "source": []
  },
  {
   "cell_type": "code",
   "execution_count": null,
   "id": "framed-locator",
   "metadata": {},
   "outputs": [],
   "source": []
  },
  {
   "cell_type": "code",
   "execution_count": null,
   "id": "rapid-joyce",
   "metadata": {},
   "outputs": [],
   "source": []
  },
  {
   "cell_type": "markdown",
   "id": "warming-reducing",
   "metadata": {},
   "source": [
    "### Example 2: \n",
    "grab all pits based on flight line pattern\n",
    "\n",
    "1). only want to analyize pits from the 'N' flight line?\n",
    "\n",
    "2). what about the 'N' flight line for a 1 week period?"
   ]
  },
  {
   "cell_type": "code",
   "execution_count": null,
   "id": "integrated-christianity",
   "metadata": {},
   "outputs": [],
   "source": []
  },
  {
   "cell_type": "code",
   "execution_count": null,
   "id": "fifth-column",
   "metadata": {},
   "outputs": [],
   "source": []
  },
  {
   "cell_type": "code",
   "execution_count": null,
   "id": "interracial-tours",
   "metadata": {},
   "outputs": [],
   "source": []
  },
  {
   "cell_type": "markdown",
   "id": "organized-colonial",
   "metadata": {},
   "source": [
    "### Example 3: \n",
    "grab all pits based on the depth and vegetation matrix\n",
    "\n",
    "1). interested in isolating shallow pits? here's how: \n",
    "\n",
    "2). what about pits in dense canopy cover? "
   ]
  },
  {
   "cell_type": "code",
   "execution_count": null,
   "id": "difficult-thread",
   "metadata": {},
   "outputs": [],
   "source": []
  },
  {
   "cell_type": "code",
   "execution_count": null,
   "id": "extended-memphis",
   "metadata": {},
   "outputs": [],
   "source": []
  },
  {
   "cell_type": "code",
   "execution_count": null,
   "id": "acoustic-customer",
   "metadata": {},
   "outputs": [],
   "source": []
  }
 ],
 "metadata": {
  "kernelspec": {
   "display_name": "Python 3",
   "language": "python",
   "name": "python3"
  },
  "language_info": {
   "codemirror_mode": {
    "name": "ipython",
    "version": 3
   },
   "file_extension": ".py",
   "mimetype": "text/x-python",
   "name": "python",
   "nbconvert_exporter": "python",
   "pygments_lexer": "ipython3",
   "version": "3.8.8"
  }
 },
 "nbformat": 4,
 "nbformat_minor": 5
}

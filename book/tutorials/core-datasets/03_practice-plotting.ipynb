{
 "cells": [
  {
   "cell_type": "code",
   "execution_count": null,
   "id": "false-release",
   "metadata": {},
   "outputs": [],
   "source": [
    "# imports here"
   ]
  },
  {
   "cell_type": "markdown",
   "id": "republican-tourism",
   "metadata": {},
   "source": [
    "Distinguish pits by snow depth classes: 'shallow', 'medium', 'deep'"
   ]
  },
  {
   "cell_type": "markdown",
   "id": "recreational-badge",
   "metadata": {},
   "source": [
    "PLOT: #1 Density\n",
    "\n",
    "  - depth (cm) vs. density (kg/m3) for snow depth classes\n",
    "  - 3 colors: shallow (r), medium (g), deep (b)\n",
    "  - vertical bars to show the 10cm measurement increments (see ../images)  \n",
    "  - time period -- (hmm, all? single day? 1 week avg?)"
   ]
  },
  {
   "cell_type": "markdown",
   "id": "static-spectrum",
   "metadata": {},
   "source": [
    "PLOT: #2 Temperature\n",
    "\n",
    "  - depth (cm) vs. temperature (C) for snow depth classes\n",
    "  - 3 colors: shallow (r), medium (g), deep (b)\n",
    "  - x-axis is -10 to 0 (see ../images)  \n",
    "  - time period -- (hmm, all? single day? 1 week avg?)\n",
    "  - could plot all pits with light gray line (or group by depth classes in a light/transparent color) and then take the avg. of 'shallow', 'medium', 'deep' and plot with a bold color line"
   ]
  },
  {
   "cell_type": "markdown",
   "id": "amino-matter",
   "metadata": {},
   "source": [
    "PLOT: #3\n",
    "  - do something with stratigraphy here....still thinking on that..."
   ]
  },
  {
   "cell_type": "code",
   "execution_count": null,
   "id": "patent-biodiversity",
   "metadata": {},
   "outputs": [],
   "source": []
  }
 ],
 "metadata": {
  "kernelspec": {
   "display_name": "Python 3",
   "language": "python",
   "name": "python3"
  },
  "language_info": {
   "codemirror_mode": {
    "name": "ipython",
    "version": 3
   },
   "file_extension": ".py",
   "mimetype": "text/x-python",
   "name": "python",
   "nbconvert_exporter": "python",
   "pygments_lexer": "ipython3",
   "version": "3.8.8"
  }
 },
 "nbformat": 4,
 "nbformat_minor": 5
}
